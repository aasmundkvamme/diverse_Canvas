{
 "cells": [
  {
   "cell_type": "code",
   "execution_count": 1,
   "metadata": {},
   "outputs": [],
   "source": [
    "import requests\n",
    "import os\n",
    "import pandas as pd\n",
    "tokenCanvas = os.environ['tokenCanvas']\n",
    "\n",
    "headers = {\n",
    "    'Authorization': f'Bearer {tokenCanvas}',\n",
    "}\n",
    "params = {\n",
    "    'per_page': 100,\n",
    "}\n",
    "\n",
    "def rens_filnamn(filename):\n",
    "    return ''.join(char for char in filename if char.isascii() and char not in '<>:\"/\\\\|?*')"
   ]
  },
  {
   "cell_type": "markdown",
   "metadata": {},
   "source": [
    "# Hente diskusjonar\n",
    "Først henter eg alle diskusjonar i eit emne:"
   ]
  },
  {
   "cell_type": "code",
   "execution_count": 47,
   "metadata": {},
   "outputs": [
    {
     "name": "stdout",
     "output_type": "stream",
     "text": [
      "LEI300-1 20V_diskusjon_Sprsml om eksamen.txt\n",
      "LEI300-1 20V_diskusjon_Nettmte i morgon; test av Zoom og litt informasjon om undervisinga framover.txt\n",
      "LEI300-1 20V_diskusjon_Residuals p georefererte Dyngelandskart .txt\n",
      "LEI300-1 20V_diskusjon_Innfringar i grunnbkergammal grunnbokpanteregister.txt\n",
      "LEI300-1 20V_diskusjon_Semesteroppgva.txt\n",
      "LEI300-1 21V_diskusjon_Pskentter LEI300 vren 2021.txt\n",
      "LEI300-1 21V_diskusjon_Referanser i bymatrikulr oppgve.txt\n",
      "LEI300-1 21V_diskusjon_Sprsml knytt til semesteroppgva.txt\n",
      "LEI300-1 21V_diskusjon_Sprsml knytt til den 3. obligatoriske oppgva.txt\n",
      "LEI300-1 21V_diskusjon_Sprsml knytt til den 2. obligatoriske oppgva.txt\n",
      "LEI300-1 21V_diskusjon_Sprsml knytt til den 1. obligatoriske oppgva.txt\n",
      "LEI300-1 21V_diskusjon_Overordna (faglege) sprsml knytt til LEI300 - Eigedom, matrikkel og jordskifte.txt\n",
      "LEI300-1 22V_diskusjon_Pskentter 2022.txt\n",
      "LEI300-1 22V_diskusjon_Vis meg kartet ditt!.txt\n",
      "LEI300-1 22V_diskusjon_Sprsml knytt til den 1. obligatoriske oppgva.txt\n",
      "LEI300-1 22V_diskusjon_Sprsml knytt til den 2. obligatoriske oppgva.txt\n",
      "LEI300-1 22V_diskusjon_Sprsml knytt til den 3. obligatoriske oppgva.txt\n",
      "LEI300-1 22V_diskusjon_Sprsml knytt til semesteroppgva.txt\n",
      "LEI300-1 22V_diskusjon_Overordna (faglege) sprsml knytt til LEI300 - Eigedom, matrikkel og jordskifte.txt\n",
      "LEI300-1 23V_diskusjon_Sprsml knytt til den 3. obligatoriske oppgva.txt\n",
      "LEI300-1 23V_diskusjon_Sprsml knytt til den 2. obligatoriske oppgva.txt\n",
      "LEI300-1 23V_diskusjon_Sprsml knytt til den 1. obligatoriske oppgva.txt\n",
      "LEI300-1 23V_diskusjon_Vis meg kartet ditt!.txt\n",
      "LEI300-1 23V_diskusjon_Sprsml knytt til semesteroppgva.txt\n",
      "LEI300-1 23V_diskusjon_Overordna (faglege) sprsml til LEI300 .txt\n",
      "LEI300-1 23V_diskusjon_Pskentter 2023.txt\n",
      "LEI300-1 24V_diskusjon_Sprsml OBLIG 3. Noen som vet hva dette str for, og hva det betyr.txt\n",
      "LEI300-1 24V_diskusjon_Gebyrregulativ.txt\n",
      "LEI300-1 24V_diskusjon_Pskentter 2024.txt\n",
      "LEI300-1 24V_diskusjon_Vis meg kartet ditt!.txt\n",
      "LEI300-1 24V_diskusjon_Sprsml knytt til den 1. obligatoriske oppgva.txt\n",
      "LEI300-1 24V_diskusjon_Sprsml knytt til den 2. obligatoriske oppgva.txt\n",
      "LEI300-1 24V_diskusjon_Sprsml knytt til den 3. obligatoriske oppgva.txt\n",
      "LEI300-1 24V_diskusjon_Kva skjedde her.txt\n",
      "LEI300-1 24V_diskusjon_Sprsml knytt til semesteroppgva.txt\n",
      "LEI300-1 24V_diskusjon_Overordna (faglege) sprsml til LEI300 .txt\n",
      "LEI300-1 25V_diskusjon_Sprsml til den 3. obligatoriske oppgva.txt\n",
      "LEI300-1 25V_diskusjon_Sprsml til den 2. obligatoriske oppgva.txt\n",
      "LEI300-1 25V_diskusjon_Sprsml til den 1. obligatoriske oppgva.txt\n",
      "LEI300-1 25V_diskusjon_Pskentter 2025.txt\n",
      "LEI300-1 25V_diskusjon_Sprsml til eksamen.txt\n",
      "LEI300-1 25V_diskusjon_Sprsml til semesteroppgva.txt\n",
      "LEI300-1 25V_diskusjon_LEI300 - Arts (memes og anna sky skal inn her)!.txt\n",
      "LEI300-1 25V_diskusjon_Overordna (faglege) sprsml til LEI300 .txt\n"
     ]
    }
   ],
   "source": [
    "emnekodar = [10984, 13929, 18454, 22112, 25933, 29421]\n",
    "for emne in emnekodar:\n",
    "    url = f\"https://hvl.instructure.com/api/v1/courses/{emne}\"\n",
    "    respons = requests.get(url, headers=headers)\n",
    "    emnenamn = respons.json()[\"course_code\"]\n",
    "    url = f\"https://hvl.instructure.com/api/v1/courses/{emne}/discussion_topics\"\n",
    "    respons = requests.get(url, headers=headers)\n",
    "    respons.json()\n",
    "    diskusjonar = []\n",
    "    for diskusjon in respons.json():\n",
    "        diskusjonar.append([diskusjon[\"id\"], diskusjon[\"title\"]])\n",
    "    for diskusjon in diskusjonar:\n",
    "        url = f\"https://hvl.instructure.com/api/v1/courses/{emne}/discussion_topics/{diskusjon[0]}/view\"\n",
    "        respons = requests.get(url, headers=headers).json()\n",
    "        filnamn = f\"{emnenamn}_diskusjon_{diskusjon[1]}.txt\"\n",
    "        filnamn = rens_filnamn(filnamn)\n",
    "        print(filnamn)\n",
    "        tekst = []\n",
    "        if 'view' in respons:\n",
    "            for innlegg in respons['view']:\n",
    "                if 'message' in innlegg:\n",
    "                    tekst.append(innlegg['message'])\n",
    "                    if 'replies' in innlegg:\n",
    "                        for svar in innlegg['replies']:\n",
    "                            if 'message' in svar:\n",
    "                                tekst.append(svar['message'])\n",
    "        tekst = \"\\n\".join(tekst)\n",
    "        with open(filnamn, \"w\", encoding=\"utf-8\") as fil:\n",
    "            fil.write(tekst)\n"
   ]
  },
  {
   "cell_type": "code",
   "execution_count": 10,
   "metadata": {},
   "outputs": [
    {
     "name": "stdout",
     "output_type": "stream",
     "text": [
      "404\n"
     ]
    },
    {
     "data": {
      "text/plain": [
       "{'errors': [{'message': 'The specified resource does not exist.'}]}"
      ]
     },
     "execution_count": 10,
     "metadata": {},
     "output_type": "execute_result"
    }
   ],
   "source": [
    "url = f\"https://hvl.instructure.com/api/v1/courses/29421/discussion_topics/375563/view\"\n",
    "# url = f\"https://hvl.instructure.com/api/v1/courses/29421/discussion_topics/388852/entry_list\"\n",
    "r = requests.get(url, headers=headers)\n",
    "print(r.status_code)\n",
    "r.json()"
   ]
  },
  {
   "cell_type": "code",
   "execution_count": null,
   "metadata": {},
   "outputs": [],
   "source": []
  }
 ],
 "metadata": {
  "kernelspec": {
   "display_name": "Python 3",
   "language": "python",
   "name": "python3"
  },
  "language_info": {
   "codemirror_mode": {
    "name": "ipython",
    "version": 3
   },
   "file_extension": ".py",
   "mimetype": "text/x-python",
   "name": "python",
   "nbconvert_exporter": "python",
   "pygments_lexer": "ipython3",
   "version": "3.12.3"
  }
 },
 "nbformat": 4,
 "nbformat_minor": 2
}
