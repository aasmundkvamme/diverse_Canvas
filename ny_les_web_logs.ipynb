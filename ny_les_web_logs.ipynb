{
 "cells": [
  {
   "cell_type": "code",
   "execution_count": 14,
   "metadata": {},
   "outputs": [],
   "source": [
    "import requests\n",
    "from datetime import date, datetime, timedelta\n",
    "import time\n",
    "import os\n",
    "import glob\n",
    "import logging\n",
    "import akvut\n",
    "import pyodbc\n",
    "from io import BytesIO\n",
    "import gzip\n",
    "import pandas as pd\n",
    "\n",
    "\n",
    "idag = date.today().isoformat()\n",
    "logger = akvut.lag_logger(f'loggfil-les_web_logs-{idag}.log')\n",
    "\n"
   ]
  },
  {
   "cell_type": "code",
   "execution_count": 2,
   "metadata": {},
   "outputs": [
    {
     "name": "stderr",
     "output_type": "stream",
     "text": [
      "2025-01-21 13:13:54,614 - my_logger - INFO - Henta access_token OK.\n"
     ]
    }
   ],
   "source": [
    "  access_token = akvut.les_access_token(logger)"
   ]
  },
  {
   "cell_type": "code",
   "execution_count": 3,
   "metadata": {},
   "outputs": [],
   "source": [
    "sist_oppdatert = (datetime.now() - timedelta(days=1)).isoformat() + \"Z\""
   ]
  },
  {
   "cell_type": "code",
   "execution_count": 4,
   "metadata": {},
   "outputs": [
    {
     "name": "stderr",
     "output_type": "stream",
     "text": [
      "2025-01-21 13:14:01,607 - my_logger - INFO - Sender (inkrementel) spørjing til https://api-gateway.instructure.com/dap/query/canvas_logs/table/web_logs/data\n",
      "2025-01-21 13:14:02,335 - my_logger - INFO - Sjekker status på jobb 9589bc84-7439-43d4-8743-4e9af0a9e95d\n",
      "2025-01-21 13:14:07,839 - my_logger - INFO - Sjekker status på jobb 9589bc84-7439-43d4-8743-4e9af0a9e95d\n",
      "2025-01-21 13:14:13,741 - my_logger - INFO - Sjekker status på jobb 9589bc84-7439-43d4-8743-4e9af0a9e95d\n",
      "2025-01-21 13:14:19,172 - my_logger - INFO - Sjekker status på jobb 9589bc84-7439-43d4-8743-4e9af0a9e95d\n",
      "2025-01-21 13:14:24,969 - my_logger - INFO - Sjekker status på jobb 9589bc84-7439-43d4-8743-4e9af0a9e95d\n",
      "2025-01-21 13:14:30,410 - my_logger - INFO - Sjekker status på jobb 9589bc84-7439-43d4-8743-4e9af0a9e95d\n",
      "2025-01-21 13:14:35,853 - my_logger - INFO - Sjekker status på jobb 9589bc84-7439-43d4-8743-4e9af0a9e95d\n",
      "2025-01-21 13:14:41,287 - my_logger - INFO - Sjekker status på jobb 9589bc84-7439-43d4-8743-4e9af0a9e95d\n",
      "2025-01-21 13:14:46,706 - my_logger - INFO - Sjekker status på jobb 9589bc84-7439-43d4-8743-4e9af0a9e95d\n",
      "2025-01-21 13:14:52,121 - my_logger - INFO - Sjekker status på jobb 9589bc84-7439-43d4-8743-4e9af0a9e95d\n",
      "2025-01-21 13:14:57,750 - my_logger - INFO - Sjekker status på jobb 9589bc84-7439-43d4-8743-4e9af0a9e95d\n",
      "2025-01-21 13:15:03,211 - my_logger - INFO - Sjekker status på jobb 9589bc84-7439-43d4-8743-4e9af0a9e95d\n",
      "2025-01-21 13:15:08,693 - my_logger - INFO - Sjekker status på jobb 9589bc84-7439-43d4-8743-4e9af0a9e95d\n",
      "2025-01-21 13:15:14,268 - my_logger - INFO - Sjekker status på jobb 9589bc84-7439-43d4-8743-4e9af0a9e95d\n",
      "2025-01-21 13:15:20,034 - my_logger - INFO - Sjekker status på jobb 9589bc84-7439-43d4-8743-4e9af0a9e95d\n",
      "2025-01-21 13:15:25,491 - my_logger - INFO - Sjekker status på jobb 9589bc84-7439-43d4-8743-4e9af0a9e95d\n",
      "2025-01-21 13:15:31,102 - my_logger - INFO - Sjekker status på jobb 9589bc84-7439-43d4-8743-4e9af0a9e95d\n",
      "2025-01-21 13:15:36,509 - my_logger - INFO - Sjekker status på jobb 9589bc84-7439-43d4-8743-4e9af0a9e95d\n",
      "2025-01-21 13:15:41,927 - my_logger - INFO - Sjekker status på jobb 9589bc84-7439-43d4-8743-4e9af0a9e95d\n",
      "2025-01-21 13:15:47,314 - my_logger - INFO - Sjekker status på jobb 9589bc84-7439-43d4-8743-4e9af0a9e95d\n",
      "2025-01-21 13:15:52,750 - my_logger - INFO - Sjekker status på jobb 9589bc84-7439-43d4-8743-4e9af0a9e95d\n",
      "2025-01-21 13:15:58,439 - my_logger - INFO - Sjekker status på jobb 9589bc84-7439-43d4-8743-4e9af0a9e95d\n",
      "2025-01-21 13:16:04,048 - my_logger - INFO - Sjekker status på jobb 9589bc84-7439-43d4-8743-4e9af0a9e95d\n",
      "2025-01-21 13:16:09,560 - my_logger - INFO - Sjekker status på jobb 9589bc84-7439-43d4-8743-4e9af0a9e95d\n",
      "2025-01-21 13:16:14,974 - my_logger - INFO - Sjekker status på jobb 9589bc84-7439-43d4-8743-4e9af0a9e95d\n",
      "2025-01-21 13:16:20,494 - my_logger - INFO - Sjekker status på jobb 9589bc84-7439-43d4-8743-4e9af0a9e95d\n",
      "2025-01-21 13:16:26,070 - my_logger - INFO - Sjekker status på jobb 9589bc84-7439-43d4-8743-4e9af0a9e95d\n",
      "2025-01-21 13:16:31,470 - my_logger - INFO - Sjekker status på jobb 9589bc84-7439-43d4-8743-4e9af0a9e95d\n",
      "2025-01-21 13:16:36,911 - my_logger - INFO - Sjekker status på jobb 9589bc84-7439-43d4-8743-4e9af0a9e95d\n",
      "2025-01-21 13:16:42,330 - my_logger - INFO - Sjekker status på jobb 9589bc84-7439-43d4-8743-4e9af0a9e95d\n",
      "2025-01-21 13:16:47,803 - my_logger - INFO - Sjekker status på jobb 9589bc84-7439-43d4-8743-4e9af0a9e95d\n",
      "2025-01-21 13:16:53,712 - my_logger - INFO - Status oppdatert\n"
     ]
    }
   ],
   "source": [
    "start_sjekk_status = time.perf_counter()\n",
    "requesturl = \"https://api-gateway.instructure.com/dap/query/canvas_logs/table/web_logs/data\"\n",
    "payload = '{\"format\": \"csv\", \"since\": \\\"%s\\\"}' % (sist_oppdatert)\n",
    "headers = {'x-instauth': access_token, 'Content-Type': 'text/plain'}\n",
    "logger.info(f\"Sender (inkrementel) spørjing til {requesturl}\")\n",
    "r = requests.request(\n",
    "    \"POST\",\n",
    "    requesturl,\n",
    "    headers=headers,\n",
    "    data=payload\n",
    ")\n",
    "if r.status_code == 200:\n",
    "    respons = r.json()\n",
    "    id = respons['id']\n",
    "    vent = True\n",
    "    while vent:\n",
    "        logger.info(f\"Sjekker status på jobb {id}\")\n",
    "        requesturl = f\"https://api-gateway.instructure.com/dap//job/{id}\"\n",
    "        r2 = requests.request(\"GET\", requesturl, headers=headers)\n",
    "        respons2 = r2.json()\n",
    "        if respons2['status'] == \"complete\":\n",
    "            vent = False\n",
    "        time.sleep(5)\n",
    "    logger.info(\"Status oppdatert\")\n",
    "else:\n",
    "    logger.error(f\"Feil i spørjing, kode {r.status_code}\")\n",
    "antal = len(respons2['objects'])\n",
    "tidsbruk_sjekk_status = time.perf_counter() - start_sjekk_status\n",
    "logging.info(f\"Totalt for sjekk_status: {tidsbruk_sjekk_status}\")"
   ]
  },
  {
   "cell_type": "code",
   "execution_count": 5,
   "metadata": {},
   "outputs": [],
   "source": [
    "start_hent_filar = time.perf_counter()\n",
    "web_logs_i_dag = []"
   ]
  },
  {
   "cell_type": "code",
   "execution_count": 6,
   "metadata": {},
   "outputs": [],
   "source": [
    "innfil = respons2['objects'][0]['id']\n",
    "payload = f\"{respons2['objects']}\""
   ]
  },
  {
   "cell_type": "code",
   "execution_count": 7,
   "metadata": {},
   "outputs": [],
   "source": [
    "requesturl = \"https://api-gateway.instructure.com/dap/object/url\"\n",
    "payload = payload.replace('\\'', '\\\"')\n",
    "headers = {\n",
    "    'x-instauth': access_token,\n",
    "    'Content-Type': 'text/plain'\n",
    "}\n",
    "    "
   ]
  },
  {
   "cell_type": "code",
   "execution_count": 8,
   "metadata": {},
   "outputs": [],
   "source": [
    "r4 = requests.request(\n",
    "    \"POST\",\n",
    "    requesturl,\n",
    "    headers=headers,\n",
    "    data=payload\n",
    ")"
   ]
  },
  {
   "cell_type": "code",
   "execution_count": 9,
   "metadata": {},
   "outputs": [],
   "source": [
    "respons4 = r4.json()\n",
    "url = respons4['urls'][innfil]['url']\n",
    "data = requests.request(\"GET\", url)\n"
   ]
  },
  {
   "cell_type": "code",
   "execution_count": 15,
   "metadata": {},
   "outputs": [],
   "source": [
    "with gzip.open(BytesIO(data.content), 'rb') as f:\n",
    "    # Assuming the file is a CSV inside the .gz\n",
    "    df = pd.read_csv(f)"
   ]
  }
 ],
 "metadata": {
  "kernelspec": {
   "display_name": "Python 3",
   "language": "python",
   "name": "python3"
  },
  "language_info": {
   "codemirror_mode": {
    "name": "ipython",
    "version": 3
   },
   "file_extension": ".py",
   "mimetype": "text/x-python",
   "name": "python",
   "nbconvert_exporter": "python",
   "pygments_lexer": "ipython3",
   "version": "3.12.3"
  }
 },
 "nbformat": 4,
 "nbformat_minor": 2
}
