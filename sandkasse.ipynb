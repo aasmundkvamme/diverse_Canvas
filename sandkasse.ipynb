{
 "cells": [
  {
   "cell_type": "code",
   "execution_count": 1,
   "metadata": {},
   "outputs": [],
   "source": [
    "import pandas as pd\n",
    "import requests\n",
    "import os\n",
    "from datetime import time, date\n",
    "hode = {\n",
    "    'Authorization': f'Bearer {os.environ[\"tokenCanvas\"]}',\n",
    "}\n",
    "parametre = {'per_page': 100}"
   ]
  },
  {
   "cell_type": "code",
   "execution_count": 17,
   "metadata": {},
   "outputs": [
    {
     "name": "stdout",
     "output_type": "stream",
     "text": [
      "https://hvl.instructure.com/api/v1/users/19731/logins\n"
     ]
    }
   ],
   "source": [
    "user_id = 19731\n",
    "url = f\"https://hvl.instructure.com/api/v1/users/{user_id}/logins\"\n",
    "print(url)\n",
    "respons = requests.get(url, headers=hode, params=parametre)"
   ]
  },
  {
   "cell_type": "code",
   "execution_count": 18,
   "metadata": {},
   "outputs": [
    {
     "data": {
      "text/plain": [
       "[{'id': 20147,\n",
       "  'user_id': 19731,\n",
       "  'account_id': 1,\n",
       "  'workflow_state': 'active',\n",
       "  'unique_id': '578035@hvl.no',\n",
       "  'created_at': '2018-08-02T01:26:32Z',\n",
       "  'sis_user_id': 'fs:203:714195',\n",
       "  'integration_id': None,\n",
       "  'authentication_provider_id': None,\n",
       "  'declared_user_type': None}]"
      ]
     },
     "execution_count": 18,
     "metadata": {},
     "output_type": "execute_result"
    }
   ],
   "source": [
    "respons.json()"
   ]
  },
  {
   "cell_type": "code",
   "execution_count": null,
   "metadata": {},
   "outputs": [],
   "source": []
  }
 ],
 "metadata": {
  "kernelspec": {
   "display_name": "Python 3",
   "language": "python",
   "name": "python3"
  },
  "language_info": {
   "codemirror_mode": {
    "name": "ipython",
    "version": 3
   },
   "file_extension": ".py",
   "mimetype": "text/x-python",
   "name": "python",
   "nbconvert_exporter": "python",
   "pygments_lexer": "ipython3",
   "version": "3.12.3"
  }
 },
 "nbformat": 4,
 "nbformat_minor": 2
}
