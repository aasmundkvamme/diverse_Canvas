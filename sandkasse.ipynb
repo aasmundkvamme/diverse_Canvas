{
 "cells": [
  {
   "cell_type": "code",
   "execution_count": 1,
   "metadata": {},
   "outputs": [],
   "source": [
    "import pandas as pd\n",
    "data = pd.read_csv(\"/home/aasmund/diverse_Canvas/ny_history.csv\", dtype=str)"
   ]
  },
  {
   "cell_type": "code",
   "execution_count": 2,
   "metadata": {},
   "outputs": [
    {
     "name": "stdout",
     "output_type": "stream",
     "text": [
      "<class 'pandas.core.frame.DataFrame'>\n",
      "RangeIndex: 465596 entries, 0 to 465595\n",
      "Data columns (total 8 columns):\n",
      " #   Column                              Non-Null Count   Dtype \n",
      "---  ------                              --------------   ----- \n",
      " 0   value.timestamp                     465596 non-null  object\n",
      " 1   value.url                           465596 non-null  object\n",
      " 2   value.user_id                       465596 non-null  object\n",
      " 3   value.course_id                     211697 non-null  object\n",
      " 4   value.web_application_controller    465502 non-null  object\n",
      " 5   value.web_application_action        465502 non-null  object\n",
      " 6   value.web_application_context_type  243833 non-null  object\n",
      " 7   dato                                465596 non-null  object\n",
      "dtypes: object(8)\n",
      "memory usage: 28.4+ MB\n"
     ]
    }
   ],
   "source": [
    "data.info()"
   ]
  },
  {
   "cell_type": "code",
   "execution_count": 4,
   "metadata": {},
   "outputs": [
    {
     "data": {
      "text/plain": [
       "dato\n",
       "2025-01-28    458777\n",
       "2025-01-29      6819\n",
       "Name: count, dtype: int64"
      ]
     },
     "execution_count": 4,
     "metadata": {},
     "output_type": "execute_result"
    }
   ],
   "source": []
  },
  {
   "cell_type": "code",
   "execution_count": null,
   "metadata": {},
   "outputs": [],
   "source": []
  }
 ],
 "metadata": {
  "kernelspec": {
   "display_name": "Python 3",
   "language": "python",
   "name": "python3"
  },
  "language_info": {
   "codemirror_mode": {
    "name": "ipython",
    "version": 3
   },
   "file_extension": ".py",
   "mimetype": "text/x-python",
   "name": "python",
   "nbconvert_exporter": "python",
   "pygments_lexer": "ipython3",
   "version": "3.12.3"
  }
 },
 "nbformat": 4,
 "nbformat_minor": 2
}
