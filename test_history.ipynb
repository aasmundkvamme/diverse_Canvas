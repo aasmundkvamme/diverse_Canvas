{
 "cells": [
  {
   "cell_type": "markdown",
   "metadata": {},
   "source": [
    "# Lese web_logs som Canvas_history\n",
    "Først importerer eg alle nødvendige funksjonar:"
   ]
  },
  {
   "cell_type": "code",
   "execution_count": 162,
   "metadata": {},
   "outputs": [],
   "source": [
    "import akvut\n",
    "import pandas as pd\n"
   ]
  },
  {
   "cell_type": "markdown",
   "metadata": {},
   "source": [
    "Så les eg `web_logs` frå det siste døgeret (det tok 3'49.8''):"
   ]
  },
  {
   "cell_type": "code",
   "execution_count": 3,
   "metadata": {},
   "outputs": [
    {
     "name": "stderr",
     "output_type": "stream",
     "text": [
      "2025-02-11 08:11:00,778 - my_logger - INFO - Henta access_token OK.\n",
      "2025-02-11 08:11:00,778 - my_logger - INFO - Henta access_token OK.\n",
      "2025-02-11 08:11:00,788 - my_logger - INFO - payload er {\"format\": \"csv\", \"since\": \"2025-02-10T08:11:00.788740Z\"}\n",
      "2025-02-11 08:11:00,788 - my_logger - INFO - payload er {\"format\": \"csv\", \"since\": \"2025-02-10T08:11:00.788740Z\"}\n",
      "2025-02-11 08:11:00,793 - my_logger - INFO - Sender (inkrementel) spørjing til https://api-gateway.instructure.com/dap/query/canvas_logs/table/web_logs/data\n",
      "2025-02-11 08:11:00,793 - my_logger - INFO - Sender (inkrementel) spørjing til https://api-gateway.instructure.com/dap/query/canvas_logs/table/web_logs/data\n"
     ]
    },
    {
     "name": "stdout",
     "output_type": "stream",
     "text": [
      "Har ikkje henta frå Azure\n"
     ]
    },
    {
     "name": "stderr",
     "output_type": "stream",
     "text": [
      "2025-02-11 08:11:01,605 - my_logger - INFO - Sjekker status på jobb 37c15967-ed7f-44bb-a0e2-eef70c94f084\n",
      "2025-02-11 08:11:01,605 - my_logger - INFO - Sjekker status på jobb 37c15967-ed7f-44bb-a0e2-eef70c94f084\n",
      "2025-02-11 08:11:07,123 - my_logger - INFO - Sjekker status på jobb 37c15967-ed7f-44bb-a0e2-eef70c94f084\n",
      "2025-02-11 08:11:07,123 - my_logger - INFO - Sjekker status på jobb 37c15967-ed7f-44bb-a0e2-eef70c94f084\n",
      "2025-02-11 08:11:12,686 - my_logger - INFO - Sjekker status på jobb 37c15967-ed7f-44bb-a0e2-eef70c94f084\n",
      "2025-02-11 08:11:12,686 - my_logger - INFO - Sjekker status på jobb 37c15967-ed7f-44bb-a0e2-eef70c94f084\n",
      "2025-02-11 08:11:18,165 - my_logger - INFO - Sjekker status på jobb 37c15967-ed7f-44bb-a0e2-eef70c94f084\n",
      "2025-02-11 08:11:18,165 - my_logger - INFO - Sjekker status på jobb 37c15967-ed7f-44bb-a0e2-eef70c94f084\n",
      "2025-02-11 08:11:23,697 - my_logger - INFO - Sjekker status på jobb 37c15967-ed7f-44bb-a0e2-eef70c94f084\n",
      "2025-02-11 08:11:23,697 - my_logger - INFO - Sjekker status på jobb 37c15967-ed7f-44bb-a0e2-eef70c94f084\n",
      "2025-02-11 08:11:29,199 - my_logger - INFO - Sjekker status på jobb 37c15967-ed7f-44bb-a0e2-eef70c94f084\n",
      "2025-02-11 08:11:29,199 - my_logger - INFO - Sjekker status på jobb 37c15967-ed7f-44bb-a0e2-eef70c94f084\n",
      "2025-02-11 08:11:34,656 - my_logger - INFO - Sjekker status på jobb 37c15967-ed7f-44bb-a0e2-eef70c94f084\n",
      "2025-02-11 08:11:34,656 - my_logger - INFO - Sjekker status på jobb 37c15967-ed7f-44bb-a0e2-eef70c94f084\n",
      "2025-02-11 08:11:40,148 - my_logger - INFO - Sjekker status på jobb 37c15967-ed7f-44bb-a0e2-eef70c94f084\n",
      "2025-02-11 08:11:40,148 - my_logger - INFO - Sjekker status på jobb 37c15967-ed7f-44bb-a0e2-eef70c94f084\n",
      "2025-02-11 08:11:45,736 - my_logger - INFO - Sjekker status på jobb 37c15967-ed7f-44bb-a0e2-eef70c94f084\n",
      "2025-02-11 08:11:45,736 - my_logger - INFO - Sjekker status på jobb 37c15967-ed7f-44bb-a0e2-eef70c94f084\n",
      "2025-02-11 08:11:51,408 - my_logger - INFO - Sjekker status på jobb 37c15967-ed7f-44bb-a0e2-eef70c94f084\n",
      "2025-02-11 08:11:51,408 - my_logger - INFO - Sjekker status på jobb 37c15967-ed7f-44bb-a0e2-eef70c94f084\n",
      "2025-02-11 08:11:57,101 - my_logger - INFO - Sjekker status på jobb 37c15967-ed7f-44bb-a0e2-eef70c94f084\n",
      "2025-02-11 08:11:57,101 - my_logger - INFO - Sjekker status på jobb 37c15967-ed7f-44bb-a0e2-eef70c94f084\n",
      "2025-02-11 08:12:02,555 - my_logger - INFO - Sjekker status på jobb 37c15967-ed7f-44bb-a0e2-eef70c94f084\n",
      "2025-02-11 08:12:02,555 - my_logger - INFO - Sjekker status på jobb 37c15967-ed7f-44bb-a0e2-eef70c94f084\n",
      "2025-02-11 08:12:08,100 - my_logger - INFO - Sjekker status på jobb 37c15967-ed7f-44bb-a0e2-eef70c94f084\n",
      "2025-02-11 08:12:08,100 - my_logger - INFO - Sjekker status på jobb 37c15967-ed7f-44bb-a0e2-eef70c94f084\n",
      "2025-02-11 08:12:13,600 - my_logger - INFO - Sjekker status på jobb 37c15967-ed7f-44bb-a0e2-eef70c94f084\n",
      "2025-02-11 08:12:13,600 - my_logger - INFO - Sjekker status på jobb 37c15967-ed7f-44bb-a0e2-eef70c94f084\n",
      "2025-02-11 08:12:19,137 - my_logger - INFO - Sjekker status på jobb 37c15967-ed7f-44bb-a0e2-eef70c94f084\n",
      "2025-02-11 08:12:19,137 - my_logger - INFO - Sjekker status på jobb 37c15967-ed7f-44bb-a0e2-eef70c94f084\n",
      "2025-02-11 08:12:24,620 - my_logger - INFO - Sjekker status på jobb 37c15967-ed7f-44bb-a0e2-eef70c94f084\n",
      "2025-02-11 08:12:24,620 - my_logger - INFO - Sjekker status på jobb 37c15967-ed7f-44bb-a0e2-eef70c94f084\n",
      "2025-02-11 08:12:30,120 - my_logger - INFO - Sjekker status på jobb 37c15967-ed7f-44bb-a0e2-eef70c94f084\n",
      "2025-02-11 08:12:30,120 - my_logger - INFO - Sjekker status på jobb 37c15967-ed7f-44bb-a0e2-eef70c94f084\n",
      "2025-02-11 08:12:35,597 - my_logger - INFO - Sjekker status på jobb 37c15967-ed7f-44bb-a0e2-eef70c94f084\n",
      "2025-02-11 08:12:35,597 - my_logger - INFO - Sjekker status på jobb 37c15967-ed7f-44bb-a0e2-eef70c94f084\n",
      "2025-02-11 08:12:41,058 - my_logger - INFO - Sjekker status på jobb 37c15967-ed7f-44bb-a0e2-eef70c94f084\n",
      "2025-02-11 08:12:41,058 - my_logger - INFO - Sjekker status på jobb 37c15967-ed7f-44bb-a0e2-eef70c94f084\n",
      "2025-02-11 08:12:46,553 - my_logger - INFO - Sjekker status på jobb 37c15967-ed7f-44bb-a0e2-eef70c94f084\n",
      "2025-02-11 08:12:46,553 - my_logger - INFO - Sjekker status på jobb 37c15967-ed7f-44bb-a0e2-eef70c94f084\n",
      "2025-02-11 08:12:52,055 - my_logger - INFO - Sjekker status på jobb 37c15967-ed7f-44bb-a0e2-eef70c94f084\n",
      "2025-02-11 08:12:52,055 - my_logger - INFO - Sjekker status på jobb 37c15967-ed7f-44bb-a0e2-eef70c94f084\n",
      "2025-02-11 08:12:57,556 - my_logger - INFO - Sjekker status på jobb 37c15967-ed7f-44bb-a0e2-eef70c94f084\n",
      "2025-02-11 08:12:57,556 - my_logger - INFO - Sjekker status på jobb 37c15967-ed7f-44bb-a0e2-eef70c94f084\n",
      "2025-02-11 08:13:03,037 - my_logger - INFO - Sjekker status på jobb 37c15967-ed7f-44bb-a0e2-eef70c94f084\n",
      "2025-02-11 08:13:03,037 - my_logger - INFO - Sjekker status på jobb 37c15967-ed7f-44bb-a0e2-eef70c94f084\n",
      "2025-02-11 08:13:08,610 - my_logger - INFO - Sjekker status på jobb 37c15967-ed7f-44bb-a0e2-eef70c94f084\n",
      "2025-02-11 08:13:08,610 - my_logger - INFO - Sjekker status på jobb 37c15967-ed7f-44bb-a0e2-eef70c94f084\n",
      "2025-02-11 08:13:14,075 - my_logger - INFO - Sjekker status på jobb 37c15967-ed7f-44bb-a0e2-eef70c94f084\n",
      "2025-02-11 08:13:14,075 - my_logger - INFO - Sjekker status på jobb 37c15967-ed7f-44bb-a0e2-eef70c94f084\n",
      "2025-02-11 08:13:19,575 - my_logger - INFO - Sjekker status på jobb 37c15967-ed7f-44bb-a0e2-eef70c94f084\n",
      "2025-02-11 08:13:19,575 - my_logger - INFO - Sjekker status på jobb 37c15967-ed7f-44bb-a0e2-eef70c94f084\n",
      "2025-02-11 08:13:25,073 - my_logger - INFO - Sjekker status på jobb 37c15967-ed7f-44bb-a0e2-eef70c94f084\n",
      "2025-02-11 08:13:25,073 - my_logger - INFO - Sjekker status på jobb 37c15967-ed7f-44bb-a0e2-eef70c94f084\n",
      "2025-02-11 08:13:30,571 - my_logger - INFO - Sjekker status på jobb 37c15967-ed7f-44bb-a0e2-eef70c94f084\n",
      "2025-02-11 08:13:30,571 - my_logger - INFO - Sjekker status på jobb 37c15967-ed7f-44bb-a0e2-eef70c94f084\n",
      "2025-02-11 08:13:36,213 - my_logger - INFO - Sjekker status på jobb 37c15967-ed7f-44bb-a0e2-eef70c94f084\n",
      "2025-02-11 08:13:36,213 - my_logger - INFO - Sjekker status på jobb 37c15967-ed7f-44bb-a0e2-eef70c94f084\n",
      "2025-02-11 08:13:41,691 - my_logger - INFO - Sjekker status på jobb 37c15967-ed7f-44bb-a0e2-eef70c94f084\n",
      "2025-02-11 08:13:41,691 - my_logger - INFO - Sjekker status på jobb 37c15967-ed7f-44bb-a0e2-eef70c94f084\n",
      "2025-02-11 08:13:47,149 - my_logger - INFO - Sjekker status på jobb 37c15967-ed7f-44bb-a0e2-eef70c94f084\n",
      "2025-02-11 08:13:47,149 - my_logger - INFO - Sjekker status på jobb 37c15967-ed7f-44bb-a0e2-eef70c94f084\n",
      "2025-02-11 08:13:52,607 - my_logger - INFO - Sjekker status på jobb 37c15967-ed7f-44bb-a0e2-eef70c94f084\n",
      "2025-02-11 08:13:52,607 - my_logger - INFO - Sjekker status på jobb 37c15967-ed7f-44bb-a0e2-eef70c94f084\n",
      "2025-02-11 08:13:58,129 - my_logger - INFO - Sjekker status på jobb 37c15967-ed7f-44bb-a0e2-eef70c94f084\n",
      "2025-02-11 08:13:58,129 - my_logger - INFO - Sjekker status på jobb 37c15967-ed7f-44bb-a0e2-eef70c94f084\n",
      "2025-02-11 08:14:03,606 - my_logger - INFO - Sjekker status på jobb 37c15967-ed7f-44bb-a0e2-eef70c94f084\n",
      "2025-02-11 08:14:03,606 - my_logger - INFO - Sjekker status på jobb 37c15967-ed7f-44bb-a0e2-eef70c94f084\n",
      "2025-02-11 08:14:09,153 - my_logger - INFO - Sjekker status på jobb 37c15967-ed7f-44bb-a0e2-eef70c94f084\n",
      "2025-02-11 08:14:09,153 - my_logger - INFO - Sjekker status på jobb 37c15967-ed7f-44bb-a0e2-eef70c94f084\n",
      "2025-02-11 08:14:14,665 - my_logger - INFO - Sjekker status på jobb 37c15967-ed7f-44bb-a0e2-eef70c94f084\n",
      "2025-02-11 08:14:14,665 - my_logger - INFO - Sjekker status på jobb 37c15967-ed7f-44bb-a0e2-eef70c94f084\n",
      "2025-02-11 08:14:20,172 - my_logger - INFO - Sjekker status på jobb 37c15967-ed7f-44bb-a0e2-eef70c94f084\n",
      "2025-02-11 08:14:20,172 - my_logger - INFO - Sjekker status på jobb 37c15967-ed7f-44bb-a0e2-eef70c94f084\n",
      "2025-02-11 08:14:25,647 - my_logger - INFO - Sjekker status på jobb 37c15967-ed7f-44bb-a0e2-eef70c94f084\n",
      "2025-02-11 08:14:25,647 - my_logger - INFO - Sjekker status på jobb 37c15967-ed7f-44bb-a0e2-eef70c94f084\n",
      "2025-02-11 08:14:31,131 - my_logger - INFO - Sjekker status på jobb 37c15967-ed7f-44bb-a0e2-eef70c94f084\n",
      "2025-02-11 08:14:31,131 - my_logger - INFO - Sjekker status på jobb 37c15967-ed7f-44bb-a0e2-eef70c94f084\n",
      "2025-02-11 08:14:36,606 - my_logger - INFO - Sjekker status på jobb 37c15967-ed7f-44bb-a0e2-eef70c94f084\n",
      "2025-02-11 08:14:36,606 - my_logger - INFO - Sjekker status på jobb 37c15967-ed7f-44bb-a0e2-eef70c94f084\n",
      "2025-02-11 08:14:42,084 - my_logger - INFO - Sjekker status på jobb 37c15967-ed7f-44bb-a0e2-eef70c94f084\n",
      "2025-02-11 08:14:42,084 - my_logger - INFO - Sjekker status på jobb 37c15967-ed7f-44bb-a0e2-eef70c94f084\n",
      "2025-02-11 08:14:47,589 - my_logger - INFO - Sjekker status på jobb 37c15967-ed7f-44bb-a0e2-eef70c94f084\n",
      "2025-02-11 08:14:47,589 - my_logger - INFO - Sjekker status på jobb 37c15967-ed7f-44bb-a0e2-eef70c94f084\n",
      "2025-02-11 08:14:53,065 - my_logger - INFO - Sjekker status på jobb 37c15967-ed7f-44bb-a0e2-eef70c94f084\n",
      "2025-02-11 08:14:53,065 - my_logger - INFO - Sjekker status på jobb 37c15967-ed7f-44bb-a0e2-eef70c94f084\n",
      "2025-02-11 08:14:58,583 - my_logger - INFO - Sjekker status på jobb 37c15967-ed7f-44bb-a0e2-eef70c94f084\n",
      "2025-02-11 08:14:58,583 - my_logger - INFO - Sjekker status på jobb 37c15967-ed7f-44bb-a0e2-eef70c94f084\n",
      "2025-02-11 08:15:04,127 - my_logger - INFO - Sjekker status på jobb 37c15967-ed7f-44bb-a0e2-eef70c94f084\n",
      "2025-02-11 08:15:04,127 - my_logger - INFO - Sjekker status på jobb 37c15967-ed7f-44bb-a0e2-eef70c94f084\n",
      "2025-02-11 08:15:09,666 - my_logger - INFO - Sjekker status på jobb 37c15967-ed7f-44bb-a0e2-eef70c94f084\n",
      "2025-02-11 08:15:09,666 - my_logger - INFO - Sjekker status på jobb 37c15967-ed7f-44bb-a0e2-eef70c94f084\n",
      "2025-02-11 08:15:15,144 - my_logger - INFO - Sjekker status på jobb 37c15967-ed7f-44bb-a0e2-eef70c94f084\n",
      "2025-02-11 08:15:15,144 - my_logger - INFO - Sjekker status på jobb 37c15967-ed7f-44bb-a0e2-eef70c94f084\n",
      "2025-02-11 08:15:20,626 - my_logger - INFO - Sjekker status på jobb 37c15967-ed7f-44bb-a0e2-eef70c94f084\n",
      "2025-02-11 08:15:20,626 - my_logger - INFO - Sjekker status på jobb 37c15967-ed7f-44bb-a0e2-eef70c94f084\n",
      "2025-02-11 08:15:26,122 - my_logger - INFO - Sjekker status på jobb 37c15967-ed7f-44bb-a0e2-eef70c94f084\n",
      "2025-02-11 08:15:26,122 - my_logger - INFO - Sjekker status på jobb 37c15967-ed7f-44bb-a0e2-eef70c94f084\n",
      "2025-02-11 08:15:31,642 - my_logger - INFO - Sjekker status på jobb 37c15967-ed7f-44bb-a0e2-eef70c94f084\n",
      "2025-02-11 08:15:31,642 - my_logger - INFO - Sjekker status på jobb 37c15967-ed7f-44bb-a0e2-eef70c94f084\n",
      "2025-02-11 08:15:37,138 - my_logger - INFO - Sjekker status på jobb 37c15967-ed7f-44bb-a0e2-eef70c94f084\n",
      "2025-02-11 08:15:37,138 - my_logger - INFO - Sjekker status på jobb 37c15967-ed7f-44bb-a0e2-eef70c94f084\n",
      "2025-02-11 08:15:42,602 - my_logger - INFO - Sjekker status på jobb 37c15967-ed7f-44bb-a0e2-eef70c94f084\n",
      "2025-02-11 08:15:42,602 - my_logger - INFO - Sjekker status på jobb 37c15967-ed7f-44bb-a0e2-eef70c94f084\n",
      "2025-02-11 08:15:48,786 - my_logger - INFO - Sjekker status på jobb 37c15967-ed7f-44bb-a0e2-eef70c94f084\n",
      "2025-02-11 08:15:48,786 - my_logger - INFO - Sjekker status på jobb 37c15967-ed7f-44bb-a0e2-eef70c94f084\n",
      "2025-02-11 08:15:54,278 - my_logger - INFO - Status oppdatert\n",
      "2025-02-11 08:15:54,278 - my_logger - INFO - Status oppdatert\n",
      "2025-02-11 08:15:54,290 - my_logger - INFO - Totalt for sjekk_status: 293.51635520000036\n",
      "2025-02-11 08:15:54,290 - my_logger - INFO - Totalt for sjekk_status: 293.51635520000036\n",
      "2025-02-11 08:15:54,294 - my_logger - INFO - Hentar datafil nr. 0\n",
      "2025-02-11 08:15:54,294 - my_logger - INFO - Hentar datafil nr. 0\n",
      "2025-02-11 08:16:20,056 - my_logger - INFO - Hentar datafil nr. 1\n",
      "2025-02-11 08:16:20,056 - my_logger - INFO - Hentar datafil nr. 1\n",
      "2025-02-11 08:16:50,482 - my_logger - INFO - Totalt for hent_filar: 56.190598500000306\n",
      "2025-02-11 08:16:50,482 - my_logger - INFO - Totalt for hent_filar: 56.190598500000306\n"
     ]
    },
    {
     "name": "stdout",
     "output_type": "stream",
     "text": [
      "Feil ved opplasting av sist oppdatert: ('IM002', '[IM002] [Microsoft][ODBC Driver Manager] Data source name not found and no default driver specified (0) (SQLDriverConnect); [IM002] [Microsoft][ODBC Driver Manager] Invalid connection string attribute (0)')\n",
      "<class 'pandas.core.frame.DataFrame'>\n",
      "Index: 3012150 entries, 0 to 1377796\n",
      "Data columns (total 25 columns):\n",
      " #   Column                              Dtype \n",
      "---  ------                              ----- \n",
      " 0   key.id                              object\n",
      " 1   value.timestamp                     object\n",
      " 2   value.user_id                       object\n",
      " 3   value.real_user_id                  object\n",
      " 4   value.course_id                     object\n",
      " 5   value.quiz_id                       object\n",
      " 6   value.discussion_id                 object\n",
      " 7   value.conversation_id               object\n",
      " 8   value.assignment_id                 object\n",
      " 9   value.url                           object\n",
      " 10  value.http_method                   object\n",
      " 11  value.http_status                   object\n",
      " 12  value.http_version                  object\n",
      " 13  value.remote_ip                     object\n",
      " 14  value.interaction_micros            object\n",
      " 15  value.web_application_controller    object\n",
      " 16  value.web_application_action        object\n",
      " 17  value.web_application_context_type  object\n",
      " 18  value.web_application_context_id    object\n",
      " 19  value.session_id                    object\n",
      " 20  value.developer_key_id              object\n",
      " 21  value.participated                  object\n",
      " 22  value.user_agent                    object\n",
      " 23  meta.ts                             object\n",
      " 24  meta.action                         object\n",
      "dtypes: object(25)\n",
      "memory usage: 597.5+ MB\n",
      "None\n"
     ]
    }
   ],
   "source": [
    "\n",
    "logger = akvut.lag_logger('timer.log')\n",
    "data = akvut.les_web_logs(logger)\n",
    "print(data.info())\n"
   ]
  },
  {
   "cell_type": "markdown",
   "metadata": {},
   "source": [
    "Når eg les `web_logs` lagrer eg rådata i ei fil (`ny_history_alle.csv`). Men eg kan no sende desse vidare til nye rutiner der eg henter ut andre typer data."
   ]
  },
  {
   "cell_type": "code",
   "execution_count": null,
   "metadata": {},
   "outputs": [],
   "source": [
    "\n",
    "akvut.ny_history(data, logger)"
   ]
  },
  {
   "cell_type": "markdown",
   "metadata": {},
   "source": [
    "## Alias\n",
    "Eg prøver å lage statistikk over kven som opptrer som kven. Her har eg `user_id` på dei mest vanlege superbrukarane, og så kan eg lage ei liste over \n",
    "\n",
    "- kven dei har opptrådd som\n",
    "- kor mange ganger dei har opptredd\n",
    "\n",
    "NB! Det er mange av desse som er \"Studentvising\", slik at det er mange \"user_id\" som ikkje finst.\n"
   ]
  },
  {
   "cell_type": "code",
   "execution_count": 163,
   "metadata": {},
   "outputs": [
    {
     "name": "stdout",
     "output_type": "stream",
     "text": [
      "Administrator: 2916 (Aasmund)\n",
      "6799: 480\n",
      "28799: 32\n",
      "31653: 22\n",
      "89604: 6\n",
      "Administrator: 12353 (Johan)\n",
      "35382: 38\n",
      "22082: 29\n",
      "Administrator: 26737 (Hege)\n",
      "110437: 18\n",
      "Administrator: 3990 (Dag Ove)\n",
      "109344: 59\n",
      "104760: 55\n",
      "101467: 45\n"
     ]
    }
   ],
   "source": [
    "alias = data[~data['value.real_user_id'].isnull()]\n",
    "adm_namn = {'2916': 'Aasmund', '12353': 'Johan', '3861': 'Casper', '3990': 'Dag Ove', '26737': 'Hege', '97393': 'Henrik', '35965': 'Jan Erik', '14186': 'Andreas Senneset Hove', '6': 'Ivar', '1703': 'Terje'}\n",
    "adm_liste = []\n",
    "for adm in [\"1703\", \"2916\", \"12353\", \"97393\", \"3861\", \"14186\", \"35965\", \"98283\", \"5036\", \"6\", \"86785\", \"26737\", \"3990\"]:\n",
    "    adm_liste.append({'user': adm, 'count': alias[alias['value.real_user_id'] == adm]['value.user_id'].value_counts()})\n",
    "for a in admliste:\n",
    "    if len(a['count']) > 0:\n",
    "        print(f\"Administrator: {a['user']} ({adm_namn[a['user']]})\")\n",
    "        for index, item in a['count'].items():\n",
    "            print(f\"{index}: {item}\")\n"
   ]
  },
  {
   "cell_type": "markdown",
   "metadata": {},
   "source": [
    "## Data (til history)\n",
    "Så til det eg eigentleg skulle gjere: hente ut data til U4-prosjektet. Det er tre krav:\n",
    "1. Feltet `user_id` må innehalde noko\n",
    "2. Feltet `value.http_status` skal være `200`\n",
    "3. Feltet `value.url` skal ikkje starte på \"/api/\""
   ]
  },
  {
   "cell_type": "code",
   "execution_count": 164,
   "metadata": {},
   "outputs": [],
   "source": [
    "utval = data[(data[\"value.user_id\"].notnull()) & (data[\"value.http_status\"].str.startswith(\"2\")) & (~data[\"value.url\"].str.startswith(\"/api/\"))]\n"
   ]
  },
  {
   "cell_type": "markdown",
   "metadata": {},
   "source": [
    "Det er litt usikkert kva vi skal bruke det til, men eg kan sende data til Håvard og be han plukke ut. "
   ]
  },
  {
   "cell_type": "code",
   "execution_count": 113,
   "metadata": {},
   "outputs": [],
   "source": [
    "utval.to_csv(\"history_250210_alle.csv\")"
   ]
  },
  {
   "cell_type": "markdown",
   "metadata": {},
   "source": [
    "Eg kan kanskje sende berre dei som er interessante (håper eg treff på utvalet):"
   ]
  },
  {
   "cell_type": "code",
   "execution_count": 165,
   "metadata": {},
   "outputs": [],
   "source": [
    "redusert_utval = utval[['value.timestamp', 'value.user_id', 'value.course_id', 'value.url', 'value.web_application_controller', 'value.web_application_action', 'value.web_application_context_type']]\n"
   ]
  },
  {
   "cell_type": "code",
   "execution_count": 166,
   "metadata": {},
   "outputs": [],
   "source": [
    "redusert_utval.to_csv(\"history_250210_redusert_utval.csv\")"
   ]
  },
  {
   "cell_type": "code",
   "execution_count": 167,
   "metadata": {},
   "outputs": [
    {
     "name": "stderr",
     "output_type": "stream",
     "text": [
      "C:\\Users\\AKV\\AppData\\Local\\Temp\\ipykernel_2900\\2458858629.py:1: SettingWithCopyWarning: \n",
      "A value is trying to be set on a copy of a slice from a DataFrame.\n",
      "Try using .loc[row_indexer,col_indexer] = value instead\n",
      "\n",
      "See the caveats in the documentation: https://pandas.pydata.org/pandas-docs/stable/user_guide/indexing.html#returning-a-view-versus-a-copy\n",
      "  redusert_utval['dato'] = redusert_utval['value.timestamp'].apply(lambda x: x[0:10])\n"
     ]
    }
   ],
   "source": [
    "redusert_utval['dato'] = redusert_utval['value.timestamp'].apply(lambda x: x[0:10])"
   ]
  },
  {
   "cell_type": "markdown",
   "metadata": {},
   "source": [
    "Eg kan lage ei liste over kor mange aktive hendingar det er per student:"
   ]
  },
  {
   "cell_type": "code",
   "execution_count": 168,
   "metadata": {},
   "outputs": [
    {
     "data": {
      "text/plain": [
       "value.user_id\n",
       "102235    848\n",
       "94321     472\n",
       "66147     432\n",
       "103560    427\n",
       "93294     390\n",
       "         ... \n",
       "103655      1\n",
       "4802        1\n",
       "89604       1\n",
       "93552       1\n",
       "7930        1\n",
       "Name: count, Length: 12256, dtype: int64"
      ]
     },
     "execution_count": 168,
     "metadata": {},
     "output_type": "execute_result"
    }
   ],
   "source": [
    "utval['value.user_id'].value_counts()"
   ]
  },
  {
   "cell_type": "code",
   "execution_count": 169,
   "metadata": {},
   "outputs": [
    {
     "data": {
      "text/html": [
       "<div>\n",
       "<style scoped>\n",
       "    .dataframe tbody tr th:only-of-type {\n",
       "        vertical-align: middle;\n",
       "    }\n",
       "\n",
       "    .dataframe tbody tr th {\n",
       "        vertical-align: top;\n",
       "    }\n",
       "\n",
       "    .dataframe thead th {\n",
       "        text-align: right;\n",
       "    }\n",
       "</style>\n",
       "<table border=\"1\" class=\"dataframe\">\n",
       "  <thead>\n",
       "    <tr style=\"text-align: right;\">\n",
       "      <th></th>\n",
       "      <th>value.timestamp</th>\n",
       "      <th>value.user_id</th>\n",
       "      <th>value.course_id</th>\n",
       "      <th>value.url</th>\n",
       "      <th>value.web_application_controller</th>\n",
       "      <th>value.web_application_action</th>\n",
       "      <th>value.web_application_context_type</th>\n",
       "      <th>dato</th>\n",
       "    </tr>\n",
       "  </thead>\n",
       "  <tbody>\n",
       "    <tr>\n",
       "      <th>18</th>\n",
       "      <td>2025-02-10T10:00:06.239Z</td>\n",
       "      <td>81990</td>\n",
       "      <td>NaN</td>\n",
       "      <td>/</td>\n",
       "      <td>users</td>\n",
       "      <td>user_dashboard</td>\n",
       "      <td>User</td>\n",
       "      <td>2025-02-10</td>\n",
       "    </tr>\n",
       "    <tr>\n",
       "      <th>19</th>\n",
       "      <td>2025-02-10T10:00:06.328Z</td>\n",
       "      <td>80600</td>\n",
       "      <td>23255</td>\n",
       "      <td>/courses/23255/files/3181872/preview</td>\n",
       "      <td>files</td>\n",
       "      <td>show</td>\n",
       "      <td>Course</td>\n",
       "      <td>2025-02-10</td>\n",
       "    </tr>\n",
       "    <tr>\n",
       "      <th>20</th>\n",
       "      <td>2025-02-10T10:00:07.037Z</td>\n",
       "      <td>50234</td>\n",
       "      <td>NaN</td>\n",
       "      <td>/page_views/8cc44091-1bf2-466b-9011-ec6e1486e6...</td>\n",
       "      <td>page_views</td>\n",
       "      <td>update</td>\n",
       "      <td>NaN</td>\n",
       "      <td>2025-02-10</td>\n",
       "    </tr>\n",
       "    <tr>\n",
       "      <th>25</th>\n",
       "      <td>2025-02-10T10:00:07.778Z</td>\n",
       "      <td>102555</td>\n",
       "      <td>29256</td>\n",
       "      <td>/courses/29256/modules/111346/collapse</td>\n",
       "      <td>context_modules</td>\n",
       "      <td>toggle_collapse</td>\n",
       "      <td>Course</td>\n",
       "      <td>2025-02-10</td>\n",
       "    </tr>\n",
       "    <tr>\n",
       "      <th>51</th>\n",
       "      <td>2025-02-10T10:00:12.817Z</td>\n",
       "      <td>32621</td>\n",
       "      <td>NaN</td>\n",
       "      <td>/groups/160998</td>\n",
       "      <td>groups</td>\n",
       "      <td>show</td>\n",
       "      <td>Group</td>\n",
       "      <td>2025-02-10</td>\n",
       "    </tr>\n",
       "    <tr>\n",
       "      <th>...</th>\n",
       "      <td>...</td>\n",
       "      <td>...</td>\n",
       "      <td>...</td>\n",
       "      <td>...</td>\n",
       "      <td>...</td>\n",
       "      <td>...</td>\n",
       "      <td>...</td>\n",
       "      <td>...</td>\n",
       "    </tr>\n",
       "    <tr>\n",
       "      <th>1377733</th>\n",
       "      <td>2025-02-11T05:04:03.891Z</td>\n",
       "      <td>33588</td>\n",
       "      <td>NaN</td>\n",
       "      <td>/login/session_token?return_to=https://hvl.ins...</td>\n",
       "      <td>login</td>\n",
       "      <td>session_token</td>\n",
       "      <td>NaN</td>\n",
       "      <td>2025-02-11</td>\n",
       "    </tr>\n",
       "    <tr>\n",
       "      <th>1377734</th>\n",
       "      <td>2025-02-11T05:04:03.906Z</td>\n",
       "      <td>33588</td>\n",
       "      <td>NaN</td>\n",
       "      <td>/</td>\n",
       "      <td>users</td>\n",
       "      <td>user_dashboard</td>\n",
       "      <td>User</td>\n",
       "      <td>2025-02-11</td>\n",
       "    </tr>\n",
       "    <tr>\n",
       "      <th>1377742</th>\n",
       "      <td>2025-02-11T05:04:04.775Z</td>\n",
       "      <td>33588</td>\n",
       "      <td>23255</td>\n",
       "      <td>/login/session_token?return_to=https://hvl.ins...</td>\n",
       "      <td>login</td>\n",
       "      <td>session_token</td>\n",
       "      <td>NaN</td>\n",
       "      <td>2025-02-11</td>\n",
       "    </tr>\n",
       "    <tr>\n",
       "      <th>1377745</th>\n",
       "      <td>2025-02-11T05:04:04.891Z</td>\n",
       "      <td>33588</td>\n",
       "      <td>23255</td>\n",
       "      <td>/login/session_token?return_to=https://hvl.ins...</td>\n",
       "      <td>login</td>\n",
       "      <td>session_token</td>\n",
       "      <td>NaN</td>\n",
       "      <td>2025-02-11</td>\n",
       "    </tr>\n",
       "    <tr>\n",
       "      <th>1377784</th>\n",
       "      <td>2025-02-11T05:04:49.076Z</td>\n",
       "      <td>7930</td>\n",
       "      <td>NaN</td>\n",
       "      <td>/login/session_token?no_verifiers=1</td>\n",
       "      <td>login</td>\n",
       "      <td>session_token</td>\n",
       "      <td>NaN</td>\n",
       "      <td>2025-02-11</td>\n",
       "    </tr>\n",
       "  </tbody>\n",
       "</table>\n",
       "<p>354908 rows × 8 columns</p>\n",
       "</div>"
      ],
      "text/plain": [
       "                  value.timestamp value.user_id value.course_id  \\\n",
       "18       2025-02-10T10:00:06.239Z         81990             NaN   \n",
       "19       2025-02-10T10:00:06.328Z         80600           23255   \n",
       "20       2025-02-10T10:00:07.037Z         50234             NaN   \n",
       "25       2025-02-10T10:00:07.778Z        102555           29256   \n",
       "51       2025-02-10T10:00:12.817Z         32621             NaN   \n",
       "...                           ...           ...             ...   \n",
       "1377733  2025-02-11T05:04:03.891Z         33588             NaN   \n",
       "1377734  2025-02-11T05:04:03.906Z         33588             NaN   \n",
       "1377742  2025-02-11T05:04:04.775Z         33588           23255   \n",
       "1377745  2025-02-11T05:04:04.891Z         33588           23255   \n",
       "1377784  2025-02-11T05:04:49.076Z          7930             NaN   \n",
       "\n",
       "                                                 value.url  \\\n",
       "18                                                       /   \n",
       "19                    /courses/23255/files/3181872/preview   \n",
       "20       /page_views/8cc44091-1bf2-466b-9011-ec6e1486e6...   \n",
       "25                  /courses/29256/modules/111346/collapse   \n",
       "51                                          /groups/160998   \n",
       "...                                                    ...   \n",
       "1377733  /login/session_token?return_to=https://hvl.ins...   \n",
       "1377734                                                  /   \n",
       "1377742  /login/session_token?return_to=https://hvl.ins...   \n",
       "1377745  /login/session_token?return_to=https://hvl.ins...   \n",
       "1377784                /login/session_token?no_verifiers=1   \n",
       "\n",
       "        value.web_application_controller value.web_application_action  \\\n",
       "18                                 users               user_dashboard   \n",
       "19                                 files                         show   \n",
       "20                            page_views                       update   \n",
       "25                       context_modules              toggle_collapse   \n",
       "51                                groups                         show   \n",
       "...                                  ...                          ...   \n",
       "1377733                            login                session_token   \n",
       "1377734                            users               user_dashboard   \n",
       "1377742                            login                session_token   \n",
       "1377745                            login                session_token   \n",
       "1377784                            login                session_token   \n",
       "\n",
       "        value.web_application_context_type        dato  \n",
       "18                                    User  2025-02-10  \n",
       "19                                  Course  2025-02-10  \n",
       "20                                     NaN  2025-02-10  \n",
       "25                                  Course  2025-02-10  \n",
       "51                                   Group  2025-02-10  \n",
       "...                                    ...         ...  \n",
       "1377733                                NaN  2025-02-11  \n",
       "1377734                               User  2025-02-11  \n",
       "1377742                                NaN  2025-02-11  \n",
       "1377745                                NaN  2025-02-11  \n",
       "1377784                                NaN  2025-02-11  \n",
       "\n",
       "[354908 rows x 8 columns]"
      ]
     },
     "execution_count": 169,
     "metadata": {},
     "output_type": "execute_result"
    }
   ],
   "source": [
    "redusert_utval"
   ]
  },
  {
   "cell_type": "markdown",
   "metadata": {},
   "source": [
    "## Leit etter duplikat\n",
    "Det neste vert å leite etter duplikat. Det vil sei: rader som har lik verdi i fleire celler. Då må eg eigentleg lage ei ny dataramme; eg går gjennom den første og finn like rader, og så legg eg denne raden (og antalet) i ei ny ramme. Vi prøver med noko enkelt:\n",
    "\n",
    "`user_id`, `course_id`, `web_application_controller`, `web_application_action` og `dato` er like.\n"
   ]
  },
  {
   "cell_type": "code",
   "execution_count": 183,
   "metadata": {},
   "outputs": [],
   "source": [
    "temp_duplikat = redusert_utval[[\"value.user_id\", \"value.course_id\", \"value.web_application_controller\", \"value.web_application_action\", \"value.web_application_context_type\", \"dato\"]].value_counts()\n",
    "duplikat = temp_duplikat.to_frame('frekvens').reset_index()"
   ]
  },
  {
   "cell_type": "markdown",
   "metadata": {},
   "source": [
    "Og så lagrer eg til fil før eg ser på detaljane:"
   ]
  },
  {
   "cell_type": "code",
   "execution_count": 185,
   "metadata": {},
   "outputs": [],
   "source": [
    "duplikat.to_csv('duplikat_250210.csv')"
   ]
  },
  {
   "cell_type": "markdown",
   "metadata": {},
   "source": [
    "Først er eg på dei fem mest brukte linjene:"
   ]
  },
  {
   "cell_type": "code",
   "execution_count": 188,
   "metadata": {},
   "outputs": [
    {
     "data": {
      "text/html": [
       "<div>\n",
       "<style scoped>\n",
       "    .dataframe tbody tr th:only-of-type {\n",
       "        vertical-align: middle;\n",
       "    }\n",
       "\n",
       "    .dataframe tbody tr th {\n",
       "        vertical-align: top;\n",
       "    }\n",
       "\n",
       "    .dataframe thead th {\n",
       "        text-align: right;\n",
       "    }\n",
       "</style>\n",
       "<table border=\"1\" class=\"dataframe\">\n",
       "  <thead>\n",
       "    <tr style=\"text-align: right;\">\n",
       "      <th></th>\n",
       "      <th>value.user_id</th>\n",
       "      <th>value.course_id</th>\n",
       "      <th>value.web_application_controller</th>\n",
       "      <th>value.web_application_action</th>\n",
       "      <th>value.web_application_context_type</th>\n",
       "      <th>dato</th>\n",
       "      <th>frekvens</th>\n",
       "    </tr>\n",
       "  </thead>\n",
       "  <tbody>\n",
       "    <tr>\n",
       "      <th>0</th>\n",
       "      <td>102235</td>\n",
       "      <td>28890</td>\n",
       "      <td>quizzes/quiz_submissions</td>\n",
       "      <td>backup</td>\n",
       "      <td>Course</td>\n",
       "      <td>2025-02-10</td>\n",
       "      <td>597</td>\n",
       "    </tr>\n",
       "    <tr>\n",
       "      <th>1</th>\n",
       "      <td>102206</td>\n",
       "      <td>30823</td>\n",
       "      <td>quizzes/quiz_submissions</td>\n",
       "      <td>backup</td>\n",
       "      <td>Course</td>\n",
       "      <td>2025-02-10</td>\n",
       "      <td>320</td>\n",
       "    </tr>\n",
       "    <tr>\n",
       "      <th>2</th>\n",
       "      <td>50889</td>\n",
       "      <td>30823</td>\n",
       "      <td>quizzes/quiz_submissions</td>\n",
       "      <td>backup</td>\n",
       "      <td>Course</td>\n",
       "      <td>2025-02-10</td>\n",
       "      <td>192</td>\n",
       "    </tr>\n",
       "    <tr>\n",
       "      <th>3</th>\n",
       "      <td>76609</td>\n",
       "      <td>30771</td>\n",
       "      <td>gradebooks</td>\n",
       "      <td>change_gradebook_column_size</td>\n",
       "      <td>Course</td>\n",
       "      <td>2025-02-10</td>\n",
       "      <td>159</td>\n",
       "    </tr>\n",
       "    <tr>\n",
       "      <th>4</th>\n",
       "      <td>94554</td>\n",
       "      <td>28892</td>\n",
       "      <td>quizzes/quiz_submissions</td>\n",
       "      <td>backup</td>\n",
       "      <td>Course</td>\n",
       "      <td>2025-02-10</td>\n",
       "      <td>129</td>\n",
       "    </tr>\n",
       "  </tbody>\n",
       "</table>\n",
       "</div>"
      ],
      "text/plain": [
       "  value.user_id value.course_id value.web_application_controller  \\\n",
       "0        102235           28890         quizzes/quiz_submissions   \n",
       "1        102206           30823         quizzes/quiz_submissions   \n",
       "2         50889           30823         quizzes/quiz_submissions   \n",
       "3         76609           30771                       gradebooks   \n",
       "4         94554           28892         quizzes/quiz_submissions   \n",
       "\n",
       "   value.web_application_action value.web_application_context_type  \\\n",
       "0                        backup                             Course   \n",
       "1                        backup                             Course   \n",
       "2                        backup                             Course   \n",
       "3  change_gradebook_column_size                             Course   \n",
       "4                        backup                             Course   \n",
       "\n",
       "         dato  frekvens  \n",
       "0  2025-02-10       597  \n",
       "1  2025-02-10       320  \n",
       "2  2025-02-10       192  \n",
       "3  2025-02-10       159  \n",
       "4  2025-02-10       129  "
      ]
     },
     "execution_count": 188,
     "metadata": {},
     "output_type": "execute_result"
    }
   ],
   "source": [
    "duplikat.head(5)"
   ]
  },
  {
   "cell_type": "markdown",
   "metadata": {},
   "source": [
    "Her har altså student 102235 gjort same kommando 597 ganger! For å finne ut kva det er må eg nesten sjekke med rådata (av di dette er ein quiz har eg ikkje tatt med data om quizen i utvalet):"
   ]
  },
  {
   "cell_type": "code",
   "execution_count": 194,
   "metadata": {},
   "outputs": [],
   "source": [
    "student_102235 = data[(data['value.user_id'] == \"102235\") & (data['value.quiz_id'] == \"18705\")]"
   ]
  },
  {
   "cell_type": "code",
   "execution_count": 197,
   "metadata": {},
   "outputs": [],
   "source": [
    "student_102235.to_csv('student_102235.csv', index=False)"
   ]
  },
  {
   "cell_type": "code",
   "execution_count": 187,
   "metadata": {},
   "outputs": [
    {
     "data": {
      "text/plain": [
       "frekvens\n",
       "1      32121\n",
       "2      11702\n",
       "3       5075\n",
       "4       2713\n",
       "5       1595\n",
       "       ...  \n",
       "63         1\n",
       "62         1\n",
       "59         1\n",
       "320        1\n",
       "597        1\n",
       "Name: count, Length: 93, dtype: int64"
      ]
     },
     "execution_count": 187,
     "metadata": {},
     "output_type": "execute_result"
    }
   ],
   "source": [
    "duplikat['frekvens'].value_counts()"
   ]
  },
  {
   "cell_type": "code",
   "execution_count": null,
   "metadata": {},
   "outputs": [],
   "source": []
  }
 ],
 "metadata": {
  "kernelspec": {
   "display_name": "Python 3",
   "language": "python",
   "name": "python3"
  },
  "language_info": {
   "codemirror_mode": {
    "name": "ipython",
    "version": 3
   },
   "file_extension": ".py",
   "mimetype": "text/x-python",
   "name": "python",
   "nbconvert_exporter": "python",
   "pygments_lexer": "ipython3",
   "version": "3.12.3"
  }
 },
 "nbformat": 4,
 "nbformat_minor": 2
}
