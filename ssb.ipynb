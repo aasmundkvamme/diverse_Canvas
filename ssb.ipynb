{
 "cells": [
  {
   "cell_type": "code",
   "execution_count": 2,
   "metadata": {},
   "outputs": [
    {
     "name": "stdout",
     "output_type": "stream",
     "text": [
      "<Response [200]>\n",
      "<class 'pandas.core.frame.DataFrame'>\n",
      "RangeIndex: 212 entries, 0 to 211\n",
      "Data columns (total 4 columns):\n",
      " #   Column              Non-Null Count  Dtype  \n",
      "---  ------              --------------  -----  \n",
      " 0   varegruppe          212 non-null    object \n",
      " 1   statistikkvariabel  212 non-null    object \n",
      " 2   uke                 212 non-null    object \n",
      " 3   value               212 non-null    float64\n",
      "dtypes: float64(1), object(3)\n",
      "memory usage: 6.8+ KB\n"
     ]
    }
   ],
   "source": [
    "# Post spørring og få Pandas dataframe i retur\n",
    "# benytter biblioteket pyjstat for JSON-stat\n",
    "\n",
    "from pyjstat import pyjstat\n",
    "import requests\n",
    "\n",
    "# Eksport av laks\n",
    "POST_URL = 'https://data.ssb.no/api/v0/no/table/03024'\n",
    "\n",
    "# API spørring, kan tas fra Konsoll  - fryst og fersk laks siste 53 uker\n",
    "payload = {\"query\": [\n",
    "\t\t\t{\"code\": \"VareGrupper2\", \"selection\": {\"filter\": \"item\", \"values\": [\"01\", \"02\"] } },\n",
    "\t\t\t{\"code\": \"ContentsCode\", \"selection\": {\"filter\": \"item\", \"values\": [\"Vekt\", \"Kilopris\"] } },\n",
    "\t\t\t{\"code\": \"Tid\", \"selection\": {\"filter\": \"top\", \"values\": [\"53\"] } }\n",
    "\t\t],\n",
    "\t\t\"response\": {\"format\": \"json-stat2\"}\n",
    "\t\t}\n",
    "\n",
    "resultat = requests.post(POST_URL, json = payload)\n",
    "# Resultat gir bare http statuskode - 200 hvis OK. Body ligger i resultat.text\n",
    "print(resultat)\n",
    "\n",
    "dataset = pyjstat.Dataset.read(resultat.text)\n",
    "df = dataset.write('dataframe')\n",
    "df.head()\n",
    "df.tail()\n",
    "df.info()"
   ]
  }
 ],
 "metadata": {
  "kernelspec": {
   "display_name": "Python 3",
   "language": "python",
   "name": "python3"
  },
  "language_info": {
   "codemirror_mode": {
    "name": "ipython",
    "version": 3
   },
   "file_extension": ".py",
   "mimetype": "text/x-python",
   "name": "python",
   "nbconvert_exporter": "python",
   "pygments_lexer": "ipython3",
   "version": "3.12.9"
  }
 },
 "nbformat": 4,
 "nbformat_minor": 2
}
