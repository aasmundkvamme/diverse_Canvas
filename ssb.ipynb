{
 "cells": [
  {
   "cell_type": "code",
   "execution_count": 2,
   "metadata": {},
   "outputs": [
    {
     "name": "stdout",
     "output_type": "stream",
     "text": [
      "<Response [200]>\n",
      "<class 'pandas.core.frame.DataFrame'>\n",
      "RangeIndex: 212 entries, 0 to 211\n",
      "Data columns (total 4 columns):\n",
      " #   Column              Non-Null Count  Dtype  \n",
      "---  ------              --------------  -----  \n",
      " 0   varegruppe          212 non-null    object \n",
      " 1   statistikkvariabel  212 non-null    object \n",
      " 2   uke                 212 non-null    object \n",
      " 3   value               212 non-null    float64\n",
      "dtypes: float64(1), object(3)\n",
      "memory usage: 6.8+ KB\n"
     ]
    }
   ],
   "source": [
    "# Post spørring og få Pandas dataframe i retur\n",
    "# benytter biblioteket pyjstat for JSON-stat\n",
    "\n",
    "from pyjstat import pyjstat\n",
    "import requests\n",
    "\n",
    "# Eksport av laks\n",
    "POST_URL = 'https://data.ssb.no/api/v0/no/table/03024'\n",
    "\n",
    "# API spørring, kan tas fra Konsoll  - fryst og fersk laks siste 53 uker\n",
    "payload = {\"query\": [\n",
    "\t\t\t{\"code\": \"VareGrupper2\", \"selection\": {\"filter\": \"item\", \"values\": [\"01\", \"02\"] } },\n",
    "\t\t\t{\"code\": \"ContentsCode\", \"selection\": {\"filter\": \"item\", \"values\": [\"Vekt\", \"Kilopris\"] } },\n",
    "\t\t\t{\"code\": \"Tid\", \"selection\": {\"filter\": \"top\", \"values\": [\"53\"] } }\n",
    "\t\t],\n",
    "\t\t\"response\": {\"format\": \"json-stat2\"}\n",
    "\t\t}\n",
    "\n",
    "resultat = requests.post(POST_URL, json = payload)\n",
    "# Resultat gir bare http statuskode - 200 hvis OK. Body ligger i resultat.text\n",
    "print(resultat)\n",
    "\n",
    "dataset = pyjstat.Dataset.read(resultat.text)\n",
    "df = dataset.write('dataframe')\n",
    "df.head()\n",
    "df.tail()\n",
    "df.info()"
   ]
<<<<<<< HEAD
=======
  },
  {
   "cell_type": "code",
   "execution_count": 3,
   "metadata": {},
   "outputs": [
    {
     "data": {
      "text/html": [
       "<div>\n",
       "<style scoped>\n",
       "    .dataframe tbody tr th:only-of-type {\n",
       "        vertical-align: middle;\n",
       "    }\n",
       "\n",
       "    .dataframe tbody tr th {\n",
       "        vertical-align: top;\n",
       "    }\n",
       "\n",
       "    .dataframe thead th {\n",
       "        text-align: right;\n",
       "    }\n",
       "</style>\n",
       "<table border=\"1\" class=\"dataframe\">\n",
       "  <thead>\n",
       "    <tr style=\"text-align: right;\">\n",
       "      <th></th>\n",
       "      <th>varegruppe</th>\n",
       "      <th>statistikkvariabel</th>\n",
       "      <th>uke</th>\n",
       "      <th>value</th>\n",
       "    </tr>\n",
       "  </thead>\n",
       "  <tbody>\n",
       "    <tr>\n",
       "      <th>0</th>\n",
       "      <td>Fersk oppalen laks</td>\n",
       "      <td>Vekt (tonn)</td>\n",
       "      <td>2024U07</td>\n",
       "      <td>13639.00</td>\n",
       "    </tr>\n",
       "    <tr>\n",
       "      <th>1</th>\n",
       "      <td>Fersk oppalen laks</td>\n",
       "      <td>Vekt (tonn)</td>\n",
       "      <td>2024U08</td>\n",
       "      <td>10687.00</td>\n",
       "    </tr>\n",
       "    <tr>\n",
       "      <th>2</th>\n",
       "      <td>Fersk oppalen laks</td>\n",
       "      <td>Vekt (tonn)</td>\n",
       "      <td>2024U09</td>\n",
       "      <td>12959.00</td>\n",
       "    </tr>\n",
       "    <tr>\n",
       "      <th>3</th>\n",
       "      <td>Fersk oppalen laks</td>\n",
       "      <td>Vekt (tonn)</td>\n",
       "      <td>2024U10</td>\n",
       "      <td>14487.00</td>\n",
       "    </tr>\n",
       "    <tr>\n",
       "      <th>4</th>\n",
       "      <td>Fersk oppalen laks</td>\n",
       "      <td>Vekt (tonn)</td>\n",
       "      <td>2024U11</td>\n",
       "      <td>14619.00</td>\n",
       "    </tr>\n",
       "    <tr>\n",
       "      <th>...</th>\n",
       "      <td>...</td>\n",
       "      <td>...</td>\n",
       "      <td>...</td>\n",
       "      <td>...</td>\n",
       "    </tr>\n",
       "    <tr>\n",
       "      <th>207</th>\n",
       "      <td>Frosen oppalen laks</td>\n",
       "      <td>Kilopris (kr)</td>\n",
       "      <td>2025U03</td>\n",
       "      <td>84.59</td>\n",
       "    </tr>\n",
       "    <tr>\n",
       "      <th>208</th>\n",
       "      <td>Frosen oppalen laks</td>\n",
       "      <td>Kilopris (kr)</td>\n",
       "      <td>2025U04</td>\n",
       "      <td>88.27</td>\n",
       "    </tr>\n",
       "    <tr>\n",
       "      <th>209</th>\n",
       "      <td>Frosen oppalen laks</td>\n",
       "      <td>Kilopris (kr)</td>\n",
       "      <td>2025U05</td>\n",
       "      <td>96.78</td>\n",
       "    </tr>\n",
       "    <tr>\n",
       "      <th>210</th>\n",
       "      <td>Frosen oppalen laks</td>\n",
       "      <td>Kilopris (kr)</td>\n",
       "      <td>2025U06</td>\n",
       "      <td>92.27</td>\n",
       "    </tr>\n",
       "    <tr>\n",
       "      <th>211</th>\n",
       "      <td>Frosen oppalen laks</td>\n",
       "      <td>Kilopris (kr)</td>\n",
       "      <td>2025U07</td>\n",
       "      <td>86.96</td>\n",
       "    </tr>\n",
       "  </tbody>\n",
       "</table>\n",
       "<p>212 rows × 4 columns</p>\n",
       "</div>"
      ],
      "text/plain": [
       "              varegruppe statistikkvariabel      uke     value\n",
       "0     Fersk oppalen laks        Vekt (tonn)  2024U07  13639.00\n",
       "1     Fersk oppalen laks        Vekt (tonn)  2024U08  10687.00\n",
       "2     Fersk oppalen laks        Vekt (tonn)  2024U09  12959.00\n",
       "3     Fersk oppalen laks        Vekt (tonn)  2024U10  14487.00\n",
       "4     Fersk oppalen laks        Vekt (tonn)  2024U11  14619.00\n",
       "..                   ...                ...      ...       ...\n",
       "207  Frosen oppalen laks      Kilopris (kr)  2025U03     84.59\n",
       "208  Frosen oppalen laks      Kilopris (kr)  2025U04     88.27\n",
       "209  Frosen oppalen laks      Kilopris (kr)  2025U05     96.78\n",
       "210  Frosen oppalen laks      Kilopris (kr)  2025U06     92.27\n",
       "211  Frosen oppalen laks      Kilopris (kr)  2025U07     86.96\n",
       "\n",
       "[212 rows x 4 columns]"
      ]
     },
     "execution_count": 3,
     "metadata": {},
     "output_type": "execute_result"
    }
   ],
   "source": [
    "df"
   ]
  },
  {
   "cell_type": "code",
   "execution_count": null,
   "metadata": {},
   "outputs": [],
   "source": []
>>>>>>> 35029a3 (Rydder)
  }
 ],
 "metadata": {
  "kernelspec": {
   "display_name": "Python 3",
   "language": "python",
   "name": "python3"
  },
  "language_info": {
   "codemirror_mode": {
    "name": "ipython",
    "version": 3
   },
   "file_extension": ".py",
   "mimetype": "text/x-python",
   "name": "python",
   "nbconvert_exporter": "python",
   "pygments_lexer": "ipython3",
<<<<<<< HEAD
   "version": "3.12.9"
=======
   "version": "3.10.12"
>>>>>>> 35029a3 (Rydder)
  }
 },
 "nbformat": 4,
 "nbformat_minor": 2
}
