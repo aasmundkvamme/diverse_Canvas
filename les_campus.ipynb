{
 "cells": [
  {
   "cell_type": "code",
   "execution_count": null,
   "metadata": {},
   "outputs": [],
   "source": [
    "import pandas as pd\n",
    "import os\n",
    "import requests\n",
    "\n",
    "def akv_query_FS_graphql(query, variable):\n",
    "    try:\n",
    "        response = requests.post(\n",
    "            \"https://api.fellesstudentsystem.no/graphql/\", \n",
    "            json={\"query\": query, \"variables\": variable},\n",
    "            headers={'Authorization': f'Basic {os.environ[\"tokenFS\"]}', \"Feature-Flags\": \"beta, experimental\"},\n",
    "            )\n",
    "        response.raise_for_status()\n",
    "        return response.json()\n",
    "    except requests.exceptions.RequestException as exc:\n",
    "        raise exc\n",
    "\n",
    "\n",
    "spørjing = \"\"\"\n",
    "query MyQuery($after: String, $first: Int) {\n",
    "    campuser(filter: {eierOrganisasjonskode: \"0203\"}) {\n",
    "        pageInfo {\n",
    "            endCursor\n",
    "            hasNextPage\n",
    "        }\n",
    "        nodes {\n",
    "            kode\n",
    "            programStudieretter(filter: {aktivStatus: AKTIV}, after: $after, first: $first) {\n",
    "                nodes {\n",
    "                    student {\n",
    "                        feideBruker\n",
    "                    }\n",
    "                }\n",
    "            }\n",
    "        }\n",
    "    }\n",
    "}\n",
    "\"\"\""
   ]
  },
  {
   "cell_type": "code",
   "execution_count": 10,
   "metadata": {},
   "outputs": [
    {
     "ename": "KeyError",
     "evalue": "'data'",
     "output_type": "error",
     "traceback": [
      "\u001b[0;31m---------------------------------------------------------------------------\u001b[0m",
      "\u001b[0;31mKeyError\u001b[0m                                  Traceback (most recent call last)",
      "Cell \u001b[0;32mIn[10], line 13\u001b[0m\n\u001b[1;32m     11\u001b[0m svar \u001b[38;5;241m=\u001b[39m akv_query_FS_graphql(spørjing, variable)\n\u001b[1;32m     12\u001b[0m \u001b[38;5;66;03m# uthenting av data\u001b[39;00m\n\u001b[0;32m---> 13\u001b[0m hentmeir \u001b[38;5;241m=\u001b[39m \u001b[43msvar\u001b[49m\u001b[43m[\u001b[49m\u001b[38;5;124;43m'\u001b[39;49m\u001b[38;5;124;43mdata\u001b[39;49m\u001b[38;5;124;43m'\u001b[39;49m\u001b[43m]\u001b[49m[\u001b[38;5;124m'\u001b[39m\u001b[38;5;124mcampuser\u001b[39m\u001b[38;5;124m'\u001b[39m][\u001b[38;5;124m'\u001b[39m\u001b[38;5;124mpageInfo\u001b[39m\u001b[38;5;124m'\u001b[39m][\u001b[38;5;124m'\u001b[39m\u001b[38;5;124mhasNextPage\u001b[39m\u001b[38;5;124m'\u001b[39m]\n\u001b[1;32m     14\u001b[0m campus_student \u001b[38;5;241m=\u001b[39m []\n\u001b[1;32m     15\u001b[0m \u001b[38;5;28;01mfor\u001b[39;00m campus \u001b[38;5;129;01min\u001b[39;00m svar[\u001b[38;5;124m'\u001b[39m\u001b[38;5;124mdata\u001b[39m\u001b[38;5;124m'\u001b[39m][\u001b[38;5;124m'\u001b[39m\u001b[38;5;124mcampuser\u001b[39m\u001b[38;5;124m'\u001b[39m][\u001b[38;5;124m'\u001b[39m\u001b[38;5;124mnodes\u001b[39m\u001b[38;5;124m'\u001b[39m]:\n",
      "\u001b[0;31mKeyError\u001b[0m: 'data'"
     ]
    }
   ],
   "source": [
    "n = 0\n",
    "hentmeir = True\n",
    "antal_per_side = 100\n",
    "while hentmeir:\n",
    "    if n == 0:\n",
    "        start = None\n",
    "    else:\n",
    "        start = svar['data']['campuser']['pageInfo']['endCursor']\n",
    "    variable = {'antal': antal_per_side, 'start': start}\n",
    "    n += 1\n",
    "    svar = akv_query_FS_graphql(spørjing, variable)\n",
    "    # uthenting av data\n",
    "    hentmeir = svar['data']['campuser']['pageInfo']['hasNextPage']\n",
    "    campus_student = []\n",
    "    for campus in svar['data']['campuser']['nodes']:\n",
    "        campus_kode = campus['kode']\n",
    "        studentar = []\n",
    "        for student in campus['programStudieretter']['nodes']:\n",
    "            student_kode = student['student']['feideBruker']\n",
    "            campus_student.append([campus_kode, student_kode])\n",
    "    hentmeir = False\n",
    "        \n",
    "campus_student"
   ]
  },
  {
   "cell_type": "code",
   "execution_count": 11,
   "metadata": {},
   "outputs": [
    {
     "data": {
      "text/plain": [
       "{'errors': [{'message': \"Validation error (WrongType@[campuser/nodes/programStudieretter]) : argument 'filter' with value 'ObjectValue{objectFields=[ObjectField{name='aktivStatus', value=EnumValue{name='AKTIV'}}, ObjectField{name='after', value=VariableReference{name='after'}}, ObjectField{name='first', value=VariableReference{name='first'}}]}' contains a field not in 'CampusProgramStudieretterFilterInput': 'after'\",\n",
       "   'locations': [{'line': 10, 'column': 33}],\n",
       "   'extensions': {'classification': 'ValidationError'}}]}"
      ]
     },
     "execution_count": 11,
     "metadata": {},
     "output_type": "execute_result"
    }
   ],
   "source": [
    "svar"
   ]
  }
 ],
 "metadata": {
  "kernelspec": {
   "display_name": "Python 3",
   "language": "python",
   "name": "python3"
  },
  "language_info": {
   "codemirror_mode": {
    "name": "ipython",
    "version": 3
   },
   "file_extension": ".py",
   "mimetype": "text/x-python",
   "name": "python",
   "nbconvert_exporter": "python",
   "pygments_lexer": "ipython3",
   "version": "3.10.12"
  }
 },
 "nbformat": 4,
 "nbformat_minor": 2
}
