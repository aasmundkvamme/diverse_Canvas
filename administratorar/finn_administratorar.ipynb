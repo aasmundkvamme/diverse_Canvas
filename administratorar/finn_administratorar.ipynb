{
 "cells": [
  {
   "cell_type": "code",
   "execution_count": null,
   "id": "241f8f3b",
   "metadata": {},
   "outputs": [],
   "source": [
    "import requests\n",
    "import os\n",
    "import pandas as pd\n",
    "tokenCanvas = os.environ['tokenCanvas']\n",
    "\n",
    "headers = {\n",
    "    'Authorization': f'Bearer {tokenCanvas}',\n",
    "}\n",
    "params = {\n",
    "    'per_page': 100,\n",
    "}\n",
    "\n",
    "def finn_rel(link_header):\n",
    "    link_header_dict = {}\n",
    "    for link in link_header.split(\",\"):\n",
    "        url, rel = link.strip().split(\";\")\n",
    "        rel = rel.split('=')[1]\n",
    "        link_header_dict[rel.strip().replace('\"', '')] = url.strip().replace('<', '').replace('>', '')      # Kommentar: denne er med BERRE for å skape balanse i .org-fila: \\\"\n",
    "    return link_header_dict\n",
    "    \n"
   ]
  },
  {
   "cell_type": "markdown",
   "id": "c284b2c0",
   "metadata": {},
   "source": [
    "# Hent administratorar\n",
    "Dette er dei kontoane som har administratorroller. Eg henter alle og legg dei i ei fil (hugs å skifte filnamn for kontrollen si skuld)."
   ]
  },
  {
   "cell_type": "code",
   "execution_count": null,
   "id": "0944fc35",
   "metadata": {},
   "outputs": [],
   "source": [
    "kontoar = [1, 54, 198, 429, 355, 430, 199, 200, 441]\n",
    "administratorar = []\n",
    "for konto in kontoar:\n",
    "    url = f\"https://hvl.instructure.com/api/v1/accounts/{konto}/admins\"\n",
    "    respons = requests.get(url, headers=headers, params=params)\n",
    "    data = respons.json()\n",
    "    for admin in data:\n",
    "        print(konto, admin['user']['name'])\n",
    "        administratorar.append([konto, admin['role'], admin['role_id'], admin['user']['name'], admin['user']['id'], admin['user']['login_id']])"
   ]
  },
  {
   "cell_type": "code",
   "execution_count": null,
   "id": "7da6fe98",
   "metadata": {},
   "outputs": [],
   "source": [
    "pd.DataFrame(administratorar, columns=['konto', 'role', 'role_id', 'name', 'id', 'login_id']).to_csv('administratorar_250514-3.csv', index=False)"
   ]
  }
 ],
 "metadata": {
  "kernelspec": {
   "display_name": "Python 3",
   "language": "python",
   "name": "python3"
  },
  "language_info": {
   "codemirror_mode": {
    "name": "ipython",
    "version": 3
   },
   "file_extension": ".py",
   "mimetype": "text/x-python",
   "name": "python",
   "nbconvert_exporter": "python",
   "pygments_lexer": "ipython3",
   "version": "3.12.3"
  }
 },
 "nbformat": 4,
 "nbformat_minor": 5
}
