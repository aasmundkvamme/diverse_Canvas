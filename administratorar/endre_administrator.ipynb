{
 "cells": [
  {
   "cell_type": "code",
   "execution_count": 12,
   "id": "50ed191f",
   "metadata": {},
   "outputs": [],
   "source": [
    "import requests\n",
    "import os\n",
    "import pandas as pd\n",
    "tokenCanvas = os.environ['tokenCanvas']\n",
    "\n",
    "headers = {\n",
    "    'Authorization': f'Bearer {tokenCanvas}',\n",
    "}\n",
    "params = {\n",
    "    'per_page': 100,\n",
    "}"
   ]
  },
  {
   "cell_type": "markdown",
   "id": "98bc6896",
   "metadata": {},
   "source": [
    "# Endre administratorrolle\n",
    "\n",
    "Eg har ei litt enkel rutine for å endre administratorrolle. "
   ]
  },
  {
   "cell_type": "code",
   "execution_count": 29,
   "id": "362e646c",
   "metadata": {},
   "outputs": [
    {
     "name": "stdout",
     "output_type": "stream",
     "text": [
      "Fjerna 5297: 200\n",
      "Legg til 5297: 200\n",
      "Fjerna 5303: 200\n",
      "Legg til 5303: 200\n",
      "Fjerna 1598: 200\n",
      "Legg til 1598: 200\n",
      "Fjerna 86184: 200\n",
      "Legg til 86184: 200\n",
      "Fjerna 1613: 200\n",
      "Legg til 1613: 200\n",
      "Fjerna 1094: 200\n",
      "Legg til 1094: 200\n",
      "Fjerna 95748: 200\n",
      "Legg til 95748: 200\n",
      "Fjerna 3883: 200\n",
      "Legg til 3883: 200\n",
      "Fjerna 13124: 200\n",
      "Legg til 13124: 200\n",
      "Fjerna 12350: 200\n",
      "Legg til 12350: 200\n",
      "Fjerna 4187: 200\n",
      "Legg til 4187: 200\n",
      "Fjerna 5315: 200\n",
      "Legg til 5315: 200\n",
      "Fjerna 5316: 200\n",
      "Legg til 5316: 200\n",
      "Fjerna 5318: 200\n",
      "Legg til 5318: 200\n",
      "Fjerna 29444: 200\n",
      "Legg til 29444: 200\n",
      "Fjerna 39766: 200\n",
      "Legg til 39766: 200\n",
      "Fjerna 72917: 200\n",
      "Legg til 72917: 200\n",
      "Fjerna 38560: 200\n",
      "Legg til 38560: 200\n",
      "Fjerna 5327: 200\n",
      "Legg til 5327: 200\n",
      "Fjerna 1579: 200\n",
      "Legg til 1579: 200\n",
      "Fjerna 5328: 200\n",
      "Legg til 5328: 200\n",
      "Fjerna 5329: 200\n",
      "Legg til 5329: 200\n"
     ]
    }
   ],
   "source": [
    "id = [5297,5303,1598,86184,1613,1094,95748,3883,13124,12350,4187,5315,5316,5318,29444,39766,72917,38560,5327,1579,5328,5329]\n",
    "konto = 54\n",
    "frå = 24\n",
    "til = 18\n",
    "for i in id:\n",
    "    url = f\"https://hvl.instructure.com:443/api/v1/accounts/{konto}/admins/{i}?role_id={frå}\"\n",
    "    respons = requests.delete(url, headers=headers)\n",
    "    print(f\"Fjerna {i}: {respons.status_code}\")\n",
    "    params = {\n",
    "        'role_id': til,\n",
    "        'account_id': konto,\n",
    "        'user_id': i,\n",
    "        'send_confirmation': 'false',\n",
    "    }\n",
    "    url = f\"https://hvl.instructure.com:443/api/v1/accounts/{konto}/admins/\"\n",
    "    respons = requests.post(url, headers=headers, params=params)\n",
    "    print(f\"Legg til {i}: {respons.status_code}\")\n"
   ]
  },
  {
   "cell_type": "code",
   "execution_count": 24,
   "id": "42c5f496",
   "metadata": {},
   "outputs": [
    {
     "ename": "HTTPError",
     "evalue": "404 Client Error: Not Found for url: https://hvl.instructure.com:443/api/v1/accounts/1/admins/?role_id=18&account_id=1&user_id=2249&send_confirmation=false",
     "output_type": "error",
     "traceback": [
      "\u001b[1;31m---------------------------------------------------------------------------\u001b[0m",
      "\u001b[1;31mHTTPError\u001b[0m                                 Traceback (most recent call last)",
      "Cell \u001b[1;32mIn[24], line 1\u001b[0m\n\u001b[1;32m----> 1\u001b[0m \u001b[43mrespons\u001b[49m\u001b[38;5;241;43m.\u001b[39;49m\u001b[43mraise_for_status\u001b[49m\u001b[43m(\u001b[49m\u001b[43m)\u001b[49m\n",
      "File \u001b[1;32m~\\AppData\\Roaming\\Python\\Python312\\site-packages\\requests\\models.py:1024\u001b[0m, in \u001b[0;36mResponse.raise_for_status\u001b[1;34m(self)\u001b[0m\n\u001b[0;32m   1019\u001b[0m     http_error_msg \u001b[38;5;241m=\u001b[39m (\n\u001b[0;32m   1020\u001b[0m         \u001b[38;5;124mf\u001b[39m\u001b[38;5;124m\"\u001b[39m\u001b[38;5;132;01m{\u001b[39;00m\u001b[38;5;28mself\u001b[39m\u001b[38;5;241m.\u001b[39mstatus_code\u001b[38;5;132;01m}\u001b[39;00m\u001b[38;5;124m Server Error: \u001b[39m\u001b[38;5;132;01m{\u001b[39;00mreason\u001b[38;5;132;01m}\u001b[39;00m\u001b[38;5;124m for url: \u001b[39m\u001b[38;5;132;01m{\u001b[39;00m\u001b[38;5;28mself\u001b[39m\u001b[38;5;241m.\u001b[39murl\u001b[38;5;132;01m}\u001b[39;00m\u001b[38;5;124m\"\u001b[39m\n\u001b[0;32m   1021\u001b[0m     )\n\u001b[0;32m   1023\u001b[0m \u001b[38;5;28;01mif\u001b[39;00m http_error_msg:\n\u001b[1;32m-> 1024\u001b[0m     \u001b[38;5;28;01mraise\u001b[39;00m HTTPError(http_error_msg, response\u001b[38;5;241m=\u001b[39m\u001b[38;5;28mself\u001b[39m)\n",
      "\u001b[1;31mHTTPError\u001b[0m: 404 Client Error: Not Found for url: https://hvl.instructure.com:443/api/v1/accounts/1/admins/?role_id=18&account_id=1&user_id=2249&send_confirmation=false"
     ]
    }
   ],
   "source": [
    "respons.raise_for_status()"
   ]
  },
  {
   "cell_type": "code",
   "execution_count": 18,
   "id": "0a675a22",
   "metadata": {},
   "outputs": [
    {
     "data": {
      "text/plain": [
       "'https://hvl.instructure.com:443/api/v1/accounts/1/admins/'"
      ]
     },
     "execution_count": 18,
     "metadata": {},
     "output_type": "execute_result"
    }
   ],
   "source": [
    "url"
   ]
  },
  {
   "cell_type": "code",
   "execution_count": null,
   "id": "eadf6923",
   "metadata": {},
   "outputs": [],
   "source": []
  }
 ],
 "metadata": {
  "kernelspec": {
   "display_name": "Python 3",
   "language": "python",
   "name": "python3"
  },
  "language_info": {
   "codemirror_mode": {
    "name": "ipython",
    "version": 3
   },
   "file_extension": ".py",
   "mimetype": "text/x-python",
   "name": "python",
   "nbconvert_exporter": "python",
   "pygments_lexer": "ipython3",
   "version": "3.12.3"
  }
 },
 "nbformat": 4,
 "nbformat_minor": 5
}
