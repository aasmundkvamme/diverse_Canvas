{
 "cells": [
  {
   "cell_type": "code",
   "execution_count": 22,
   "metadata": {},
   "outputs": [],
   "source": [
    "import pandas as pd\n",
    "import os\n",
    "import akvut\n",
    "\n",
    "query = \"\"\"\n",
    "query MyQuery($id: ID!) {\n",
    "  course(id: $id) {\n",
    "    enrollmentsConnection {\n",
    "      nodes {\n",
    "        user {\n",
    "          sisId\n",
    "        }\n",
    "        type\n",
    "      }\n",
    "    }\n",
    "    sisId\n",
    "  }\n",
    "}\n",
    "\"\"\""
   ]
  },
  {
   "cell_type": "markdown",
   "metadata": {},
   "source": [
    "# Lage liste for å deaktivere alle i eit emne\n",
    "Hent alle i emnet i dag, og lag ei CSV-fil som vi kan importere med SIS-IMPORT (etter at eg haar rydda i den)."
   ]
  },
  {
   "cell_type": "code",
   "execution_count": 23,
   "metadata": {},
   "outputs": [],
   "source": [
    "variable = {'id': '26760'}\n",
    "resultat = akvut.query_canvas_graphql(query, variable)"
   ]
  },
  {
   "cell_type": "code",
   "execution_count": 34,
   "metadata": {},
   "outputs": [],
   "source": [
    "data = resultat['data']['course']['enrollmentsConnection']['nodes']\n",
    "liste1 = []\n",
    "liste2 = []\n",
    "liste3 = []\n",
    "for d in data:\n",
    "    liste1.append([d['user']['sisId'], d['type']])\n",
    "    liste2.append([d['user']['sisId'], d['type'], resultat['data']['course']['sisId'], 'completed'])\n",
    "    liste3.append([d['user']['sisId'], d['type'], resultat['data']['course']['sisId'], 'active'])\n",
    "personar = pd.DataFrame(liste1, columns=['sisId', 'type'])\n",
    "deaktiver = pd.DataFrame(liste2, columns=['sisId', 'type', 'course', 'workflow_state'])\n",
    "deaktiver.to_csv(\"deaktiver.csv\", index=False)\n",
    "aktiver = pd.DataFrame(liste3, columns=['sisId', 'type', 'course', 'workflow_state'])\n",
    "aktiver.to_csv(\"aktiver.csv\", index=False)"
   ]
  },
  {
   "cell_type": "code",
   "execution_count": null,
   "metadata": {},
   "outputs": [],
   "source": []
  }
 ],
 "metadata": {
  "kernelspec": {
   "display_name": "Python 3",
   "language": "python",
   "name": "python3"
  },
  "language_info": {
   "codemirror_mode": {
    "name": "ipython",
    "version": 3
   },
   "file_extension": ".py",
   "mimetype": "text/x-python",
   "name": "python",
   "nbconvert_exporter": "python",
   "pygments_lexer": "ipython3",
   "version": "3.10.12"
  }
 },
 "nbformat": 4,
 "nbformat_minor": 2
}
