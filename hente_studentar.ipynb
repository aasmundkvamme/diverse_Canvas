{
 "cells": [
  {
   "cell_type": "code",
   "execution_count": 1,
   "metadata": {},
   "outputs": [],
   "source": [
    "import pandas as pd\n",
    "import os\n",
    "import akvut\n",
    "\n",
    "query = \"\"\"\n",
    "query MyQuery($id: ID!) {\n",
    "  course(id: $id) {\n",
    "    enrollmentsConnection {\n",
    "      nodes {\n",
    "        user {\n",
    "          sisId\n",
    "        }\n",
    "        type\n",
    "      }\n",
    "    }\n",
    "    sisId\n",
    "  }\n",
    "}\n",
    "\"\"\""
   ]
  },
  {
   "cell_type": "markdown",
   "metadata": {},
   "source": [
    "# Lage liste for å deaktivere (eller reaktivere) alle i eit emne\n",
    "Hent alle i emnet i dag, og lag ei CSV-fil som vi kan importere med SIS-IMPORT (etter at eg haar rydda i den)."
   ]
  },
  {
   "cell_type": "code",
   "execution_count": 2,
   "metadata": {},
   "outputs": [],
   "source": [
    "emne = {'id': '22411'}\n",
    "resultat = akvut.query_canvas_graphql(query, emne)"
   ]
  },
  {
   "cell_type": "markdown",
   "metadata": {},
   "source": [
    "Så lager eg to lister:\n",
    "\n",
    "- **aktiver.csv** som aktiverer alle studentane i eit emne\n",
    "\n",
    "- **deaktiver.csv** som deaktiverer alle studentane i eit emne"
   ]
  },
  {
   "cell_type": "code",
   "execution_count": 4,
   "metadata": {},
   "outputs": [],
   "source": [
    "data = resultat['data']['course']['enrollmentsConnection']['nodes']\n",
    "liste1 = []\n",
    "liste2 = []\n",
    "liste3 = []\n",
    "for d in data:\n",
    "    if d['type']==\"StudentEnrollment\":\n",
    "        d['type'] = \"student\"\n",
    "    if d['type']==\"TeacherEnrollment\":\n",
    "        d['type'] = \"teacher\"\n",
    "    if d['type']==\"StudentViewEnrollment\":\n",
    "        d['type'] = \"observer\"\n",
    "    liste1.append([d['user']['sisId'], d['type']])\n",
    "    liste2.append([d['user']['sisId'], d['type'], resultat['data']['course']['sisId'], 'completed'])\n",
    "    liste3.append([d['user']['sisId'], d['type'], resultat['data']['course']['sisId'], 'active'])\n",
    "personar = pd.DataFrame(liste1, columns=['sisId', 'type'])\n",
    "deaktiver = pd.DataFrame(liste2, columns=['sisId', 'type', 'course', 'workflow_state'])\n",
    "deaktiver.rename(columns={'sisId': 'user_id', 'type': 'role', 'course': 'course_id', 'workflow_state': 'status'}, inplace=True)\n",
    "deaktiver.to_csv(\"deaktiver.csv\", index=False)\n",
    "aktiver = pd.DataFrame(liste3, columns=['sisId', 'type', 'course', 'workflow_state'])\n",
    "aktiver.rename(columns={'sisId': 'user_id', 'type': 'role', 'course': 'course_id', 'workflow_state': 'status'}, inplace=True)\n",
    "aktiver.to_csv(\"aktiver.csv\", index=False)"
   ]
  },
  {
   "cell_type": "code",
   "execution_count": null,
   "metadata": {},
   "outputs": [],
   "source": []
  }
 ],
 "metadata": {
  "kernelspec": {
   "display_name": "Python 3",
   "language": "python",
   "name": "python3"
  },
  "language_info": {
   "codemirror_mode": {
    "name": "ipython",
    "version": 3
   },
   "file_extension": ".py",
   "mimetype": "text/x-python",
   "name": "python",
   "nbconvert_exporter": "python",
   "pygments_lexer": "ipython3",
   "version": "3.12.3"
  }
 },
 "nbformat": 4,
 "nbformat_minor": 2
}
