{
 "cells": [
  {
   "cell_type": "code",
   "execution_count": 1,
   "metadata": {},
   "outputs": [],
   "source": [
    "import requests\n",
    "import os\n",
    "import pandas as pd\n",
    "from datetime import date, datetime, timedelta\n",
    "import time\n",
    "from io import StringIO\n",
    "idag = date.today().isoformat()[0:10]\n",
    "tokenCanvas = os.environ['tokenCanvas']\n",
    "\n",
    "headers = {'Authorization': f'Bearer {tokenCanvas}',}\n",
    "params = {'per_page': 100,}"
   ]
  },
  {
   "cell_type": "markdown",
   "metadata": {},
   "source": [
    "# Initialisering\n",
    "\n",
    "Først må eg lese fila over alle som er aktive lærarar i Canvas, og sjekke om dei er medlem i eit testemne. Dette vert berre gjort ein gang, og resultatet vert lagra i ei fil. \n"
   ]
  },
  {
   "cell_type": "code",
   "execution_count": 2,
   "metadata": {},
   "outputs": [
    {
     "name": "stdout",
     "output_type": "stream",
     "text": [
      "<class 'pandas.core.frame.DataFrame'>\n",
      "Index: 1471 entries, 182 to 18680\n",
      "Data columns (total 9 columns):\n",
      " #   Column          Non-Null Count  Dtype  \n",
      "---  ------          --------------  -----  \n",
      " 0   user_id         1471 non-null   object \n",
      " 1   integration_id  0 non-null      float64\n",
      " 2   login_id        1471 non-null   object \n",
      " 3   first_name      1471 non-null   object \n",
      " 4   last_name       1471 non-null   object \n",
      " 5   short_name      0 non-null      float64\n",
      " 6   email           1471 non-null   object \n",
      " 7   status          1471 non-null   object \n",
      " 8   brukarnamn      1471 non-null   object \n",
      "dtypes: float64(2), object(7)\n",
      "memory usage: 114.9+ KB\n"
     ]
    }
   ],
   "source": [
    "eksisterande = pd.read_csv(\"users_filtered.csv\")\n",
    "eksisterande['brukarnamn'] = eksisterande['login_id'].apply(lambda x: x.split('@')[0])\n",
    "eksisterande = eksisterande[eksisterande['brukarnamn'].str.isalpha()]\n",
    "eksisterande.info()"
   ]
  },
  {
   "cell_type": "markdown",
   "metadata": {},
   "source": [
    "Den neste kodesnutten lager ei liste over alle lærarar, og kva testemne dei eventuelt er med i. Ikkje køyr denne fleire ganger!"
   ]
  },
  {
   "cell_type": "code",
   "execution_count": null,
   "metadata": {},
   "outputs": [],
   "source": [
    "# for person in data['login_id']:\n",
    "#     print(f\"{person} | \", end=\"\")\n",
    "#     try:\n",
    "#         params = {'per_page': 100}\n",
    "#         url = f\"https://hvl.instructure.com/api/v1/accounts/1/users?search_term={person}\"\n",
    "#         respons = requests.get(url, headers=headers, params=params)\n",
    "#         user_id = respons.json()[0]['id']\n",
    "#         name = respons.json()[0]['name']\n",
    "#         print(f\"{user_id} | {name} | \", end=\"\")\n",
    "#         emneliste = []\n",
    "#         params = {'per_page': 100, 'state': ['unpublished']}\n",
    "#         url = f\"https://hvl.instructure.com/api/v1/users/{user_id}/courses\"\n",
    "#         respons = requests.get(url, headers=headers, params=params)\n",
    "#         for emne in respons.json():\n",
    "#             emneliste.append(emne['name'])\n",
    "#         params = {'per_page': 100, 'state': ['available']}\n",
    "#         url = f\"https://hvl.instructure.com/api/v1/users/{user_id}/courses\"\n",
    "#         respons = requests.get(url, headers=headers, params=params)\n",
    "#         for emne in respons.json():\n",
    "#             emneliste.append(emne['name'])\n",
    "#         for e in emneliste: \n",
    "#             if 'Testemne' in e:\n",
    "#                 print(f\"{e}, \", end=\" \")\n",
    "#         print(\"\")\n",
    "#     except:\n",
    "#         print(\"Ikkje lærar.\") "
   ]
  },
  {
   "cell_type": "markdown",
   "metadata": {},
   "source": [
    "## Opprette testemne for alle lærarar som ikkje har det.\n",
    "\n",
    "Eg må gå gjennom fila frå forrige blokk og plukke ut alle som har \"Lag nytt emne\" i Kontrollfelt:\n"
   ]
  },
  {
   "cell_type": "code",
   "execution_count": null,
   "metadata": {},
   "outputs": [],
   "source": [
    "# data = pd.read_excel(\"250506 oversiktsfil.xlsx\")\n",
    "# # data.head()"
   ]
  },
  {
   "cell_type": "code",
   "execution_count": null,
   "metadata": {},
   "outputs": [],
   "source": [
    "# lag_testemne = data[data['Kontrollfelt'] == 'Lag nytt emne']\n",
    "# lag_testemne.head()\n"
   ]
  },
  {
   "cell_type": "markdown",
   "metadata": {},
   "source": [
    "Den neste kodesnutten går gjennom alle eg har funnet og oppretter nye testemne. Ikkje køyr denne fleire ganger!"
   ]
  },
  {
   "cell_type": "code",
   "execution_count": null,
   "metadata": {},
   "outputs": [],
   "source": [
    "# for n in range(11,len(lag_testemne)):\n",
    "#     i = lag_testemne.iloc[n]\n",
    "#     params = {\n",
    "#         'course[name]': f\"Testemne for {i['Namn']}\",\n",
    "#         'course[sis_course_id]': f\"hvl250506-e{n}-5-akv\",\n",
    "#         'course[course_code]': f\"Testemne for {i['Namn']}\",\n",
    "#         'course[syllabus_body]': \"Dette er ditt testemne; her kan du gjere alt du vil prøve på i eit 'vanleg' emne.\\nTing du lager her kan du hente inn i andre emne til bruk i undervising.\",\n",
    "#         'course[default_view]': 'syllabus', \n",
    "#     }\n",
    "#     url = f\"https://hvl.instructure.com/api/v1/accounts/9044/courses\"\n",
    "#     response = requests.post(url, headers=headers, params=params)\n",
    "#     course_id = response.json()['id']\n",
    "#     params = {\n",
    "#         'enrollment[user_id]': i['user_id'],\n",
    "#         'enrollment[type]': 'TeacherEnrollment',\n",
    "#         'enrollment[workflow_state]': 'active',\n",
    "#     }\n",
    "#     url = f\"https://hvl.instructure.com/api/v1/courses/{course_id}/enrollments\"\n",
    "#     response = requests.post(url, headers=headers, params=params)\n",
    "#     print(f\"{i['user_id']}: {response.status_code}\")"
   ]
  },
  {
   "cell_type": "markdown",
   "metadata": {},
   "source": [
    "# Neste steg: sjekke nye lærarar kvar natt\n",
    "\n",
    "No må eg lage meg ei kontrolliste med kven som har testemne. Kvar natt sjekker eg så importen av lærarar, og ser om det er nokon der ssom ikkje er på lista over eksisterande lærarar. Desse skal i så fall få eit testemne etter malen over.\n",
    "\n",
    "Først må eg lese fila over alle som vert overført i natt frå FS:"
   ]
  },
  {
   "cell_type": "code",
   "execution_count": null,
   "metadata": {},
   "outputs": [
    {
     "name": "stdout",
     "output_type": "stream",
     "text": [
      "2025-05-07T02:23:33Z: 18692\n",
      "2025-05-06T14:12:51Z: 1\n",
      "<class 'pandas.core.frame.DataFrame'>\n",
      "Index: 1464 entries, 182 to 18673\n",
      "Data columns (total 9 columns):\n",
      " #   Column          Non-Null Count  Dtype  \n",
      "---  ------          --------------  -----  \n",
      " 0   user_id         1464 non-null   object \n",
      " 1   integration_id  0 non-null      float64\n",
      " 2   login_id        1464 non-null   object \n",
      " 3   first_name      1464 non-null   object \n",
      " 4   last_name       1464 non-null   object \n",
      " 5   short_name      0 non-null      float64\n",
      " 6   email           1464 non-null   object \n",
      " 7   status          1464 non-null   object \n",
      " 8   brukarnamn      1464 non-null   object \n",
      "dtypes: float64(2), object(7)\n",
      "memory usage: 114.4+ KB\n"
     ]
    }
   ],
   "source": [
    "url = \"https://hvl.instructure.com/api/v1/accounts/1/sis_imports\"\n",
    "svar = requests.get(url, headers=headers, params=params)\n",
    "importerte_filar = svar.json()\n",
    "\n",
    "no = datetime.now()\n",
    "igår = (datetime.now() - timedelta(hours=24)).isoformat()\n",
    "filliste = []\n",
    "for i in importerte_filar['sis_imports']:\n",
    "    import_dato = datetime.fromisoformat(i['created_at'].replace('Z', '+00:00')).replace(tzinfo=None)\n",
    "    igår_dato = datetime.fromisoformat(igår)\n",
    "    if (import_dato > igår_dato):\n",
    "        for j in i['csv_attachments']:\n",
    "            if j['filename'] == \"users_filtered.csv\":\n",
    "                filliste.append({'dato': i['created_at'], 'url': j['url']})\n",
    "users_liste = []\n",
    "for i in filliste:\n",
    "    data = pd.read_csv(StringIO(requests.get(i['url'], headers=headers).content.decode(\"utf-8\")))\n",
    "    print(f\"{i['dato']}: {len(data)}\")\n",
    "    users_liste.append(data)\n",
    "\n",
    "overført = pd.concat(users_liste)\n",
    "overført['brukarnamn'] = overført['login_id'].apply(lambda x: x.split('@')[0])\n",
    "overført = overført[overført['brukarnamn'].str.isalpha()]\n",
    "nye = overført[~overført['brukarnamn'].isin(eksisterande['brukarnamn'])]"
   ]
  },
  {
   "cell_type": "code",
   "execution_count": 25,
   "metadata": {},
   "outputs": [
    {
     "data": {
      "text/html": [
       "<div>\n",
       "<style scoped>\n",
       "    .dataframe tbody tr th:only-of-type {\n",
       "        vertical-align: middle;\n",
       "    }\n",
       "\n",
       "    .dataframe tbody tr th {\n",
       "        vertical-align: top;\n",
       "    }\n",
       "\n",
       "    .dataframe thead th {\n",
       "        text-align: right;\n",
       "    }\n",
       "</style>\n",
       "<table border=\"1\" class=\"dataframe\">\n",
       "  <thead>\n",
       "    <tr style=\"text-align: right;\">\n",
       "      <th></th>\n",
       "      <th>user_id</th>\n",
       "      <th>integration_id</th>\n",
       "      <th>login_id</th>\n",
       "      <th>first_name</th>\n",
       "      <th>last_name</th>\n",
       "      <th>short_name</th>\n",
       "      <th>email</th>\n",
       "      <th>status</th>\n",
       "      <th>brukarnamn</th>\n",
       "    </tr>\n",
       "  </thead>\n",
       "  <tbody>\n",
       "  </tbody>\n",
       "</table>\n",
       "</div>"
      ],
      "text/plain": [
       "Empty DataFrame\n",
       "Columns: [user_id, integration_id, login_id, first_name, last_name, short_name, email, status, brukarnamn]\n",
       "Index: []"
      ]
     },
     "execution_count": 25,
     "metadata": {},
     "output_type": "execute_result"
    }
   ],
   "source": [
    "nye"
   ]
  },
  {
   "cell_type": "markdown",
   "metadata": {},
   "source": [
    "Dersom eg ser at det er nye tilsette skal eg lage nye testemner for dei:"
   ]
  },
  {
   "cell_type": "code",
   "execution_count": null,
   "metadata": {},
   "outputs": [],
   "source": [
    "dato = datetime.now().strftime(\"%y%m%d\")\n",
    "n = 1\n",
    "# for row, index in nye.iterrows():\n",
    "#     params = {\n",
    "#         'course[name]': f\"Testemne for {row['Namn']}\",\n",
    "#         'course[sis_course_id]': f\"hvl{dato}-e{n}-akv\",\n",
    "#         'course[course_code]': f\"Testemne for {row['Namn']}\",\n",
    "#         'course[syllabus_body]': \"Dette er ditt testemne; her kan du gjere alt du vil prøve på i eit 'vanleg' emne.\\nTing du lager her kan du hente inn i andre emne til bruk i undervising.\",\n",
    "#         'course[default_view]': 'syllabus', \n",
    "#     }\n",
    "#     url = f\"https://hvl.instructure.com/api/v1/accounts/9044/courses\"\n",
    "#     response = requests.post(url, headers=headers, params=params)\n",
    "#     course_id = response.json()['id']\n",
    "#     params = {\n",
    "#         'enrollment[user_id]': i['user_id'],\n",
    "#         'enrollment[type]': 'TeacherEnrollment',\n",
    "#         'enrollment[workflow_state]': 'active',\n",
    "#     }\n",
    "#     n += 1\n",
    "#     url = f\"https://hvl.instructure.com/api/v1/courses/{course_id}/enrollments\"\n",
    "#     response = requests.post(url, headers=headers, params=params)\n",
    "#     print(f\"{i['user_id']}: {response.status_code}\")"
   ]
  }
 ],
 "metadata": {
  "kernelspec": {
   "display_name": "Python 3",
   "language": "python",
   "name": "python3"
  },
  "language_info": {
   "codemirror_mode": {
    "name": "ipython",
    "version": 3
   },
   "file_extension": ".py",
   "mimetype": "text/x-python",
   "name": "python",
   "nbconvert_exporter": "python",
   "pygments_lexer": "ipython3",
   "version": "3.12.3"
  }
 },
 "nbformat": 4,
 "nbformat_minor": 2
}
