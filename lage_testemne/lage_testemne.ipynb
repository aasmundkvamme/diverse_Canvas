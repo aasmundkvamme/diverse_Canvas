{
 "cells": [
  {
   "cell_type": "code",
   "execution_count": 1,
   "metadata": {},
   "outputs": [],
   "source": [
    "import requests\n",
    "import os\n",
    "import pandas as pd\n",
    "from datetime import date, datetime, timedelta\n",
    "import time\n",
    "from io import StringIO\n",
    "idag = date.today().isoformat()[0:10]\n",
    "tokenCanvas = os.environ['tokenCanvas']\n",
    "\n",
    "headers = {'Authorization': f'Bearer {tokenCanvas}',}\n",
    "params = {'per_page': 100,}"
   ]
  },
  {
   "cell_type": "markdown",
   "metadata": {},
   "source": [
    "# Initialisering\n",
    "\n",
    "Først må eg lese fila over alle som er aktive lærarar i Canvas, og sjekke om dei er medlem i eit testemne. Dette vert berre gjort ein gang, og resultatet vert lagra i ei fil. \n"
   ]
  },
  {
   "cell_type": "code",
   "execution_count": null,
   "metadata": {},
   "outputs": [],
   "source": [
    "data = pd.read_csv(\"users_filtered.csv\")\n",
    "data['brukarnamn'] = data['login_id'].apply(lambda x: x.split('@')[0])\n",
    "eksisterande = data[data['brukarnamn'].str.isalpha()]\n",
    "eksisterande.info()"
   ]
  },
  {
   "cell_type": "markdown",
   "metadata": {},
   "source": [
    "Den neste kodesnutten lager ei liste over alle lærarar, og kva testemne dei eventuelt er med i.\n",
    "\n",
    "Køyrt og rensa 250526 - det skal ikkje vere nødvendig å køyre den fleire ganger. Resultatet etter vasking er lagra i `250526 oversikt.csv`."
   ]
  },
  {
   "cell_type": "code",
   "execution_count": 3,
   "metadata": {},
   "outputs": [],
   "source": [
    "# for person in eksisterande['login_id']:\n",
    "#     print(f\"{person} | \", end=\"\")\n",
    "#     try:\n",
    "#         params = {'per_page': 100}\n",
    "#         url = f\"https://hvl.instructure.com/api/v1/accounts/1/users?search_term={person}\"\n",
    "#         respons = requests.get(url, headers=headers, params=params)\n",
    "#         user_id = respons.json()[0]['id']\n",
    "#         name = respons.json()[0]['name']\n",
    "#         print(f\"{user_id} | {name} | \", end=\"\")\n",
    "#         emneliste = []\n",
    "#         params = {'per_page': 100, 'state': ['unpublished']}\n",
    "#         url = f\"https://hvl.instructure.com/api/v1/users/{user_id}/courses\"\n",
    "#         respons = requests.get(url, headers=headers, params=params)\n",
    "#         for emne in respons.json():\n",
    "#             emneliste.append(emne['name'])\n",
    "#         params = {'per_page': 100, 'state': ['available']}\n",
    "#         url = f\"https://hvl.instructure.com/api/v1/users/{user_id}/courses\"\n",
    "#         respons = requests.get(url, headers=headers, params=params)\n",
    "#         for emne in respons.json():\n",
    "#             emneliste.append(emne['name'])\n",
    "#         for e in emneliste: \n",
    "#             if 'Testemne' in e:\n",
    "#                 print(f\"{e}, \", end=\" \")\n",
    "#         print(\"\")\n",
    "#     except:\n",
    "#         print(\"Ikkje lærar.\") "
   ]
  },
  {
   "cell_type": "markdown",
   "metadata": {},
   "source": [
    "## Opprette testemne for alle lærarar som ikkje har det.\n",
    "\n",
    "Eg må gå gjennom fila frå forrige blokk og plukke ut alle som har \"Lag nytt emne\" i Kontrollfelt:\n"
   ]
  },
  {
   "cell_type": "code",
   "execution_count": 10,
   "metadata": {},
   "outputs": [
    {
     "data": {
      "text/html": [
       "<div>\n",
       "<style scoped>\n",
       "    .dataframe tbody tr th:only-of-type {\n",
       "        vertical-align: middle;\n",
       "    }\n",
       "\n",
       "    .dataframe tbody tr th {\n",
       "        vertical-align: top;\n",
       "    }\n",
       "\n",
       "    .dataframe thead th {\n",
       "        text-align: right;\n",
       "    }\n",
       "</style>\n",
       "<table border=\"1\" class=\"dataframe\">\n",
       "  <thead>\n",
       "    <tr style=\"text-align: right;\">\n",
       "      <th></th>\n",
       "      <th>brukar</th>\n",
       "      <th>id</th>\n",
       "      <th>namn</th>\n",
       "      <th>testemne</th>\n",
       "    </tr>\n",
       "  </thead>\n",
       "  <tbody>\n",
       "    <tr>\n",
       "      <th>0</th>\n",
       "      <td>jwin@hvl.no</td>\n",
       "      <td>66156</td>\n",
       "      <td>Julia Noelle Winslow</td>\n",
       "      <td>Testemne for Julia Noelle Winslow</td>\n",
       "    </tr>\n",
       "    <tr>\n",
       "      <th>1</th>\n",
       "      <td>mabe@hvl.no</td>\n",
       "      <td>4576</td>\n",
       "      <td>Magnar Berge</td>\n",
       "      <td>Testemne for Magnar Berge   Testemne for eigen...</td>\n",
       "    </tr>\n",
       "    <tr>\n",
       "      <th>2</th>\n",
       "      <td>gobe@hvl.no</td>\n",
       "      <td>1611</td>\n",
       "      <td>Geir Omar Berland</td>\n",
       "      <td>Testemne for Geir Omar Berland   Testemne for ...</td>\n",
       "    </tr>\n",
       "    <tr>\n",
       "      <th>3</th>\n",
       "      <td>bvd@hvl.no</td>\n",
       "      <td>4401</td>\n",
       "      <td>Britt Viola Danielsen</td>\n",
       "      <td>Testemne for Britt Viola Danielsen   Testemne ...</td>\n",
       "    </tr>\n",
       "    <tr>\n",
       "      <th>4</th>\n",
       "      <td>rher@hvl.no</td>\n",
       "      <td>4886</td>\n",
       "      <td>Rune Herheim</td>\n",
       "      <td>Testemne for Rune Herheim   Testemne for Beate...</td>\n",
       "    </tr>\n",
       "  </tbody>\n",
       "</table>\n",
       "</div>"
      ],
      "text/plain": [
       "        brukar     id                   namn  \\\n",
       "0  jwin@hvl.no  66156   Julia Noelle Winslow   \n",
       "1  mabe@hvl.no   4576           Magnar Berge   \n",
       "2  gobe@hvl.no   1611      Geir Omar Berland   \n",
       "3   bvd@hvl.no   4401  Britt Viola Danielsen   \n",
       "4  rher@hvl.no   4886           Rune Herheim   \n",
       "\n",
       "                                            testemne  \n",
       "0                  Testemne for Julia Noelle Winslow  \n",
       "1  Testemne for Magnar Berge   Testemne for eigen...  \n",
       "2  Testemne for Geir Omar Berland   Testemne for ...  \n",
       "3  Testemne for Britt Viola Danielsen   Testemne ...  \n",
       "4  Testemne for Rune Herheim   Testemne for Beate...  "
      ]
     },
     "execution_count": 10,
     "metadata": {},
     "output_type": "execute_result"
    }
   ],
   "source": [
    "data = pd.read_csv(\"250526 oversikt.csv\")\n",
    "data.head()"
   ]
  },
  {
   "cell_type": "code",
   "execution_count": 14,
   "metadata": {},
   "outputs": [],
   "source": [
    "data['lag_nytt'] = data.apply(lambda row: str(row['namn']) in str(row['testemne']), axis=1)"
   ]
  },
  {
   "cell_type": "code",
   "execution_count": 16,
   "metadata": {},
   "outputs": [
    {
     "data": {
      "text/plain": [
       "lag_nytt\n",
       "True     1416\n",
       "False      53\n",
       "Name: count, dtype: int64"
      ]
     },
     "execution_count": 16,
     "metadata": {},
     "output_type": "execute_result"
    }
   ],
   "source": [
    "data['lag_nytt'].value_counts()"
   ]
  },
  {
   "cell_type": "markdown",
   "metadata": {},
   "source": [
    "Den neste kodesnutten går gjennom alle eg har funnet og oppretter nye testemne. Ikkje køyr denne fleire ganger!"
   ]
  },
  {
   "cell_type": "code",
   "execution_count": null,
   "metadata": {},
   "outputs": [],
   "source": [
    "# for n in range(11,len(lag_testemne)):\n",
    "#     i = lag_testemne.iloc[n]\n",
    "#     params = {\n",
    "#         'course[name]': f\"Testemne for {i['Namn']}\",\n",
    "#         'course[sis_course_id]': f\"hvl250506-e{n}-5-akv\",\n",
    "#         'course[course_code]': f\"Testemne for {i['Namn']}\",\n",
    "#         'course[syllabus_body]': \"Dette er ditt testemne; her kan du gjere alt du vil prøve på i eit 'vanleg' emne.\\nTing du lager her kan du hente inn i andre emne til bruk i undervising.\",\n",
    "#         'course[default_view]': 'syllabus', \n",
    "#     }\n",
    "#     url = f\"https://hvl.instructure.com/api/v1/accounts/9044/courses\"\n",
    "#     response = requests.post(url, headers=headers, params=params)\n",
    "#     course_id = response.json()['id']\n",
    "#     params = {\n",
    "#         'enrollment[user_id]': i['user_id'],\n",
    "#         'enrollment[type]': 'TeacherEnrollment',\n",
    "#         'enrollment[workflow_state]': 'active',\n",
    "#     }\n",
    "#     url = f\"https://hvl.instructure.com/api/v1/courses/{course_id}/enrollments\"\n",
    "#     response = requests.post(url, headers=headers, params=params)\n",
    "#     print(f\"{i['user_id']}: {response.status_code}\")"
   ]
  },
  {
   "cell_type": "markdown",
   "metadata": {},
   "source": [
    "# Neste steg: sjekke nye lærarar kvar natt\n",
    "\n",
    "No må eg lage meg ei kontrolliste med kven som har testemne. Kvar natt sjekker eg så importen av lærarar, og ser om det er nokon der som ikkje er på lista over eksisterande lærarar. Desse skal i så fall få eit testemne etter malen over.\n",
    "\n",
    "Først må eg lese fila over alle som vert overført i natt frå FS:"
   ]
  },
  {
   "cell_type": "code",
   "execution_count": null,
   "metadata": {},
   "outputs": [],
   "source": [
    "url = \"https://hvl.instructure.com/api/v1/accounts/1/sis_imports\"\n",
    "svar = requests.get(url, headers=headers, params=params)\n",
    "importerte_filar = svar.json()\n",
    "\n",
    "no = datetime.now()\n",
    "igår = (datetime.now() - timedelta(hours=24)).isoformat()\n",
    "filliste = []\n",
    "for i in importerte_filar['sis_imports']:\n",
    "    import_dato = datetime.fromisoformat(i['created_at'].replace('Z', '+00:00')).replace(tzinfo=None)\n",
    "    igår_dato = datetime.fromisoformat(igår)\n",
    "    if (import_dato > igår_dato):\n",
    "        for j in i['csv_attachments']:\n",
    "            if j['filename'] == \"users_filtered.csv\":\n",
    "                filliste.append({'dato': i['created_at'], 'url': j['url']})\n",
    "users_liste = []\n",
    "for i in filliste:\n",
    "    temp = pd.read_csv(StringIO(requests.get(i['url'], headers=headers).content.decode(\"utf-8\")))\n",
    "    print(f\"{i['dato']}: {len(temp)}\")\n",
    "    users_liste.append(temp)\n",
    "\n",
    "overført = pd.concat(users_liste)\n",
    "overført['brukarnamn'] = overført['login_id'].apply(lambda x: x.split('@')[0])\n",
    "overført = overført[overført['brukarnamn'].str.isalpha()]\n",
    "nye = overført[~overført['brukarnamn'].isin(eksisterande['brukarnamn'])]"
   ]
  },
  {
   "cell_type": "code",
   "execution_count": null,
   "metadata": {},
   "outputs": [],
   "source": [
    "nye"
   ]
  },
  {
   "cell_type": "markdown",
   "metadata": {},
   "source": [
    "Dersom eg ser at det er nye tilsette skal eg lage nye testemner for dei, og eg må legge dei til i fila `users_filtered.csv`: "
   ]
  },
  {
   "cell_type": "code",
   "execution_count": null,
   "metadata": {},
   "outputs": [],
   "source": [
    "dato = datetime.now().strftime(\"%y%m%d\")\n",
    "data = pd.read_csv(\"users_filtered.csv\")\n",
    "n = 1\n",
    "for row, index in nye.iterrows():\n",
    "#     params = {\n",
    "#         'course[name]': f\"Testemne for {row['Namn']}\",\n",
    "#         'course[sis_course_id]': f\"hvl{dato}-e{n}-akv\",\n",
    "#         'course[course_code]': f\"Testemne for {row['Namn']}\",\n",
    "#         'course[syllabus_body]': \"Dette er ditt testemne; her kan du gjere alt du vil prøve på i eit 'vanleg' emne.\\nTing du lager her kan du hente inn i andre emne til bruk i undervising.\",\n",
    "#         'course[default_view]': 'syllabus', \n",
    "#     }\n",
    "#     url = f\"https://hvl.instructure.com/api/v1/accounts/9044/courses\"\n",
    "#     response = requests.post(url, headers=headers, params=params)\n",
    "#     course_id = response.json()['id']\n",
    "#     params = {\n",
    "#         'enrollment[user_id]': i['user_id'],\n",
    "#         'enrollment[type]': 'TeacherEnrollment',\n",
    "#         'enrollment[workflow_state]': 'active',\n",
    "#     }\n",
    "#     n += 1\n",
    "#     url = f\"https://hvl.instructure.com/api/v1/courses/{course_id}/enrollments\"\n",
    "#     response = requests.post(url, headers=headers, params=params)\n",
    "#     print(f\"{i['user_id']}: {response.status_code}\")\n",
    "\n",
    "    # Legg nye til i `users_filtered.csv`\n",
    "    data.loc[len(data)] = [index[0], index[1], index[2], index[3], index[4], index[5], index[6], index[7]]\n",
    "\n",
    "data.to_csv(\"users_filtered.csv\", index=False)"
   ]
  }
 ],
 "metadata": {
  "kernelspec": {
   "display_name": "Python 3",
   "language": "python",
   "name": "python3"
  },
  "language_info": {
   "codemirror_mode": {
    "name": "ipython",
    "version": 3
   },
   "file_extension": ".py",
   "mimetype": "text/x-python",
   "name": "python",
   "nbconvert_exporter": "python",
   "pygments_lexer": "ipython3",
   "version": "3.12.3"
  }
 },
 "nbformat": 4,
 "nbformat_minor": 2
}
