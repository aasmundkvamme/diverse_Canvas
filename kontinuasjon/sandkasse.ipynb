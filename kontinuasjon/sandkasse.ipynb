{
 "cells": [
  {
   "cell_type": "code",
   "execution_count": 1,
   "metadata": {},
   "outputs": [],
   "source": [
    "import requests\n",
    "import os\n",
    "\n",
    "FSbrukar = os.environ[\"FSbrukar\"]\n",
    "FSpassord = os.environ[\"FSpassord\"]\n",
    "\n",
    "def query_FS_graphql(query, variable):\n",
    "    hode = {\n",
    "        'Accept': 'application/json;version=1',\n",
    "        \"Feature-Flags\": \"beta, experimental\"\n",
    "    }\n",
    "    GraphQLurl = \"https://api.fellesstudentsystem.no/graphql/\"\n",
    "    svar = requests.post(\n",
    "        GraphQLurl, \n",
    "        json = {\n",
    "            'query': query,\n",
    "            'variables': variable\n",
    "        },\n",
    "        headers=hode,\n",
    "        auth=(FSbrukar, FSpassord))\n",
    "    if 200 <= svar.status_code < 300:\n",
    "        return svar.json()\n",
    "    else:\n",
    "        return \n"
   ]
  },
  {
   "cell_type": "code",
   "execution_count": 71,
   "metadata": {},
   "outputs": [],
   "source": [
    "query_termin = \"\"\"\n",
    "query MyQuery($arstall: [Int!], $terminbetegnelse: [ID!]) {\n",
    "  terminer(\n",
    "    filter: {eierOrganisasjonskode: \"0203\", arstall: $arstall, terminbetegnelser: $terminbetegnelse}\n",
    "  ) {\n",
    "    nodes {\n",
    "      id\n",
    "      betegnelse {\n",
    "        kode\n",
    "      }\n",
    "      arstall\n",
    "    }\n",
    "  }\n",
    "}\n",
    "\"\"\"\n",
    "\n",
    "\n",
    "query_emneid = \"\"\"\n",
    "query MyQuery($emnekode: [String!]) {\n",
    "  emner(filter: {eierInstitusjonsnummer: \"0203\", emnekoder: $emnekode}) {\n",
    "    nodes {\n",
    "      id\n",
    "    }\n",
    "  }\n",
    "}\n",
    "\"\"\"\n",
    "\n",
    "query_vurderingsenheter = \"\"\"\n",
    "query MyQuery ($emne_id: [ID!], $termin_id: [ID!]) {\n",
    "  vurderingsenheter(\n",
    "    filter: {eierOrganisasjonskode: \"203\", emner: $emne_id, terminer: $termin_id}\n",
    "  ) {\n",
    "    nodes {\n",
    "      vurderingsmeldinger {\n",
    "        student {\n",
    "          vurderingsforsokForEmner(emnekoder: {emnekode: \"DAT102\", versjonskode: \"1\"}) {\n",
    "            antallTellendeForsok\n",
    "          }\n",
    "          studentnummer\n",
    "        }\n",
    "      }\n",
    "    }\n",
    "  }\n",
    "}\n",
    "\"\"\"\n",
    "\n",
    "query_partiplassering = \"\"\"\n",
    "query MyQuery {\n",
    "undervisningspartiplasseringer(\n",
    "    filter: {eierOrganisasjonskode: \"203\", emneSkalEksporteresTilLms: true, undervisningsaktiviteter: [\"MTIwOjIwMywyMDMsREFUMTAyLDEsMjAyNSxWw4VSLDEsMQ\", \"MTIwOjIwMywyMDMsREFUMTAyLDEsMjAyNSxWw4VSLDEsMw\", \"MTIwOjIwMywyMDMsREFUMTAyLDEsMjAyNSxWw4VSLDEsNQ\", \"MTIwOjIwMywyMDMsREFUMTAyLDEsMjAyNSxWw4VSLDEsNg\" ]}\n",
    "    first: 1000\n",
    "  ) {\n",
    "    nodes {\n",
    "      student {\n",
    "        studentnummer\n",
    "      }\n",
    "      undervisningsaktivitet {\n",
    "        kode\n",
    "      }\n",
    "    }\n",
    "  }\n",
    "}\n",
    "\"\"\""
   ]
  },
  {
   "cell_type": "code",
   "execution_count": 10,
   "metadata": {},
   "outputs": [],
   "source": [
    "variable = {'arstall': 2025, 'terminbetegnelse': \"MTE3OjIwMyxWw4VS\"}\n",
    "svar = query_FS_graphql(query_termin, variable)\n",
    "termin_id = svar['data']['terminer']['nodes'][0]['id']\n",
    "\n"
   ]
  },
  {
   "cell_type": "code",
   "execution_count": 15,
   "metadata": {},
   "outputs": [],
   "source": [
    "emnekode = \"DAT102\"\n",
    "variable = {'emnekode': emnekode, }\n",
    "svar = query_FS_graphql(query_emneid, variable)\n",
    "emne_id = svar['data']['emner']['nodes'][0]['id']\n",
    "\n"
   ]
  },
  {
   "cell_type": "code",
   "execution_count": 36,
   "metadata": {},
   "outputs": [],
   "source": [
    "variable = {'emne_id': emne_id, 'termin': termin_id}\n",
    "svar = query_FS_graphql(query_vurderingsenheter, variable)\n",
    "vurderingsmeldinger = svar['data']['vurderingsenheter']['nodes']\n"
   ]
  },
  {
   "cell_type": "code",
   "execution_count": 72,
   "metadata": {},
   "outputs": [],
   "source": [
    "svar = query_FS_graphql(query_partiplassering, variable)\n",
    "partiplasseringer = svar['data']['undervisningspartiplasseringer']['nodes']\n",
    "plassert = []\n",
    "for p in partiplasseringer:\n",
    "    plassert.append([p['student']['studentnummer'], p['undervisningsaktivitet']['kode']])\n"
   ]
  },
  {
   "cell_type": "code",
   "execution_count": 76,
   "metadata": {},
   "outputs": [],
   "source": [
    "ekstra_vurderingsmeldt = []\n",
    "for v in vurderingsmeldinger:\n",
    "    if len(v['vurderingsmeldinger']) > 0:\n",
    "        for s in v['vurderingsmeldinger']:\n",
    "            if len(s['student']['vurderingsforsokForEmner']) > 0:\n",
    "                # print(f\"{s['student']['studentnummer']} - {s['student']['vurderingsforsokForEmner'][0]['antallTellendeForsok']}\")\n",
    "                ekstra_vurderingsmeldt.append(s['student']['studentnummer'])\n"
   ]
  },
  {
   "cell_type": "code",
   "execution_count": 78,
   "metadata": {},
   "outputs": [
    {
     "name": "stderr",
     "output_type": "stream",
     "text": [
      "C:\\Users\\AKV\\AppData\\Local\\Temp\\ipykernel_11824\\1635647140.py:2: DtypeWarning: Columns (0) have mixed types. Specify dtype option on import or set low_memory=False.\n",
      "  data = pd.read_csv(\"enrollments.csv\")\n"
     ]
    }
   ],
   "source": [
    "import pandas as pd\n",
    "data = pd.read_csv(\"enrollments.csv\")\n"
   ]
  },
  {
   "cell_type": "code",
   "execution_count": 91,
   "metadata": {},
   "outputs": [],
   "source": [
    "data = data.copy()\n",
    "data.dropna(subset=[\"section_id\"], inplace=True)"
   ]
  },
  {
   "cell_type": "code",
   "execution_count": 92,
   "metadata": {},
   "outputs": [
    {
     "data": {
      "text/plain": [
       "225"
      ]
     },
     "execution_count": 92,
     "metadata": {},
     "output_type": "execute_result"
    }
   ],
   "source": [
    "\n",
    "len(data[data['section_id'].str.startswith(\"UA_203_DAT102_1_2025_VÅR_1\")])\n"
   ]
  },
  {
   "cell_type": "code",
   "execution_count": 93,
   "metadata": {},
   "outputs": [
    {
     "data": {
      "text/html": [
       "<div>\n",
       "<style scoped>\n",
       "    .dataframe tbody tr th:only-of-type {\n",
       "        vertical-align: middle;\n",
       "    }\n",
       "\n",
       "    .dataframe tbody tr th {\n",
       "        vertical-align: top;\n",
       "    }\n",
       "\n",
       "    .dataframe thead th {\n",
       "        text-align: right;\n",
       "    }\n",
       "</style>\n",
       "<table border=\"1\" class=\"dataframe\">\n",
       "  <thead>\n",
       "    <tr style=\"text-align: right;\">\n",
       "      <th></th>\n",
       "      <th>course_id</th>\n",
       "      <th>user_id</th>\n",
       "      <th>role</th>\n",
       "      <th>section_id</th>\n",
       "      <th>status</th>\n",
       "      <th>associated_user_id</th>\n",
       "    </tr>\n",
       "  </thead>\n",
       "  <tbody>\n",
       "    <tr>\n",
       "      <th>0</th>\n",
       "      <td>NaN</td>\n",
       "      <td>fs:203:600166</td>\n",
       "      <td>student</td>\n",
       "      <td>UA_203_MAT110_1_2025_VÅR_1_2</td>\n",
       "      <td>completed</td>\n",
       "      <td>NaN</td>\n",
       "    </tr>\n",
       "    <tr>\n",
       "      <th>1</th>\n",
       "      <td>NaN</td>\n",
       "      <td>fs:203:600166</td>\n",
       "      <td>student</td>\n",
       "      <td>UE_203_MAT110_1_2025_VÅR_1</td>\n",
       "      <td>completed</td>\n",
       "      <td>NaN</td>\n",
       "    </tr>\n",
       "    <tr>\n",
       "      <th>2</th>\n",
       "      <td>NaN</td>\n",
       "      <td>fs:203:209759</td>\n",
       "      <td>teacher</td>\n",
       "      <td>UE_203_Å-KH230_1_2026_VÅR_1</td>\n",
       "      <td>active</td>\n",
       "      <td>NaN</td>\n",
       "    </tr>\n",
       "    <tr>\n",
       "      <th>3</th>\n",
       "      <td>NaN</td>\n",
       "      <td>fs:203:714472</td>\n",
       "      <td>student</td>\n",
       "      <td>UE_203_Å-KH230_1_2025_VÅR_1</td>\n",
       "      <td>active</td>\n",
       "      <td>NaN</td>\n",
       "    </tr>\n",
       "    <tr>\n",
       "      <th>4</th>\n",
       "      <td>NaN</td>\n",
       "      <td>fs:203:638877</td>\n",
       "      <td>student</td>\n",
       "      <td>UE_203_Å-KH230_1_2025_VÅR_1</td>\n",
       "      <td>active</td>\n",
       "      <td>NaN</td>\n",
       "    </tr>\n",
       "  </tbody>\n",
       "</table>\n",
       "</div>"
      ],
      "text/plain": [
       "  course_id        user_id     role                    section_id     status  \\\n",
       "0       NaN  fs:203:600166  student  UA_203_MAT110_1_2025_VÅR_1_2  completed   \n",
       "1       NaN  fs:203:600166  student    UE_203_MAT110_1_2025_VÅR_1  completed   \n",
       "2       NaN  fs:203:209759  teacher   UE_203_Å-KH230_1_2026_VÅR_1     active   \n",
       "3       NaN  fs:203:714472  student   UE_203_Å-KH230_1_2025_VÅR_1     active   \n",
       "4       NaN  fs:203:638877  student   UE_203_Å-KH230_1_2025_VÅR_1     active   \n",
       "\n",
       "   associated_user_id  \n",
       "0                 NaN  \n",
       "1                 NaN  \n",
       "2                 NaN  \n",
       "3                 NaN  \n",
       "4                 NaN  "
      ]
     },
     "execution_count": 93,
     "metadata": {},
     "output_type": "execute_result"
    }
   ],
   "source": [
    "data.head()"
   ]
  },
  {
   "cell_type": "code",
   "execution_count": null,
   "metadata": {},
   "outputs": [],
   "source": []
  }
 ],
 "metadata": {
  "kernelspec": {
   "display_name": "Python 3",
   "language": "python",
   "name": "python3"
  },
  "language_info": {
   "codemirror_mode": {
    "name": "ipython",
    "version": 3
   },
   "file_extension": ".py",
   "mimetype": "text/x-python",
   "name": "python",
   "nbconvert_exporter": "python",
   "pygments_lexer": "ipython3",
   "version": "3.12.3"
  }
 },
 "nbformat": 4,
 "nbformat_minor": 2
}
