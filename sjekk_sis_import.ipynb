{
 "cells": [
  {
   "cell_type": "code",
   "execution_count": 4,
   "metadata": {},
   "outputs": [],
   "source": [
    "import requests\n",
    "import os\n",
    "import pandas as pd\n",
    "from datetime import date\n",
    "import time\n",
    "import smtplib\n",
    "from email.mime.text import MIMEText\n",
    "from io import StringIO\n",
    "\n",
    "\n",
    "hodeCanvas = {\"Authorization\": f'Bearer {os.environ[\"tokenCanvas\"]}'}\n",
    "idag = date.today().isoformat()[0:10]"
   ]
  },
  {
   "cell_type": "code",
   "execution_count": 16,
   "metadata": {},
   "outputs": [
    {
     "name": "stdout",
     "output_type": "stream",
     "text": [
      "2025-03-06T02:42:17Z\n",
      "An existing Canvas user with the Canvas ID 74193 has already claimed fs:203:125397's user_id requested login information, skipping\n",
      "An existing Canvas user with the SIS ID hvl240807-p1-jbru has already claimed fs:203:146794's user_id requested login information, skipping\n",
      "An existing Canvas user with the Canvas ID 48226 has already claimed fs:203:152758's user_id requested login information, skipping\n",
      "An existing Canvas user with the SIS ID HVL110121-p1-sol has already claimed fs:203:165361's user_id requested login information, skipping\n",
      "An existing Canvas user with the Canvas ID 23680 has already claimed fs:203:19319's user_id requested login information, skipping\n",
      "An existing Canvas user with the Canvas ID 25526 has already claimed fs:203:216720's user_id requested login information, skipping\n",
      "An existing Canvas user with the Canvas ID 18488 has already claimed fs:203:677139's user_id requested login information, skipping\n",
      "\n"
     ]
    }
   ],
   "source": [
    "url = \"https://hvl.instructure.com/api/v1/accounts/1/sis_imports\"\n",
    "svar = requests.get(url, headers=hodeCanvas)\n",
    "importer = svar.json()\n",
    "antal_feilmeldingar = 0\n",
    "innhald = \"\"\n",
    "for i in importer['sis_imports']:\n",
    "    if (\"errors_attachment\" in i) and (i['created_at'] > idag):\n",
    "        fil = i[\"errors_attachment\"]['url']\n",
    "        data = pd.read_csv(StringIO(requests.get(fil, headers=hodeCanvas).content.decode(\"utf-8\")))\n",
    "        brukarar = data[data['message'].str.startswith('User not found')]\n",
    "        eksisterer = data[data['message'].str.startswith('An existing')]\n",
    "        for b in brukarar['message']:\n",
    "            innhald += f\"{b}\\n\"\n",
    "            antal_feilmeldingar += 1\n",
    "        for e in eksisterer['message']:\n",
    "            innhald += f\"{e}\\n\"\n",
    "            antal_feilmeldingar += 1\n",
    "print(innhald)\n",
    "        "
   ]
  },
  {
   "cell_type": "code",
   "execution_count": 15,
   "metadata": {},
   "outputs": [
    {
     "name": "stdout",
     "output_type": "stream",
     "text": [
      "An existing Canvas user with the Canvas ID 74193 has already claimed fs:203:125397's user_id requested login information, skipping\n",
      "An existing Canvas user with the SIS ID hvl240807-p1-jbru has already claimed fs:203:146794's user_id requested login information, skipping\n",
      "An existing Canvas user with the Canvas ID 48226 has already claimed fs:203:152758's user_id requested login information, skipping\n",
      "An existing Canvas user with the SIS ID HVL110121-p1-sol has already claimed fs:203:165361's user_id requested login information, skipping\n",
      "An existing Canvas user with the Canvas ID 23680 has already claimed fs:203:19319's user_id requested login information, skipping\n",
      "An existing Canvas user with the Canvas ID 25526 has already claimed fs:203:216720's user_id requested login information, skipping\n",
      "An existing Canvas user with the Canvas ID 18488 has already claimed fs:203:677139's user_id requested login information, skipping\n",
      "\n"
     ]
    }
   ],
   "source": [
    "print(innhald)"
   ]
  },
  {
   "cell_type": "code",
   "execution_count": 9,
   "metadata": {},
   "outputs": [
    {
     "data": {
      "text/html": [
       "<div>\n",
       "<style scoped>\n",
       "    .dataframe tbody tr th:only-of-type {\n",
       "        vertical-align: middle;\n",
       "    }\n",
       "\n",
       "    .dataframe tbody tr th {\n",
       "        vertical-align: top;\n",
       "    }\n",
       "\n",
       "    .dataframe thead th {\n",
       "        text-align: right;\n",
       "    }\n",
       "</style>\n",
       "<table border=\"1\" class=\"dataframe\">\n",
       "  <thead>\n",
       "    <tr style=\"text-align: right;\">\n",
       "      <th></th>\n",
       "      <th>sis_import_id</th>\n",
       "      <th>file</th>\n",
       "      <th>message</th>\n",
       "      <th>row</th>\n",
       "    </tr>\n",
       "  </thead>\n",
       "  <tbody>\n",
       "    <tr>\n",
       "      <th>22</th>\n",
       "      <td>28500</td>\n",
       "      <td>users.csv</td>\n",
       "      <td>An existing Canvas user with the Canvas ID 741...</td>\n",
       "      <td>6117</td>\n",
       "    </tr>\n",
       "    <tr>\n",
       "      <th>23</th>\n",
       "      <td>28500</td>\n",
       "      <td>users.csv</td>\n",
       "      <td>An existing Canvas user with the SIS ID hvl240...</td>\n",
       "      <td>8765</td>\n",
       "    </tr>\n",
       "    <tr>\n",
       "      <th>24</th>\n",
       "      <td>28500</td>\n",
       "      <td>users.csv</td>\n",
       "      <td>An existing Canvas user with the Canvas ID 482...</td>\n",
       "      <td>8858</td>\n",
       "    </tr>\n",
       "    <tr>\n",
       "      <th>25</th>\n",
       "      <td>28500</td>\n",
       "      <td>users.csv</td>\n",
       "      <td>An existing Canvas user with the SIS ID HVL110...</td>\n",
       "      <td>9044</td>\n",
       "    </tr>\n",
       "    <tr>\n",
       "      <th>26</th>\n",
       "      <td>28500</td>\n",
       "      <td>users.csv</td>\n",
       "      <td>An existing Canvas user with the Canvas ID 236...</td>\n",
       "      <td>9467</td>\n",
       "    </tr>\n",
       "    <tr>\n",
       "      <th>27</th>\n",
       "      <td>28500</td>\n",
       "      <td>users.csv</td>\n",
       "      <td>An existing Canvas user with the Canvas ID 255...</td>\n",
       "      <td>9812</td>\n",
       "    </tr>\n",
       "    <tr>\n",
       "      <th>28</th>\n",
       "      <td>28500</td>\n",
       "      <td>users.csv</td>\n",
       "      <td>An existing Canvas user with the Canvas ID 184...</td>\n",
       "      <td>13675</td>\n",
       "    </tr>\n",
       "  </tbody>\n",
       "</table>\n",
       "</div>"
      ],
      "text/plain": [
       "    sis_import_id       file  \\\n",
       "22          28500  users.csv   \n",
       "23          28500  users.csv   \n",
       "24          28500  users.csv   \n",
       "25          28500  users.csv   \n",
       "26          28500  users.csv   \n",
       "27          28500  users.csv   \n",
       "28          28500  users.csv   \n",
       "\n",
       "                                              message    row  \n",
       "22  An existing Canvas user with the Canvas ID 741...   6117  \n",
       "23  An existing Canvas user with the SIS ID hvl240...   8765  \n",
       "24  An existing Canvas user with the Canvas ID 482...   8858  \n",
       "25  An existing Canvas user with the SIS ID HVL110...   9044  \n",
       "26  An existing Canvas user with the Canvas ID 236...   9467  \n",
       "27  An existing Canvas user with the Canvas ID 255...   9812  \n",
       "28  An existing Canvas user with the Canvas ID 184...  13675  "
      ]
     },
     "execution_count": 9,
     "metadata": {},
     "output_type": "execute_result"
    }
   ],
   "source": [
    "data[data['file']==\"users.csv\"]"
   ]
  },
  {
   "cell_type": "code",
   "execution_count": null,
   "metadata": {},
   "outputs": [],
   "source": []
  }
 ],
 "metadata": {
  "kernelspec": {
   "display_name": "Python 3",
   "language": "python",
   "name": "python3"
  },
  "language_info": {
   "codemirror_mode": {
    "name": "ipython",
    "version": 3
   },
   "file_extension": ".py",
   "mimetype": "text/x-python",
   "name": "python",
   "nbconvert_exporter": "python",
   "pygments_lexer": "ipython3",
   "version": "3.12.3"
  }
 },
 "nbformat": 4,
 "nbformat_minor": 2
}
