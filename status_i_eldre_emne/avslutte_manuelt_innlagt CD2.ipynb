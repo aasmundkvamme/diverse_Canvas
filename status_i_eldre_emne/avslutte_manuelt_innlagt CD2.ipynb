{
 "cells": [
  {
   "cell_type": "code",
   "execution_count": 1,
   "metadata": {},
   "outputs": [],
   "source": [
    "import requests\n",
    "import os\n",
    "import pandas as pd\n",
    "import time\n",
    "tokenCanvas = os.environ['tokenCanvas']\n",
    "\n",
    "headers = {\n",
    "    'Authorization': f'Bearer {tokenCanvas}',\n",
    "}\n",
    "params = {\n",
    "    'per_page': 100,\n",
    "}\n",
    "\n",
    "def finn_rel(link_header):\n",
    "    link_header_dict = {}\n",
    "    for link in link_header.split(\",\"):\n",
    "        url, rel = link.strip().split(\";\")\n",
    "        rel = rel.split('=')[1]\n",
    "        link_header_dict[rel.strip().replace('\"', '')] = url.strip().replace('<', '').replace('>', '')      # Kommentar: denne er med BERRE for å skape balanse i .org-fila: \\\"\n",
    "    return link_header_dict\n",
    "\n",
    "\n",
    "def sis_import(filnamn):\n",
    "    url = \"https://hvl.instructure.com/api/v1/accounts/1/sis_imports\"\n",
    "    filar = {'attachment': open(filnamn, 'rb')}\n",
    "    r = requests.post(url, headers=headers, files=filar)\n",
    "    resultat = r.json()\n",
    "    vent = True\n",
    "    forseinking = 5\n",
    "    while vent:\n",
    "    # Her venter eg til alt er ferdig før eg tar neste campus\n",
    "        jobb_id = resultat['id']\n",
    "        time.sleep(forseinking)\n",
    "        url = f\"https://hvl.instructure.com/api/v1/accounts/1/sis_imports/{jobb_id}\"\n",
    "        r = requests.get(url, headers=headers)\n",
    "        resultat = r.json()\n",
    "        if resultat['progress']==100:\n",
    "            print(\"Ferdig.\")\n",
    "            vent = False\n",
    "        else:\n",
    "            print(f\"Arbeider framleis, {resultat['progress']} % ferdig.\")"
   ]
  },
  {
   "cell_type": "markdown",
   "metadata": {},
   "source": [
    "# Avslutte manuelt innlagt i eldre emne\n",
    "\n",
    "## Problemstilling\n",
    "Når vi legg inn brukarar manuelt i emne vert dei liggande aktive etter at emneet er avslutta, for det vert ikkje sendt melding om å avslutte innmeldinga for desse, slik det vert gjort for dei som kjem frå FS.\n",
    "\n",
    "## Løysing\n",
    "Eg reknar alle emne som har `enrollment_term_id` i lista over `avslutt_semestre` som avslutta. Det er desse som får \"avslutt\"-melding frå FS våren 2025 (kanskje). \n",
    "Så går eg gjennom denne lista (ca. 16000 emne) og finn alle personar som framleis er aktive. "
   ]
  },
  {
   "cell_type": "markdown",
   "metadata": {},
   "source": [
    "## CD2\n",
    "Eg henter først alle `courses` frå CD2, for å sjå kva eg får ut."
   ]
  },
  {
   "cell_type": "code",
   "execution_count": 2,
   "metadata": {},
   "outputs": [],
   "source": [
    "alle_emne = pd.read_csv(\"courses.csv\")"
   ]
  },
  {
   "cell_type": "markdown",
   "metadata": {},
   "source": [
    "Så må eg finne alle terminane vi har, slik at eg kan plukke ut alle emne som skal avsluttast (emne som 30.6.2025 har \"2024 VÅR\" som siste termin). Så kan eg jo gjere dette for andre semestre også, men det seinare."
   ]
  },
  {
   "cell_type": "code",
   "execution_count": null,
   "metadata": {},
   "outputs": [],
   "source": [
    "url = \"https://hvl.instructure.com/api/v1/accounts/1/terms\"\n",
    "dr_liste = []\n",
    "hentmeir = True\n",
    "while hentmeir:\n",
    "    print(url)\n",
    "    respons = requests.get(url, headers=headers, params=params)\n",
    "    if 200 <= respons.status_code < 300:\n",
    "        data = respons.json()\n",
    "        hentmeir = \"next\" in respons.headers['link']\n",
    "        if hentmeir:\n",
    "            url = finn_rel(respons.headers['link'])['next']\n",
    "        dataliste = []\n",
    "# Den neste linja varierer frå endepunkt til endepunkt\n",
    "        for element in data['enrollment_terms']:\n",
    "            dataliste.append(element)\n",
    "        df = pd.DataFrame(dataliste, columns=['id', 'name'])\n",
    "        dr_liste.append(df)\n",
    "alledata = pd.concat((df for df in dr_liste if not df.empty), ignore_index=True)\n",
    "\n",
    "avslutt = alledata[alledata['name'].str.endswith('2023 HØST')]['id']"
   ]
  },
  {
   "cell_type": "markdown",
   "metadata": {},
   "source": [
    "Så kan eg leite etter emne som høyrer til i kvar termin:"
   ]
  },
  {
   "cell_type": "code",
   "execution_count": null,
   "metadata": {},
   "outputs": [],
   "source": [
    "avslutt_emne = []\n",
    "for termin in avslutt:\n",
    "    avslutt_emne.append(alle_emne[alle_emne['value.enrollment_term_id'] == termin]['key.id'].to_list())\n",
    "    print(f\"Emne som skal avsluttast for termin {termin}: {len(alle_emne[alle_emne['value.enrollment_term_id'] == termin])}\")"
   ]
  },
  {
   "cell_type": "code",
   "execution_count": null,
   "metadata": {},
   "outputs": [],
   "source": [
    "deaktiver = []\n",
    "for emnekode in avslutt_emne[5]:\n",
    "    print(emnekode)\n",
    "    try:\n",
    "        url = f\"https://hvl.instructure.com/api/v1/courses/{emnekode}/enrollments\"\n",
    "        innmeldingar = requests.get(url, headers=headers, params=params).json()\n",
    "        for i in innmeldingar:\n",
    "            if i['enrollment_state'] == 'active':\n",
    "                if i['sis_user_id'] != None:\n",
    "                    if i['role'] == \"StudentEnrollment\":\n",
    "                        deaktiver.append([i['sis_user_id'],i['sis_section_id'],\"Student\",\"completed\"])\n",
    "                    if i['role'] == \"TeacherEnrollment\":\n",
    "                        deaktiver.append([i['sis_user_id'],i['sis_section_id'],\"Teacher\",\"completed\"])\n",
    "    except:\n",
    "        print(f\"Feil ved {emnekode}\")\n",
    "    pd.DataFrame(deaktiver, columns=['user_id', 'section_id', 'role', 'status']).to_csv(\"deaktiver.csv\", index=False)"
   ]
  },
  {
   "cell_type": "code",
   "execution_count": null,
   "metadata": {},
   "outputs": [],
   "source": [
    "sis_import(\"deaktiver.csv\")"
   ]
  },
  {
   "cell_type": "code",
   "execution_count": null,
   "metadata": {},
   "outputs": [],
   "source": []
  }
 ],
 "metadata": {
  "kernelspec": {
   "display_name": "Python 3",
   "language": "python",
   "name": "python3"
  },
  "language_info": {
   "codemirror_mode": {
    "name": "ipython",
    "version": 3
   },
   "file_extension": ".py",
   "mimetype": "text/x-python",
   "name": "python",
   "nbconvert_exporter": "python",
   "pygments_lexer": "ipython3",
   "version": "3.12.3"
  }
 },
 "nbformat": 4,
 "nbformat_minor": 2
}
