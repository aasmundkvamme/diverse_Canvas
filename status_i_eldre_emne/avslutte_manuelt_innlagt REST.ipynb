{
 "cells": [
  {
   "cell_type": "code",
   "execution_count": 1,
   "metadata": {},
   "outputs": [],
   "source": [
    "import requests\n",
    "import os\n",
    "import pandas as pd\n",
    "tokenCanvas = os.environ['tokenCanvas']\n",
    "\n",
    "headers = {\n",
    "    'Authorization': f'Bearer {tokenCanvas}',\n",
    "}\n",
    "params = {\n",
    "    'per_page': 100,\n",
    "}\n",
    "\n",
    "def finn_rel(link_header):\n",
    "    link_header_dict = {}\n",
    "    for link in link_header.split(\",\"):\n",
    "        url, rel = link.strip().split(\";\")\n",
    "        rel = rel.split('=')[1]\n",
    "        link_header_dict[rel.strip().replace('\"', '')] = url.strip().replace('<', '').replace('>', '')      # Kommentar: denne er med BERRE for å skape balanse i .org-fila: \\\"\n",
    "    return link_header_dict"
   ]
  },
  {
   "cell_type": "markdown",
   "metadata": {},
   "source": [
    "# Avslutte manuelt innlagt i eldre emne\n",
    "\n",
    "## Problemstilling\n",
    "Når vi legg inn brukarar manuelt i emne vert dei liggande aktive etter at emneet er avslutta, for det vert ikkje sendt melding om å avslutte innmeldinga for desse, slik det vert gjort for dei som kjem frå FS.\n",
    "\n",
    "## Løysing\n",
    "Eg reknar alle emne som har `enrollment_term_id` i lista over `avslutt_semestre` som avslutta. Det er desse som får \"avslutt\"-melding frå FS våren 2025 (kanskje). \n",
    "Så går eg gjennom denne lista (ca. 16000 emne) og finn alle personar som framleis er aktive. \n",
    "\n",
    "## Løysing 1: Hente alle emne\n",
    "Først hentar eg alle emna vi har i Canvas."
   ]
  },
  {
   "cell_type": "code",
   "execution_count": null,
   "metadata": {},
   "outputs": [],
   "source": [
    "url = \"https://hvl.instructure.com/api/v1/accounts/1/courses\"\n",
    "\n",
    "dr_liste = []\n",
    "hentmeir = True\n",
    "while hentmeir:\n",
    "    respons = requests.get(url, headers=headers, params=params)\n",
    "    if 200 <= respons.status_code < 300:\n",
    "        data = respons.json()\n",
    "        hentmeir = \"next\" in respons.headers['link']\n",
    "        if hentmeir:\n",
    "            url = finn_rel(respons.headers['link'])['next']\n",
    "            print(url)   # for kontrollen sin skuld\n",
    "        dataliste = []\n",
    "        for element in data:\n",
    "            dataliste.append([element['id'], element['name'], element['enrollment_term_id']])\n",
    "        df = pd.DataFrame(dataliste, columns=['id', 'name', 'enrollment_term_id'])\n",
    "        dr_liste.append(df)\n",
    "# og etter at eg er ferdig å lese inn slår eg dei same:\n",
    "alledata = pd.concat((df for df in dr_liste if not df.empty), ignore_index=True)\n"
   ]
  },
  {
   "cell_type": "code",
   "execution_count": 3,
   "metadata": {},
   "outputs": [],
   "source": [
    "alledata.to_csv(\"alle_emne_250407.csv\", index=False)"
   ]
  },
  {
   "cell_type": "markdown",
   "metadata": {},
   "source": [
    "### Liste alle \"eldre\" emne\n",
    "\n",
    "No kan eg plukke ut alle som har `enrollment_term_id` i `avslutt_semestre` og legge dei i ei eiga fil. Lista over terminnummer har eg henta i `terminar.ipynb`:"
   ]
  },
  {
   "cell_type": "code",
   "execution_count": 4,
   "metadata": {},
   "outputs": [],
   "source": [
    "avslutt_semestre = [2,  6,  7,  8,  12,  13,  14,  15,  16,  17,  18,  19,  20,  21,  22,  23,  24,  25,  26,  27,  28,  29, 30,  31,  32,  33,  34,  35,  36,  39,  40,  41,  73,  74,  75,  76,  77,  79,  81,  82,  83,  84,  85,  86,  87,  88,  90,  91,  92,  93,  196,  197,  198,  199,  200,  202,  203,  204,  205,  208,  209,  210,  212,  215,  220,  11] \n",
    "alledata[alledata['enrollment_term_id'].isin(avslutt_semestre)].to_csv(\"alle_emne_som _er _avslutta_250407.csv\", index=False)"
   ]
  },
  {
   "cell_type": "markdown",
   "metadata": {},
   "source": [
    "### Endre status\n",
    "\n",
    "Dette bør eg kanskje ikkje gjere \"sånn med ein gang\" - eg bør varsle alle tilsette om at emne dei har hatt tilgang til no vert avslutta, og dermed flytta til filarkivet?\n",
    "\n",
    "Men det er ikkje så viktig; dei aller, aller fleste tilsette er no vande med at emne dei har hatt før skal bli avslutta. Og eg ser berre på emne som har SIS-ID som starter på \"UE\" eller \"UA\".\n",
    "\n",
    "Så eg kan gjere følgjande:\n",
    "\n",
    "1. Gå gjennom alle emne i lista over \"forelda\"\n",
    "2. Sjekk om emne har SIS-ID som starter på \"UE\" eller \"UA\"\n",
    "3. Hvis ja, set alle påmeldingar til \"concluded\"\n",
    "\n"
   ]
  },
  {
   "cell_type": "code",
   "execution_count": null,
   "metadata": {},
   "outputs": [],
   "source": [
    "emne = pd.read_csv(\"alle_emne_som _er _avslutta_250407.csv\")\n",
    "emneliste = []\n",
    "params = {'per_page': 100}\n",
    "for i, row in emne.iterrows():\n",
    "    id = int(row['id'])\n",
    "    url = f\"https://hvl.instructure.com/api/v1/courses/{id}\"\n",
    "    resultat = requests.get(url, headers=headers, params=params)\n",
    "    print(id, resultat.status_code)\n",
    "    data = resultat.json()\n",
    "    if 'sis_course_id' in data and data['sis_course_id'] is not None and data['sis_course_id'].startswith((\"UA\", \"UE\")):\n",
    "        print(data['sis_course_id'])\n",
    "        emneliste.append([data['id'], data['workflow_state'], data['sis_course_id']])"
   ]
  },
  {
   "cell_type": "code",
   "execution_count": null,
   "metadata": {},
   "outputs": [],
   "source": [
    "len(emne) - len(emneliste)"
   ]
  },
  {
   "cell_type": "markdown",
   "metadata": {},
   "source": [
    "## Testkanin\n",
    "Eg prøver eit tilfeldig valgt emne frå våren 2018; der er det ein lærar inne (Dag Digernes) men ein haug med studentar. Eg set emnet inaktivt, og ser kva konsekvensar det får for læraren. Ein mistanke eg har er at han ikkje lengre kan kopiere frå emnet, men den viser seg å vere ugrunna. Det einaste som skjer er at han mister emnet frå dashbordet (dersom han hadde det der)."
   ]
  },
  {
   "cell_type": "code",
   "execution_count": null,
   "metadata": {},
   "outputs": [],
   "source": [
    "emnekode = 228\n",
    "url = f\"https://hvl.instructure.com/api/v1/courses/{emnekode}\"\n",
    "params = {'course[event]': 'conclude'}\n",
    "respons = requests.put(url, headers=headers, params=params)\n",
    "respons.json()"
   ]
  },
  {
   "cell_type": "markdown",
   "metadata": {},
   "source": [
    "## Vidare arbeid\n",
    "Eg lagrar lista over emna i ei fil, og så ser eg kva vi gjer med  desse etter å ha diskutert med dei andre."
   ]
  },
  {
   "cell_type": "code",
   "execution_count": null,
   "metadata": {},
   "outputs": [],
   "source": [
    "df = pd.DataFrame(emneliste, columns=[\"id\", \"status\", \"sis_course_id\"])\n",
    "df.to_csv(\"emneliste.csv\", index=False)\n",
    "df['status'].value_counts()"
   ]
  },
  {
   "cell_type": "markdown",
   "metadata": {},
   "source": [
    "Det er altså 8948 emne som er publisert. Kor mange av desse som har lærarar/studentar som er lagt innn manuelt er vanskeleg å sei utan å gå gjennom alle. Men vi har jo grunnar til å setje status til \"concluded\" for desse."
   ]
  }
 ],
 "metadata": {
  "kernelspec": {
   "display_name": "Python 3",
   "language": "python",
   "name": "python3"
  },
  "language_info": {
   "codemirror_mode": {
    "name": "ipython",
    "version": 3
   },
   "file_extension": ".py",
   "mimetype": "text/x-python",
   "name": "python",
   "nbconvert_exporter": "python",
   "pygments_lexer": "ipython3",
   "version": "3.12.3"
  }
 },
 "nbformat": 4,
 "nbformat_minor": 2
}
