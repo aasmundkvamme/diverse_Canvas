{
 "cells": [
  {
   "cell_type": "code",
   "execution_count": 5,
   "id": "2cedf287",
   "metadata": {},
   "outputs": [],
   "source": [
    "import pandas as pd"
   ]
  },
  {
   "cell_type": "code",
   "execution_count": 9,
   "id": "419c0596",
   "metadata": {},
   "outputs": [],
   "source": [
    "data = pd.read_csv(\"deaktiver1.csv\")"
   ]
  },
  {
   "cell_type": "code",
   "execution_count": 10,
   "id": "ac21c39a",
   "metadata": {},
   "outputs": [
    {
     "name": "stdout",
     "output_type": "stream",
     "text": [
      "<class 'pandas.core.frame.DataFrame'>\n",
      "RangeIndex: 834 entries, 0 to 833\n",
      "Data columns (total 4 columns):\n",
      " #   Column      Non-Null Count  Dtype \n",
      "---  ------      --------------  ----- \n",
      " 0   user_id     834 non-null    object\n",
      " 1   section_id  586 non-null    object\n",
      " 2   role        834 non-null    object\n",
      " 3   status      834 non-null    object\n",
      "dtypes: object(4)\n",
      "memory usage: 26.2+ KB\n"
     ]
    }
   ],
   "source": [
    "data.info()"
   ]
  },
  {
   "cell_type": "code",
   "execution_count": 11,
   "id": "65f482ff",
   "metadata": {},
   "outputs": [
    {
     "data": {
      "text/plain": [
       "section_id\n",
       "UA_203_SYKF250_1_2024_VÅR_1_1     52\n",
       "UA_203_SYKF330P_1_2024_VÅR_1_1    35\n",
       "UA_203_SYKF230P_1_2024_VÅR_1_1    34\n",
       "UA_203_SYKF220P_1_2024_VÅR_1_1    30\n",
       "UE_203_SYKH230P_1_2024_VÅR_1      25\n",
       "                                  ..\n",
       "UE_203_MASO510_1_2023_HØST_1       1\n",
       "UE_203_MAS503_1_2023_HØST_1        1\n",
       "UA_203_MSS500_1_2023_HØST_1_7      1\n",
       "UE_203_MAS541_1_2023_HØST_1        1\n",
       "UE_203_MAFYS502_1_2023_HØST_1      1\n",
       "Name: count, Length: 87, dtype: int64"
      ]
     },
     "execution_count": 11,
     "metadata": {},
     "output_type": "execute_result"
    }
   ],
   "source": [
    "data['section_id'].value_counts()"
   ]
  },
  {
   "cell_type": "code",
   "execution_count": null,
   "id": "e774186b",
   "metadata": {},
   "outputs": [],
   "source": []
  }
 ],
 "metadata": {
  "kernelspec": {
   "display_name": "Python 3",
   "language": "python",
   "name": "python3"
  },
  "language_info": {
   "codemirror_mode": {
    "name": "ipython",
    "version": 3
   },
   "file_extension": ".py",
   "mimetype": "text/x-python",
   "name": "python",
   "nbconvert_exporter": "python",
   "pygments_lexer": "ipython3",
   "version": "3.12.3"
  }
 },
 "nbformat": 4,
 "nbformat_minor": 5
}
