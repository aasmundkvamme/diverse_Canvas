{
 "cells": [
  {
   "cell_type": "code",
   "execution_count": 1,
   "id": "902b4372-0b0e-4dcd-bd5e-3792cb6a16df",
   "metadata": {},
   "outputs": [],
   "source": [
    "import requests\n",
    "import os\n",
    "import pandas as pd\n",
    "tokenCanvas = os.environ['tokenCanvas']\n",
    "\n",
    "headers = {\n",
    "    'Authorization': f'Bearer {tokenCanvas}',\n",
    "}\n",
    "params = {\n",
    "    'per_page': 100,\n",
    "}\n"
   ]
  },
  {
   "cell_type": "code",
   "execution_count": 15,
   "id": "24bfae0c-b106-4e8e-9931-1668845e09f0",
   "metadata": {},
   "outputs": [],
   "source": [
    "emne = \"KU_MGBBE_2021_HØST\"\n",
    "url = f\"https://hvl.instructure.com/api/v1/accounts/1?search_term={emne}\"\n",
    "respons = requests.get(url, headers=headers, params=params)\n",
    "if 200 <= respons.status_code < 300:\n",
    "    data = respons.json()"
   ]
  },
  {
   "cell_type": "code",
   "execution_count": 16,
   "id": "2a63db52-0ef9-457d-97da-0e2423aea057",
   "metadata": {},
   "outputs": [
    {
     "data": {
      "text/plain": [
       "{'id': 1,\n",
       " 'name': 'Høgskulen på Vestlandet',\n",
       " 'workflow_state': 'active',\n",
       " 'parent_account_id': None,\n",
       " 'root_account_id': None,\n",
       " 'uuid': 'KjYXFlWyqIP306jMLrOxOE6QSU1S8oF5m5tfbXyd',\n",
       " 'default_storage_quota_mb': 524,\n",
       " 'default_user_storage_quota_mb': 524,\n",
       " 'default_group_storage_quota_mb': 524,\n",
       " 'default_time_zone': 'Europe/Copenhagen',\n",
       " 'course_template_id': None}"
      ]
     },
     "execution_count": 16,
     "metadata": {},
     "output_type": "execute_result"
    }
   ],
   "source": [
    "data"
   ]
  },
  {
   "cell_type": "code",
   "execution_count": 17,
   "id": "ec7be77c-ed81-45c0-8785-ef5489690d4d",
   "metadata": {},
   "outputs": [
    {
     "data": {
      "text/plain": [
       "'https://hvl.instructure.com/api/v1/accounts/1?search_term=KU_MGBBE_2021_HØST'"
      ]
     },
     "execution_count": 17,
     "metadata": {},
     "output_type": "execute_result"
    }
   ],
   "source": [
    "url"
   ]
  },
  {
   "cell_type": "code",
   "execution_count": null,
   "id": "565c5e19-1ba7-4d3a-81aa-370895d4be7b",
   "metadata": {},
   "outputs": [],
   "source": []
  }
 ],
 "metadata": {
  "kernelspec": {
   "display_name": "Python 3 (ipykernel)",
   "language": "python",
   "name": "python3"
  },
  "language_info": {
   "codemirror_mode": {
    "name": "ipython",
    "version": 3
   },
   "file_extension": ".py",
   "mimetype": "text/x-python",
   "name": "python",
   "nbconvert_exporter": "python",
   "pygments_lexer": "ipython3",
   "version": "3.12.3"
  }
 },
 "nbformat": 4,
 "nbformat_minor": 5
}
