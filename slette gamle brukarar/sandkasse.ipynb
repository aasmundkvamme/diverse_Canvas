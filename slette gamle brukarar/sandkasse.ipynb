{
 "cells": [
  {
   "cell_type": "code",
   "execution_count": 6,
   "metadata": {},
   "outputs": [],
   "source": [
    "import requests\n",
    "import os\n",
    "import pandas as pd\n",
    "tokenCanvas = os.environ['tokenCanvas']\n",
    "\n",
    "headers = {\n",
    "    'Authorization': f'Bearer {tokenCanvas}',\n",
    "}\n",
    "params = {\n",
    "    'per_page': 100,\n",
    "    'sort': 'last_login',\n",
    "}\n",
    "\n",
    "def finn_rel(link_header):\n",
    "    link_header_dict = {}\n",
    "    for link in link_header.split(\",\"):\n",
    "        url, rel = link.strip().split(\";\")\n",
    "        rel = rel.split('=')[1]\n",
    "        link_header_dict[rel.strip().replace('\"', '')] = url.strip().replace('<', '').replace('>', '')      # Kommentar: denne er med BERRE for å skape balanse i .org-fila: \\\"\n",
    "    return link_header_dict\n",
    "\n",
    "url = \"https://hvl.instructure.com/api/v1/accounts/1/users\""
   ]
  },
  {
   "cell_type": "markdown",
   "metadata": {},
   "source": [
    "# Hente siste aktivitet\n",
    "Dette kan vere ein alternativ måte å hente siste aktivitet på: hente alle brukarar via `/api/v1/accounts/1/users` med parameter `'sort': 'last_login'`. Men eg henta dei jo i februar, så eg ser på den først."
   ]
  },
  {
   "cell_type": "code",
   "execution_count": null,
   "metadata": {},
   "outputs": [],
   "source": [
    "dr_liste = []\n",
    "hentmeir = True\n",
    "while hentmeir:\n",
    "    respons = requests.get(url, headers=headers, params=params)\n",
    "    if 200 <= respons.status_code < 300:\n",
    "        data = respons.json()\n",
    "        hentmeir = \"next\" in respons.headers['link']\n",
    "        if hentmeir:\n",
    "            url = finn_rel(respons.headers['link'])['next']\n",
    "            print(url)   # for kontrollen sin skuld\n",
    "        dataliste = []\n",
    "        for element in data:\n",
    "        # ta med alle\n",
    "            dataliste.append(element)\n",
    "        # eller ta ut enkelte kolonner\n",
    "        #     dataliste.append([element['id'], element['name'], element['enrollment_term_id']])\n",
    "        df = pd.DataFrame(dataliste, columns=['id', 'name', 'enrollment_term_id'])\n",
    "        dr_liste.append(df)\n",
    "# og etter at eg er ferdig å lese inn slår eg dei same:\n",
    "alledata = pd.concat((df for df in dr_liste if not df.empty), ignore_index=True)\n"
   ]
  },
  {
   "cell_type": "code",
   "execution_count": null,
   "metadata": {},
   "outputs": [],
   "source": []
  }
 ],
 "metadata": {
  "kernelspec": {
   "display_name": "Python 3",
   "language": "python",
   "name": "python3"
  },
  "language_info": {
   "codemirror_mode": {
    "name": "ipython",
    "version": 3
   },
   "file_extension": ".py",
   "mimetype": "text/x-python",
   "name": "python",
   "nbconvert_exporter": "python",
   "pygments_lexer": "ipython3",
   "version": "3.12.3"
  }
 },
 "nbformat": 4,
 "nbformat_minor": 2
}
