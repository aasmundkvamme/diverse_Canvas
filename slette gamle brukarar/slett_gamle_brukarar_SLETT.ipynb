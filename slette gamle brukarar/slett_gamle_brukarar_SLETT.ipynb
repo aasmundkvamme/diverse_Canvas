{
 "cells": [
  {
   "cell_type": "code",
   "execution_count": 14,
   "metadata": {},
   "outputs": [],
   "source": [
    "import requests\n",
    "import os\n",
    "import pandas as pd\n",
    "tokenCanvas = os.environ['tokenCanvas']\n",
    "\n",
    "headers = {\n",
    "    'Authorization': f'Bearer {tokenCanvas}',\n",
    "}\n",
    "params = {\n",
    "    'per_page': 100,\n",
    "}\n"
   ]
  },
  {
   "cell_type": "markdown",
   "metadata": {},
   "source": [
    "# Slette gamle brukarar\n",
    "Først les eg inn dei som er mest aktuelle å slette i første omgang:\n"
   ]
  },
  {
   "cell_type": "code",
   "execution_count": 15,
   "metadata": {},
   "outputs": [],
   "source": [
    "andre = pd.read_csv(\"andre.csv\")\n",
    "utan_sis = pd.read_csv(\"utan_sis.csv\")\n"
   ]
  },
  {
   "cell_type": "markdown",
   "metadata": {},
   "source": [
    "## Finne sist pålogging\n"
   ]
  },
  {
   "cell_type": "markdown",
   "metadata": {},
   "source": [
    "### Forsøk 1 (ikkje optimalt)\n",
    "Neste steg er tabellen `enrollments`; her får eg feltet `last_activity_at` som i følge dokumentasjonen er \n",
    "\n",
    "> The last activity time of the user for the enrollment. This time stamp updates when a user navigates through the course using the Course Navigation menu, replies to a discussion or submits an assignment or quiz, and when they access course files and pages (does not include mobile interactions or group participation).\n",
    "\n",
    "Det eg får ut er siste gang ein brukar var inne i eit gitt emne. Så eg må sjå på *alle* slike oppføringar for ein brukar, og så plukke ut den yngste. NB! Eg har henta data med skriptet \"les_CD2_tabell.ipynb\", men eg har berre lagra `user_id` og `course_id`. Dokumentasjonen tilrår å sjekke `course_section_id` og `role_id` også, for ein brukar kan jo ha vore logga på som student i eit emne og litt seinare som tilsett (eller studentassistent) i emnet. Men eg trur risikoen for dette er liten (det er jo eksterne faglærarar og kursdeltakarar dette).\n",
    "\n",
    "Eg vil helst gå gjennom lista `utan_sis` og sjekke siste pålogging for alle der (basert på `id`). Alle som har blank eller tidlegare enn 2024 kan eg sikkert slette?"
   ]
  },
  {
   "cell_type": "markdown",
   "metadata": {},
   "source": [
    "### Forsøk 2: \n",
    "Eg prøver så CD2-tabellen \"users\"; den har feltet `last_logged_out`. Eg har tatt eit uttrekk av data etter 1. mai 2025: "
   ]
  },
  {
   "cell_type": "code",
   "execution_count": 4,
   "metadata": {},
   "outputs": [],
   "source": [
    "utlogga = pd.read_csv(\"brukarar_last_logged_out.csv\")"
   ]
  },
  {
   "cell_type": "code",
   "execution_count": null,
   "metadata": {},
   "outputs": [],
   "source": [
    "utlogga.head()"
   ]
  },
  {
   "cell_type": "code",
   "execution_count": null,
   "metadata": {},
   "outputs": [],
   "source": [
    "andre.head()"
   ]
  },
  {
   "cell_type": "code",
   "execution_count": null,
   "metadata": {},
   "outputs": [],
   "source": [
    "utan_sis.head()"
   ]
  },
  {
   "cell_type": "markdown",
   "metadata": {},
   "source": [
    "No er `key.id` og `id` felles nøkkel i alle tabellane, så eg kan gå gjennom alle i ei av `utan_sis` og vise (om dei finst i `utlogga`) dato for sist utlogga: "
   ]
  },
  {
   "cell_type": "code",
   "execution_count": 8,
   "metadata": {},
   "outputs": [],
   "source": [
    "utlogga_utan_sis = pd.merge(utlogga, utan_sis, left_on='key.id', right_on='id', how='right')"
   ]
  },
  {
   "cell_type": "code",
   "execution_count": null,
   "metadata": {},
   "outputs": [],
   "source": [
    "utlogga_utan_sis[utlogga_utan_sis['value.last_logged_out'].notnull()]"
   ]
  },
  {
   "cell_type": "code",
   "execution_count": 10,
   "metadata": {},
   "outputs": [],
   "source": [
    "utlogga_andre = pd.merge(utlogga, andre, left_on='key.id', right_on='id', how='right')"
   ]
  },
  {
   "cell_type": "code",
   "execution_count": null,
   "metadata": {},
   "outputs": [],
   "source": [
    "utlogga_andre[utlogga_andre['value.last_logged_out'].notnull()]"
   ]
  },
  {
   "cell_type": "code",
   "execution_count": 12,
   "metadata": {},
   "outputs": [],
   "source": [
    "eldre = utlogga_andre[utlogga_andre['value.last_logged_out'] < '2024-01-01']"
   ]
  },
  {
   "cell_type": "code",
   "execution_count": null,
   "metadata": {},
   "outputs": [],
   "source": [
    "eldre"
   ]
  },
  {
   "cell_type": "markdown",
   "metadata": {},
   "source": [
    "Konklusjon: det ser ut som at det er veldig vanskeleg å finne noko her. Så det kan hende eg må gå tilbakee til å sjekke siste aktivitet i kvart emne :-("
   ]
  },
  {
   "cell_type": "markdown",
   "metadata": {},
   "source": [
    "### Forsøk 3 (forsøk 1 ein gang til)\n",
    "\n",
    "Eg må altså ta utgangspunkt i listene `utan_sis` og  `andre`, og så finne alle enrollments for dei personane. `enrollments` kan eg finne via CD2.\n",
    "\n",
    "I fila `enrollments.csv` har eg ei liste over person/emne/siste aktivitet, og då kan eg koble denne mot `utan_sis` og `andre`."
   ]
  },
  {
   "cell_type": "markdown",
   "metadata": {},
   "source": []
  }
 ],
 "metadata": {
  "kernelspec": {
   "display_name": "Python 3",
   "language": "python",
   "name": "python3"
  },
  "language_info": {
   "codemirror_mode": {
    "name": "ipython",
    "version": 3
   },
   "file_extension": ".py",
   "mimetype": "text/x-python",
   "name": "python",
   "nbconvert_exporter": "python",
   "pygments_lexer": "ipython3",
   "version": "3.12.3"
  }
 },
 "nbformat": 4,
 "nbformat_minor": 2
}
