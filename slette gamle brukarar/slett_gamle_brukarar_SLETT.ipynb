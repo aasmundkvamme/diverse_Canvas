{
 "cells": [
  {
   "cell_type": "code",
   "execution_count": 1,
   "metadata": {},
   "outputs": [],
   "source": [
    "import requests\n",
    "import os\n",
    "import pandas as pd\n",
    "tokenCanvas = os.environ['tokenCanvas']\n",
    "\n",
    "headers = {\n",
    "    'Authorization': f'Bearer {tokenCanvas}',\n",
    "}\n",
    "params = {\n",
    "    'per_page': 100,\n",
    "}\n",
    "url = \"https://hvl.instructure.com/api/v1/accounts/1/users\"\n",
    "\n",
    "def finn_rel(link_header):\n",
    "    link_header_dict = {}\n",
    "    for link in link_header.split(\",\"):\n",
    "        url, rel = link.strip().split(\";\")\n",
    "        rel = rel.split('=')[1]\n",
    "        link_header_dict[rel.strip().replace('\"', '')] = url.strip().replace('<', '').replace('>', '')      # Kommentar: denne er med BERRE for å skape balanse i .org-fila: \\\"\n",
    "    return link_header_dict\n"
   ]
  },
  {
   "cell_type": "markdown",
   "metadata": {},
   "source": [
    "# Slette gamle brukarar\n",
    "Først les eg inn dei som er mest aktuelle å slette i første omgang:\n"
   ]
  },
  {
   "cell_type": "code",
   "execution_count": 3,
   "metadata": {},
   "outputs": [],
   "source": [
    "andre = pd.read_csv(\"andre.csv\")\n",
    "utan_sis = pd.read_csv(\"utan_sis.csv\")\n"
   ]
  },
  {
   "cell_type": "markdown",
   "metadata": {},
   "source": [
    "## Finne sist pålogging\n",
    "No kjem det vanskeleg arbeidet: å finne \"siste pålogging\" for kvar av desse? \n",
    "\n",
    "Eg kan prøve med endepunktet `/api/v1/users/:user_id/logins`: "
   ]
  },
  {
   "cell_type": "code",
   "execution_count": 4,
   "metadata": {},
   "outputs": [
    {
     "name": "stdout",
     "output_type": "stream",
     "text": [
      "95471\n"
     ]
    },
    {
     "data": {
      "text/plain": [
       "[{'id': 95984,\n",
       "  'user_id': 95471,\n",
       "  'account_id': 1,\n",
       "  'workflow_state': 'active',\n",
       "  'unique_id': 'daa015@uib.no',\n",
       "  'created_at': '2023-08-07T07:26:50Z',\n",
       "  'sis_user_id': 'hvl230807-p1-akv',\n",
       "  'integration_id': None,\n",
       "  'authentication_provider_id': None,\n",
       "  'declared_user_type': None}]"
      ]
     },
     "execution_count": 4,
     "metadata": {},
     "output_type": "execute_result"
    }
   ],
   "source": [
    "user_id = andre.iloc[-1]['id']\n",
    "print(user_id)\n",
    "url = f\"https://hvl.instructure.com/api/v1/users/{user_id}/logins\"\n",
    "resultat = requests.get(url, headers=headers)\n",
    "resultat.json()"
   ]
  },
  {
   "cell_type": "markdown",
   "metadata": {},
   "source": [
    "Den ga meg fint lite, i alle fall ikkje det som står i dokumentasjonen. \n",
    "\n",
    "Neste steg er tabellen `enrollments`; her får eg feltet `last_activity_at` som i følge dokumentasjonen er \n",
    "\n",
    "> The last activity time of the user for the enrollment. This time stamp updates when a user navigates through the course using the Course Navigation menu, replies to a discussion or submits an assignment or quiz, and when they access course files and pages (does not include mobile interactions or group participation).\n",
    "\n",
    "Det eg får ut er siste gang ein brukar var inne i eit gitt emne. Så eg må sjå på *alle* slike oppføringar for ein brukar, og så plukke ut den yngste. NB! Eg har henta data med skriptet \"les_CD2_tabell.ipynb\", men eg har berre lagra `user_id` og `course_id`. Dokumentasjonen tilrår å sjekke `course_section_id` og `role_id` også, for ein brukar kan jo ha vore logga på som student i eit emne og litt seinare som tilsett (eller studentassistent) i emnet. Men eg trur risikoen for dette er liten (det er jo eksterne faglærarar og kursdeltakarar dette)."
   ]
  },
  {
   "cell_type": "code",
   "execution_count": 6,
   "metadata": {},
   "outputs": [
    {
     "name": "stdout",
     "output_type": "stream",
     "text": [
      "<class 'pandas.core.frame.DataFrame'>\n",
      "RangeIndex: 302226 entries, 0 to 302225\n",
      "Data columns (total 3 columns):\n",
      " #   Column                  Non-Null Count   Dtype \n",
      "---  ------                  --------------   ----- \n",
      " 0   value.user_id           302226 non-null  int64 \n",
      " 1   value.course_id         302226 non-null  int64 \n",
      " 2   value.last_activity_at  223576 non-null  object\n",
      "dtypes: int64(2), object(1)\n",
      "memory usage: 6.9+ MB\n"
     ]
    }
   ],
   "source": [
    "data = pd.read_csv('brukarar_last_activity_at.csv')\n",
    "data.info()"
   ]
  },
  {
   "cell_type": "code",
   "execution_count": 7,
   "metadata": {},
   "outputs": [
    {
     "data": {
      "text/html": [
       "<div>\n",
       "<style scoped>\n",
       "    .dataframe tbody tr th:only-of-type {\n",
       "        vertical-align: middle;\n",
       "    }\n",
       "\n",
       "    .dataframe tbody tr th {\n",
       "        vertical-align: top;\n",
       "    }\n",
       "\n",
       "    .dataframe thead th {\n",
       "        text-align: right;\n",
       "    }\n",
       "</style>\n",
       "<table border=\"1\" class=\"dataframe\">\n",
       "  <thead>\n",
       "    <tr style=\"text-align: right;\">\n",
       "      <th></th>\n",
       "      <th>id</th>\n",
       "      <th>name</th>\n",
       "      <th>sis_user_id</th>\n",
       "      <th>created_at</th>\n",
       "    </tr>\n",
       "  </thead>\n",
       "  <tbody>\n",
       "    <tr>\n",
       "      <th>0</th>\n",
       "      <td>1206</td>\n",
       "      <td>Katrine  Abelsen</td>\n",
       "      <td>NaN</td>\n",
       "      <td>2017-11-06T13:36:18+01:00</td>\n",
       "    </tr>\n",
       "    <tr>\n",
       "      <th>1</th>\n",
       "      <td>1207</td>\n",
       "      <td>Enok  Abrahamsen</td>\n",
       "      <td>NaN</td>\n",
       "      <td>2017-11-06T13:36:38+01:00</td>\n",
       "    </tr>\n",
       "    <tr>\n",
       "      <th>2</th>\n",
       "      <td>27329</td>\n",
       "      <td>ACS</td>\n",
       "      <td>NaN</td>\n",
       "      <td>2018-10-15T15:45:01+02:00</td>\n",
       "    </tr>\n",
       "    <tr>\n",
       "      <th>3</th>\n",
       "      <td>102310000000076186</td>\n",
       "      <td>Sumaya Mohammed Adan</td>\n",
       "      <td>NaN</td>\n",
       "      <td>2021-07-27T03:07:42+02:00</td>\n",
       "    </tr>\n",
       "    <tr>\n",
       "      <th>4</th>\n",
       "      <td>12788</td>\n",
       "      <td>Najma ahmed</td>\n",
       "      <td>NaN</td>\n",
       "      <td>2018-04-23T22:08:08+02:00</td>\n",
       "    </tr>\n",
       "    <tr>\n",
       "      <th>...</th>\n",
       "      <td>...</td>\n",
       "      <td>...</td>\n",
       "      <td>...</td>\n",
       "      <td>...</td>\n",
       "    </tr>\n",
       "    <tr>\n",
       "      <th>580</th>\n",
       "      <td>1288</td>\n",
       "      <td>Katrine (stud1) Aasekjær</td>\n",
       "      <td>NaN</td>\n",
       "      <td>2017-11-14T10:37:32+01:00</td>\n",
       "    </tr>\n",
       "    <tr>\n",
       "      <th>581</th>\n",
       "      <td>1289</td>\n",
       "      <td>Katrine (stud2) Aasekjær</td>\n",
       "      <td>NaN</td>\n",
       "      <td>2017-11-14T10:44:12+01:00</td>\n",
       "    </tr>\n",
       "    <tr>\n",
       "      <th>582</th>\n",
       "      <td>1290</td>\n",
       "      <td>Katrine (stud3) Aasekjær</td>\n",
       "      <td>NaN</td>\n",
       "      <td>2017-11-14T10:44:51+01:00</td>\n",
       "    </tr>\n",
       "    <tr>\n",
       "      <th>583</th>\n",
       "      <td>54983</td>\n",
       "      <td>Kariann Haaland Aasland</td>\n",
       "      <td>NaN</td>\n",
       "      <td>2020-12-03T13:58:45+01:00</td>\n",
       "    </tr>\n",
       "    <tr>\n",
       "      <th>584</th>\n",
       "      <td>102310000000087506</td>\n",
       "      <td>Anne Åsødegård</td>\n",
       "      <td>NaN</td>\n",
       "      <td>2022-07-27T16:01:48+02:00</td>\n",
       "    </tr>\n",
       "  </tbody>\n",
       "</table>\n",
       "<p>585 rows × 4 columns</p>\n",
       "</div>"
      ],
      "text/plain": [
       "                     id                      name  sis_user_id  \\\n",
       "0                  1206          Katrine  Abelsen          NaN   \n",
       "1                  1207          Enok  Abrahamsen          NaN   \n",
       "2                 27329                       ACS          NaN   \n",
       "3    102310000000076186      Sumaya Mohammed Adan          NaN   \n",
       "4                 12788               Najma ahmed          NaN   \n",
       "..                  ...                       ...          ...   \n",
       "580                1288  Katrine (stud1) Aasekjær          NaN   \n",
       "581                1289  Katrine (stud2) Aasekjær          NaN   \n",
       "582                1290  Katrine (stud3) Aasekjær          NaN   \n",
       "583               54983   Kariann Haaland Aasland          NaN   \n",
       "584  102310000000087506            Anne Åsødegård          NaN   \n",
       "\n",
       "                    created_at  \n",
       "0    2017-11-06T13:36:18+01:00  \n",
       "1    2017-11-06T13:36:38+01:00  \n",
       "2    2018-10-15T15:45:01+02:00  \n",
       "3    2021-07-27T03:07:42+02:00  \n",
       "4    2018-04-23T22:08:08+02:00  \n",
       "..                         ...  \n",
       "580  2017-11-14T10:37:32+01:00  \n",
       "581  2017-11-14T10:44:12+01:00  \n",
       "582  2017-11-14T10:44:51+01:00  \n",
       "583  2020-12-03T13:58:45+01:00  \n",
       "584  2022-07-27T16:01:48+02:00  \n",
       "\n",
       "[585 rows x 4 columns]"
      ]
     },
     "execution_count": 7,
     "metadata": {},
     "output_type": "execute_result"
    }
   ],
   "source": [
    "utan_sis"
   ]
  },
  {
   "cell_type": "markdown",
   "metadata": {},
   "source": [
    "Eg vil helst gå gjennom lista `utan_sis` og sjekke siste pålogging for alle der (basert på `id`). Alle som har blank eller tidlegare enn 2024 kan eg sikkert slette?"
   ]
  },
  {
   "cell_type": "code",
   "execution_count": 17,
   "metadata": {},
   "outputs": [
    {
     "name": "stdout",
     "output_type": "stream",
     "text": [
      "812:         value.user_id  value.course_id value.last_activity_at\n",
      "125927            812              576                    NaN\n",
      "96676:         value.user_id  value.course_id    value.last_activity_at\n",
      "289170          96676            30265  2025-02-19T07:57:51.077Z\n",
      "816:         value.user_id  value.course_id value.last_activity_at\n",
      "125919            816              576                    NaN\n",
      "684:         value.user_id  value.course_id value.last_activity_at\n",
      "125473            684              575                    NaN\n",
      "1506:        value.user_id  value.course_id value.last_activity_at\n",
      "63923           1506              575                    NaN\n",
      "829:         value.user_id  value.course_id value.last_activity_at\n",
      "125999            829              576                    NaN\n",
      "833:         value.user_id  value.course_id value.last_activity_at\n",
      "126005            833              576                    NaN\n",
      "837:         value.user_id  value.course_id value.last_activity_at\n",
      "125989            837              576                    NaN\n",
      "1278:        value.user_id  value.course_id    value.last_activity_at\n",
      "13404           1278             7177  2025-02-06T12:56:46.718Z\n",
      "19031           1278             7177  2025-02-06T12:56:46.718Z\n",
      "838:         value.user_id  value.course_id value.last_activity_at\n",
      "125988            838              576                    NaN\n",
      "27091:         value.user_id  value.course_id value.last_activity_at\n",
      "247002          27091            28688                    NaN\n",
      "859:         value.user_id  value.course_id value.last_activity_at\n",
      "126029            859              576                    NaN\n",
      "861:         value.user_id  value.course_id value.last_activity_at\n",
      "126025            861              576                    NaN\n",
      "862:         value.user_id  value.course_id value.last_activity_at\n",
      "126016            862              576                    NaN\n",
      "700:         value.user_id  value.course_id value.last_activity_at\n",
      "125704            700              575                    NaN\n",
      "30401:        value.user_id  value.course_id    value.last_activity_at\n",
      "50646          30401             6734  2025-02-06T09:38:03.532Z\n",
      "17106:        value.user_id  value.course_id value.last_activity_at\n",
      "74823          17106              576                    NaN\n",
      "121430000000079204:              value.user_id  value.course_id    value.last_activity_at\n",
      "253835  121430000000079204            28981  2024-11-14T12:37:56.536Z\n",
      "254908  121430000000079204            28981                       NaN\n",
      "26921:        value.user_id  value.course_id    value.last_activity_at\n",
      "45057          26921             7233  2022-05-10T12:48:05.978Z\n",
      "69882          26921             7233                       NaN\n",
      "69887          26921             7233                       NaN\n",
      "25933:        value.user_id  value.course_id    value.last_activity_at\n",
      "45055          25933             7233  2018-09-20T08:39:55.534Z\n",
      "69883          25933             7233                       NaN\n",
      "69888          25933             7233                       NaN\n",
      "27211:        value.user_id  value.course_id value.last_activity_at\n",
      "48103          27211              576                    NaN\n",
      "738:         value.user_id  value.course_id value.last_activity_at\n",
      "125673            738              575                    NaN\n"
     ]
    }
   ],
   "source": [
    "for id in utan_sis['id']:\n",
    "    if len(data[data['value.user_id']==id])>0:\n",
    "        print(f\"{id}: {data[data['value.user_id']==id]}\")"
   ]
  },
  {
   "cell_type": "code",
   "execution_count": null,
   "metadata": {},
   "outputs": [],
   "source": []
  }
 ],
 "metadata": {
  "kernelspec": {
   "display_name": "Python 3",
   "language": "python",
   "name": "python3"
  },
  "language_info": {
   "codemirror_mode": {
    "name": "ipython",
    "version": 3
   },
   "file_extension": ".py",
   "mimetype": "text/x-python",
   "name": "python",
   "nbconvert_exporter": "python",
   "pygments_lexer": "ipython3",
   "version": "3.12.3"
  }
 },
 "nbformat": 4,
 "nbformat_minor": 2
}
