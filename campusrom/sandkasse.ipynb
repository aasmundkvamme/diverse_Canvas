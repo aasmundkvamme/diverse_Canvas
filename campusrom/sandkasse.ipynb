{
 "cells": [
  {
   "cell_type": "code",
   "execution_count": 74,
   "metadata": {},
   "outputs": [],
   "source": [
    "import requests\n",
    "import os\n",
    "\n",
    "FSbrukar = os.environ[\"FSbrukar\"]\n",
    "FSpassord = os.environ[\"FSpassord\"]\n",
    "\n",
    "def query_FS_graphql(query, variable):\n",
    "    hode = {\n",
    "        'Accept': 'application/graphql-response+json',\n",
    "        # 'Accept': 'application/json;version=1',\n",
    "        \"Content-Type\": \"application/json\",\n",
    "        \"Feature-Flags\": \"beta, experimental\"\n",
    "    }\n",
    "    GraphQLurl = \"https://api.fellesstudentsystem.no/graphql/\"\n",
    "    svar = requests.post(\n",
    "        GraphQLurl, \n",
    "        json = {\n",
    "            'query': query,\n",
    "            'variables': variable\n",
    "        },\n",
    "        headers=hode,\n",
    "        auth=('hvl_canvas', 'h0v3L3rr3T'),\n",
    "        # auth=('hvl_canvas', 'h0v3L3rr3T')\n",
    "        )\n",
    "    if 200 <= svar.status_code < 300:\n",
    "        return svar.json()\n",
    "    else:\n",
    "        return "
   ]
  },
  {
   "cell_type": "code",
   "execution_count": 75,
   "metadata": {},
   "outputs": [
    {
     "name": "stdout",
     "output_type": "stream",
     "text": [
      "hvl_canvas h0v3L3rr3t\n"
     ]
    }
   ],
   "source": [
    "print(FSbrukar, FSpassord)"
   ]
  },
  {
   "cell_type": "code",
   "execution_count": 76,
   "metadata": {},
   "outputs": [],
   "source": [
    "query = \"\"\"\n",
    "query campus_studentar($first: Int, $etter: String!) {\n",
    "  campuser(filter: {eierOrganisasjonskode: \"0203\"}) {\n",
    "    nodes {\n",
    "      kode\n",
    "      programStudieretter(\n",
    "        filter: {aktivStatus: AKTIV}\n",
    "        first: $first\n",
    "        after: $etter\n",
    "      ) {\n",
    "        nodes {\n",
    "          student {\n",
    "            feideBruker\n",
    "          }\n",
    "        }\n",
    "        pageInfo {\n",
    "          endCursor\n",
    "          hasNextPage\n",
    "        }\n",
    "      }\n",
    "    }\n",
    "  }\n",
    "}\n",
    "\"\"\""
   ]
  },
  {
   "cell_type": "code",
   "execution_count": 79,
   "metadata": {},
   "outputs": [
    {
     "ename": "KeyError",
     "evalue": "'pageInfo'",
     "output_type": "error",
     "traceback": [
      "\u001b[1;31m---------------------------------------------------------------------------\u001b[0m",
      "\u001b[1;31mKeyError\u001b[0m                                  Traceback (most recent call last)",
      "Cell \u001b[1;32mIn[79], line 10\u001b[0m\n\u001b[0;32m      5\u001b[0m variable \u001b[38;5;241m=\u001b[39m {\n\u001b[0;32m      6\u001b[0m \u001b[38;5;124m'\u001b[39m\u001b[38;5;124mantal\u001b[39m\u001b[38;5;124m'\u001b[39m: antal,\n\u001b[0;32m      7\u001b[0m \u001b[38;5;124m'\u001b[39m\u001b[38;5;124metter\u001b[39m\u001b[38;5;124m'\u001b[39m: etter,\n\u001b[0;32m      8\u001b[0m }\n\u001b[0;32m      9\u001b[0m svar \u001b[38;5;241m=\u001b[39m query_FS_graphql(query, variable)\n\u001b[1;32m---> 10\u001b[0m etter \u001b[38;5;241m=\u001b[39m \u001b[43msvar\u001b[49m\u001b[43m[\u001b[49m\u001b[38;5;124;43m'\u001b[39;49m\u001b[38;5;124;43mdata\u001b[39;49m\u001b[38;5;124;43m'\u001b[39;49m\u001b[43m]\u001b[49m\u001b[43m[\u001b[49m\u001b[38;5;124;43m'\u001b[39;49m\u001b[38;5;124;43mcampuser\u001b[39;49m\u001b[38;5;124;43m'\u001b[39;49m\u001b[43m]\u001b[49m\u001b[43m[\u001b[49m\u001b[38;5;124;43m'\u001b[39;49m\u001b[38;5;124;43mpageInfo\u001b[39;49m\u001b[38;5;124;43m'\u001b[39;49m\u001b[43m]\u001b[49m[\u001b[38;5;124m'\u001b[39m\u001b[38;5;124mendCursor\u001b[39m\u001b[38;5;124m'\u001b[39m]\n\u001b[0;32m     11\u001b[0m hentmeir \u001b[38;5;241m=\u001b[39m \u001b[38;5;28;01mFalse\u001b[39;00m\n",
      "\u001b[1;31mKeyError\u001b[0m: 'pageInfo'"
     ]
    }
   ],
   "source": [
    "etter = \"\"\n",
    "antal = 10\n",
    "hentmeir = True\n",
    "while hentmeir:\n",
    "    variable = {\n",
    "    'antal': antal,\n",
    "    'etter': etter,\n",
    "    }\n",
    "    svar = query_FS_graphql(query, variable)\n",
    "    etter = svar['data']['campuser']['pageInfo']['endCursor']\n",
    "    hentmeir = False"
   ]
  },
  {
   "cell_type": "code",
   "execution_count": 78,
   "metadata": {},
   "outputs": [
    {
     "data": {
      "text/plain": [
       "{'data': {'campuser': {'nodes': [{'kode': 'BERGEN',\n",
       "     'programStudieretter': {'nodes': [{'student': {'feideBruker': '918094@hvl.no'}},\n",
       "       {'student': {'feideBruker': 'gtha@hvl.no'}},\n",
       "       {'student': {'feideBruker': '978673@hvl.no'}},\n",
       "       {'student': {'feideBruker': '908031@hvl.no'}},\n",
       "       {'student': {'feideBruker': '958177@hvl.no'}},\n",
       "       {'student': {'feideBruker': 'jhau@hvl.no'}},\n",
       "       {'student': {'feideBruker': '978238@hvl.no'}},\n",
       "       {'student': {'feideBruker': 'kheg@hvl.no'}},\n",
       "       {'student': {'feideBruker': 'bimo@hvl.no'}},\n",
       "       {'student': {'feideBruker': '964046@hvl.no'}}],\n",
       "      'pageInfo': {'endCursor': 'WzIwMywxMDUzLCJWSlVSSSIsIlbDhVIiLDIwMjVd',\n",
       "       'hasNextPage': True}}},\n",
       "    {'kode': 'FLORO',\n",
       "     'programStudieretter': {'nodes': [],\n",
       "      'pageInfo': {'endCursor': None, 'hasNextPage': False}}},\n",
       "    {'kode': 'FORDE',\n",
       "     'programStudieretter': {'nodes': [{'student': {'feideBruker': '958390@hvl.no'}},\n",
       "       {'student': {'feideBruker': '958082@hvl.no'}},\n",
       "       {'student': {'feideBruker': '958306@hvl.no'}},\n",
       "       {'student': {'feideBruker': '918122@hvl.no'}},\n",
       "       {'student': {'feideBruker': '958745@hvl.no'}},\n",
       "       {'student': {'feideBruker': '958292@hvl.no'}},\n",
       "       {'student': {'feideBruker': '140889@hvl.no'}},\n",
       "       {'student': {'feideBruker': '990323@hvl.no'}},\n",
       "       {'student': {'feideBruker': '980846@hvl.no'}},\n",
       "       {'student': {'feideBruker': '080231@hvl.no'}}],\n",
       "      'pageInfo': {'endCursor': 'WzIwMywzODc1MSwiTUFETCIsIkjDmFNUIiwyMDIzXQ',\n",
       "       'hasNextPage': True}}},\n",
       "    {'kode': 'HAUGESUND',\n",
       "     'programStudieretter': {'nodes': [{'student': {'feideBruker': '111641@hvl.no'}},\n",
       "       {'student': {'feideBruker': '215859@hvl.no'}},\n",
       "       {'student': {'feideBruker': '675404@hvl.no'}},\n",
       "       {'student': {'feideBruker': '226556@hvl.no'}},\n",
       "       {'student': {'feideBruker': 'krtv@hvl.no'}},\n",
       "       {'student': {'feideBruker': '214487@hvl.no'}},\n",
       "       {'student': {'feideBruker': '235045@hvl.no'}},\n",
       "       {'student': {'feideBruker': '235045@hvl.no'}},\n",
       "       {'student': {'feideBruker': '222538@hvl.no'}},\n",
       "       {'student': {'feideBruker': '143675@hvl.no'}}],\n",
       "      'pageInfo': {'endCursor': 'WzIwMywyMTY3OCwiTFBMIiwiSMOYU1QiLDIwMjRd',\n",
       "       'hasNextPage': True}}},\n",
       "    {'kode': 'KRSUND',\n",
       "     'programStudieretter': {'nodes': [],\n",
       "      'pageInfo': {'endCursor': None, 'hasNextPage': False}}},\n",
       "    {'kode': 'SOGNDAL',\n",
       "     'programStudieretter': {'nodes': [{'student': {'feideBruker': '958373@hvl.no'}},\n",
       "       {'student': {'feideBruker': '938490@hvl.no'}},\n",
       "       {'student': {'feideBruker': 'egn@hvl.no'}},\n",
       "       {'student': {'feideBruker': '968786@hvl.no'}},\n",
       "       {'student': {'feideBruker': '970073@hvl.no'}},\n",
       "       {'student': {'feideBruker': '968133@hvl.no'}},\n",
       "       {'student': {'feideBruker': '671705@hvl.no'}},\n",
       "       {'student': {'feideBruker': '189721@hvl.no'}},\n",
       "       {'student': {'feideBruker': '998554@hvl.no'}},\n",
       "       {'student': {'feideBruker': 'abla@hvl.no'}}],\n",
       "      'pageInfo': {'endCursor': 'WzIwMywxODkzMywiUEhEIiwiSMOYU1QiLDIwMTld',\n",
       "       'hasNextPage': True}}},\n",
       "    {'kode': 'STORD',\n",
       "     'programStudieretter': {'nodes': [{'student': {'feideBruker': 'cdh@hvl.no'}},\n",
       "       {'student': {'feideBruker': 'shamu@hvl.no'}},\n",
       "       {'student': {'feideBruker': '978309@hvl.no'}},\n",
       "       {'student': {'feideBruker': 'hml@hvl.no'}},\n",
       "       {'student': {'feideBruker': 'roo@hvl.no'}},\n",
       "       {'student': {'feideBruker': 'beb@hvl.no'}},\n",
       "       {'student': {'feideBruker': '918120@hvl.no'}},\n",
       "       {'student': {'feideBruker': 'krhj@hvl.no'}},\n",
       "       {'student': {'feideBruker': 'mari@hvl.no'}},\n",
       "       {'student': {'feideBruker': '950038@hvl.no'}}],\n",
       "      'pageInfo': {'endCursor': 'WzIwMyw2Njk2LCJQUFVZUktEIiwiSMOYU1QiLDIwMjNd',\n",
       "       'hasNextPage': True}}}]}}}"
      ]
     },
     "execution_count": 78,
     "metadata": {},
     "output_type": "execute_result"
    }
   ],
   "source": [
    "svar"
   ]
  },
  {
   "cell_type": "code",
   "execution_count": 40,
   "metadata": {},
   "outputs": [
    {
     "data": {
      "text/plain": [
       "<Response [401]>"
      ]
     },
     "execution_count": 40,
     "metadata": {},
     "output_type": "execute_result"
    }
   ],
   "source": [
    "svar"
   ]
  },
  {
   "cell_type": "code",
   "execution_count": null,
   "metadata": {},
   "outputs": [],
   "source": []
  }
 ],
 "metadata": {
  "kernelspec": {
   "display_name": "Python 3",
   "language": "python",
   "name": "python3"
  },
  "language_info": {
   "codemirror_mode": {
    "name": "ipython",
    "version": 3
   },
   "file_extension": ".py",
   "mimetype": "text/x-python",
   "name": "python",
   "nbconvert_exporter": "python",
   "pygments_lexer": "ipython3",
   "version": "3.12.10"
  }
 },
 "nbformat": 4,
 "nbformat_minor": 2
}
