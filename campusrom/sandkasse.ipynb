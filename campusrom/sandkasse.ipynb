{
 "cells": [
  {
   "cell_type": "code",
   "execution_count": 1,
   "metadata": {},
   "outputs": [],
   "source": [
    "import requests\n",
    "import os\n",
    "\n",
    "FSbrukar = os.environ[\"FSbrukar\"]\n",
    "FSpassord = os.environ[\"FSpassord\"]\n",
    "\n",
    "def query_FS_graphql(query, variable):\n",
    "    hode = {\n",
    "        'Accept': 'application/json;version=1',\n",
    "        \"Feature-Flags\": \"beta, experimental\"\n",
    "    }\n",
    "    GraphQLurl = \"https://api.fellesstudentsystem.no/graphql/\"\n",
    "    svar = requests.post(\n",
    "        GraphQLurl, \n",
    "        json = {\n",
    "            'query': query,\n",
    "            'variables': variable\n",
    "        },\n",
    "        headers=hode,\n",
    "        auth=(FSbrukar, FSpassord))\n",
    "    if 200 <= svar.status_code < 300:\n",
    "        return svar.json()\n",
    "    else:\n",
    "        return \n",
    "\n"
   ]
  },
  {
   "cell_type": "code",
   "execution_count": 21,
   "metadata": {},
   "outputs": [],
   "source": [
    "query_campus = \"\"\"\n",
    "query MyQuery($first: Int!, $etter: String!) {\n",
    "  campuser(filter: {eierOrganisasjonskode: \"203\"}) {\n",
    "    nodes {\n",
    "      kode\n",
    "      programStudieretter(filter: {erAktiv: true}, first: $first, after: $etter) {\n",
    "        pageInfo {\n",
    "        endCursor\n",
    "        hasNextPage\n",
    "        }\n",
    "        nodes {\n",
    "          student {\n",
    "            feideBruker\n",
    "          }\n",
    "        }\n",
    "      }\n",
    "    }\n",
    "  }\n",
    "}\n",
    "\"\"\""
   ]
  },
  {
   "cell_type": "markdown",
   "metadata": {},
   "source": [
    "# Hente studentar på campus\n",
    "Problem? Når eg henter så henter eg frå alle campus samtidig (eg kan visst ikkje velje ein bestemt), og då henter eg 100 om gangen. Kva skjer når eg har fleire på ein campus (Bergen) enn på ein annan (Stord)?"
   ]
  },
  {
   "cell_type": "code",
   "execution_count": 22,
   "metadata": {},
   "outputs": [],
   "source": [
    "variable = {'first': 100, 'etter': \"\"}\n",
    "svar = query_FS_graphql(query_campus, variable)"
   ]
  },
  {
   "cell_type": "code",
   "execution_count": 42,
   "metadata": {},
   "outputs": [],
   "source": [
    "studentar = svar['data']['campuser']['nodes'][6]['programStudieretter']['nodes']"
   ]
  },
  {
   "cell_type": "code",
   "execution_count": 44,
   "metadata": {},
   "outputs": [
    {
     "data": {
      "text/plain": [
       "100"
      ]
     },
     "execution_count": 44,
     "metadata": {},
     "output_type": "execute_result"
    }
   ],
   "source": [
    "len(studentar)"
   ]
  },
  {
   "cell_type": "code",
   "execution_count": 35,
   "metadata": {},
   "outputs": [
    {
     "data": {
      "text/plain": [
       "0"
      ]
     },
     "execution_count": 35,
     "metadata": {},
     "output_type": "execute_result"
    }
   ],
   "source": [
    "len(studentar)"
   ]
  },
  {
   "cell_type": "code",
   "execution_count": null,
   "metadata": {},
   "outputs": [],
   "source": []
  }
 ],
 "metadata": {
  "kernelspec": {
   "display_name": "Python 3",
   "language": "python",
   "name": "python3"
  },
  "language_info": {
   "codemirror_mode": {
    "name": "ipython",
    "version": 3
   },
   "file_extension": ".py",
   "mimetype": "text/x-python",
   "name": "python",
   "nbconvert_exporter": "python",
   "pygments_lexer": "ipython3",
   "version": "3.12.3"
  }
 },
 "nbformat": 4,
 "nbformat_minor": 2
}
